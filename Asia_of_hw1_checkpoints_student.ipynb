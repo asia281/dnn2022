{
  "cells": [
    {
      "cell_type": "markdown",
      "metadata": {
        "id": "view-in-github",
        "colab_type": "text"
      },
      "source": [
        "<a href=\"https://colab.research.google.com/github/asia281/dnn2022/blob/main/Asia_of_hw1_checkpoints_student.ipynb\" target=\"_parent\"><img src=\"https://colab.research.google.com/assets/colab-badge.svg\" alt=\"Open In Colab\"/></a>"
      ]
    },
    {
      "cell_type": "markdown",
      "source": [
        "# Checkpointing\n",
        "\n",
        "Your task is to implement checkpointing for a MLP using NumPy.\n",
        "\n",
        "You are free to use the implementation of a MLP and the backpropagation algorithm that you have developed during lab sessions.\n",
        "\n",
        "The key takeaway from this task is that with checkpointing we can trade off the computational resources needed to compute the forward pass of the network for the memory requirement needed to perform a backward pass in the network, which is often a major bottleneck when training large networks. In plain english, we can slightly increase the time required for training our network to save some of our GPU's precious memory.\n",
        "\n",
        "## What is checkpointing?\n",
        "\n",
        "The aim of checkpointing is to save every $n$-th layer's (e.g. every 2-nd layer's) forward result (instead of saving every layer's forward result as in plain backpropagation) and use these checkpoints for recomputing the forward pass of the network upon doing a backward pass. Checkpoint layers are kept in memory after the forward pass, while the remaining activations are recomputed at most once. After being recomputed, the non-checkpoint layers are kept in memory until they are no longer required."
      ],
      "metadata": {
        "collapsed": false,
        "id": "GvE1EOcmTjb9"
      }
    },
    {
      "cell_type": "markdown",
      "source": [
        "# What should be done\n",
        "\n",
        "1. Take the implementation a MLP trained with backpropagation. Analyze the algorithm with respect to the memory that is used by the algorithm with respect to the number of hidden layers.\n",
        "\n",
        "2. Implement a class NetworkWithCheckpointing that inherits from the Network class defined during lab sessions by:\n",
        "    a) implementing a method `forward_between_checkpoints` that will recompute the forward pass of the network using one of the checkpointed layers\n",
        "    b) override the method `backprop` to use only checkpointed layers and otherwise compute the activations using `forward_between_checkpoints` method and keep it in memory until no longer needed.\n",
        "\n",
        "3. Train your network with checkpoinintg on MNIST. Compare running times and memory usage with respect to the network without checkpointing.\n"
      ],
      "metadata": {
        "collapsed": false,
        "id": "v0TLdcCnTjcC"
      }
    },
    {
      "cell_type": "markdown",
      "source": [
        "# Implement Checkpointing for a MLP"
      ],
      "metadata": {
        "collapsed": false,
        "id": "aTR2VeRiTjcD"
      }
    },
    {
      "cell_type": "code",
      "execution_count": 124,
      "outputs": [],
      "source": [
        "import random\n",
        "import numpy as np\n",
        "from torchvision import datasets, transforms"
      ],
      "metadata": {
        "id": "hnE0ZkxnTjcD"
      }
    },
    {
      "cell_type": "code",
      "execution_count": 125,
      "outputs": [
        {
          "output_type": "stream",
          "name": "stdout",
          "text": [
            "--2022-11-18 15:37:03--  https://s3.amazonaws.com/img-datasets/mnist.npz\n",
            "Resolving s3.amazonaws.com (s3.amazonaws.com)... 52.216.136.37, 52.216.136.158, 52.216.49.72, ...\n",
            "Connecting to s3.amazonaws.com (s3.amazonaws.com)|52.216.136.37|:443... connected.\n",
            "HTTP request sent, awaiting response... 200 OK\n",
            "Length: 11490434 (11M) [application/octet-stream]\n",
            "Saving to: ‘mnist.npz’\n",
            "\n",
            "\rmnist.npz             0%[                    ]       0  --.-KB/s               \rmnist.npz           100%[===================>]  10.96M  --.-KB/s    in 0.1s    \n",
            "\n",
            "2022-11-18 15:37:04 (83.5 MB/s) - ‘mnist.npz’ saved [11490434/11490434]\n",
            "\n"
          ]
        }
      ],
      "source": [
        "!wget -O mnist.npz https://s3.amazonaws.com/img-datasets/mnist.npz"
      ],
      "metadata": {
        "id": "YS4zX3dFTjcF",
        "outputId": "8f64a7cb-6346-4cba-9cfd-4a0bd57bfb6b",
        "colab": {
          "base_uri": "https://localhost:8080/"
        }
      }
    },
    {
      "cell_type": "code",
      "execution_count": 126,
      "outputs": [],
      "source": [
        "# Let's read the mnist dataset\n",
        "\n",
        "def load_mnist(path='mnist.npz'):\n",
        "    with np.load(path) as f:\n",
        "        x_train, _y_train = f['x_train'], f['y_train']\n",
        "        x_test, _y_test = f['x_test'], f['y_test']\n",
        "\n",
        "    x_train = x_train.reshape(-1, 28 * 28) / 255.\n",
        "    x_test = x_test.reshape(-1, 28 * 28) / 255.\n",
        "\n",
        "    y_train = np.zeros((_y_train.shape[0], 10))\n",
        "    y_train[np.arange(_y_train.shape[0]), _y_train] = 1\n",
        "\n",
        "    y_test = np.zeros((_y_test.shape[0], 10))\n",
        "    y_test[np.arange(_y_test.shape[0]), _y_test] = 1\n",
        "\n",
        "    return (x_train, y_train), (x_test, y_test)\n",
        "\n",
        "(x_train, y_train), (x_test, y_test) = load_mnist()"
      ],
      "metadata": {
        "id": "D1-987dCTjcG"
      }
    },
    {
      "cell_type": "code",
      "source": [
        "def sigmoid(z):\n",
        "    return 1.0/(1.0+np.exp(-z))\n",
        "\n",
        "def sigmoid_prime(z):\n",
        "    # Derivative of the sigmoid\n",
        "    return sigmoid(z)*(1-sigmoid(z))\n",
        "\n",
        "def softmax(z):\n",
        "    # Numericaly stable\n",
        "    exps = np.exp(z - np.max(z))\n",
        "    sum = np.sum(exps, axis=0)\n",
        "    res = exps / sum\n",
        "    return res"
      ],
      "metadata": {
        "id": "CEWEdu5XVkEm"
      },
      "execution_count": 127,
      "outputs": []
    },
    {
      "cell_type": "code",
      "execution_count": 128,
      "outputs": [],
      "source": [
        "class Network(object):\n",
        "    def __init__(self, sizes, lambda_l2=0.0, momentum=0.0, dropout_p=0.0):\n",
        "        # initialize biases and weights with random normal distr.\n",
        "        # weights are indexed by target node first\n",
        "        self.num_layers = len(sizes)\n",
        "        self.sizes = sizes\n",
        "        self.lambda_l2 = lambda_l2\n",
        "        self.momentum = momentum\n",
        "        self.dropout_p = dropout_p\n",
        "        self.biases = [np.random.randn(y, 1) for y in sizes[1:]]\n",
        "        self.weights = [np.random.randn(y, x)\n",
        "                        for x, y in zip(sizes[:-1], sizes[1:])]\n",
        "        self.weights_momentum = [np.zeros_like(x) for x in self.weights]\n",
        "        self.biases_momentum = [np.zeros_like(x) for x in self.biases]\n",
        "    \n",
        "    def activation(self, z, l):\n",
        "        if l == (self.num_layers - 1):\n",
        "            return softmax(z)\n",
        "        else:\n",
        "            return sigmoid(z)\n",
        "    \n",
        "    def feedforward(self, a):\n",
        "        # Run the network on a batch\n",
        "        a = a.T\n",
        "        for l, b, w in zip(range(1, self.num_layers), self.biases, self.weights):\n",
        "            if l < self.num_layers - 1:\n",
        "                a = self.activation((1.0-self.dropout_p)*(np.matmul(w, a)+b), l)\n",
        "            else:\n",
        "                a = self.activation(np.matmul(w, a)+b, l)\n",
        "        return a\n",
        "    \n",
        "    def update_mini_batch(self, mini_batch, eta):\n",
        "        # Update networks weights and biases by applying a single step\n",
        "        # of gradient descent using backpropagation to compute the gradient.\n",
        "        # The gradient is computed for a mini_batch which is as in tensorflow API.\n",
        "        # eta is the learning rate      \n",
        "        nabla_b, nabla_w = self.backprop(mini_batch[0].T,mini_batch[1].T)\n",
        "        \n",
        "        ### Momentum equation for parameter p\n",
        "        ### p_(t+1) = p_t + m_(t+1)\n",
        "        ### m_(t+1) = lambda_momentum * m_t - eta * gradient(p_t)\n",
        "        self.weights_momentum = [(self.momentum*wm)-(eta/len(mini_batch[0]))*nw \n",
        "                                 for wm, w, nw in zip(self.weights_momentum, self.weights, nabla_w)]\n",
        "        self.biases_momentum = [(self.momentum*bm)-(eta/len(mini_batch[0]))*nb \n",
        "                                for bm, b, nb in zip(self.biases_momentum, self.biases, nabla_b)]\n",
        "                            \n",
        "        self.weights = [w+wm for w, wm in zip(self.weights, self.weights_momentum)]\n",
        "        self.biases = [b+bm for b, bm in zip(self.biases, self.biases_momentum)]\n",
        "        \n",
        "    def backprop(self, x, y):\n",
        "        # For a single input (x,y) return a pair of lists.\n",
        "        # First contains gradients over biases, second over weights.\n",
        "        ### Dropout\n",
        "        dropout = [np.random.choice([0,1], size=(k,x.shape[1]), p=[self.dropout_p, 1-self.dropout_p]) for k in self.sizes[:-1]]\n",
        "        dropout.append(np.full((self.sizes[-1], x.shape[1]), 1))\n",
        "\n",
        "        g = np.multiply(dropout[0], x)\n",
        "        gs = [g] # list to store all the gs, layer by layer\n",
        "        fs = [] # list to store all the fs, layer by layer\n",
        "        for l, b, w in zip(range(1, self.num_layers), self.biases, self.weights):\n",
        "            f = np.multiply(dropout[l], (np.dot(w, g)+b))\n",
        "            fs.append(f)\n",
        "            g = self.activation(f, l)\n",
        "            gs.append(g)\n",
        "        # backward pass <- both steps at once\n",
        "        ### we know that [logloss(softmax)]' ~= [mse]'\n",
        "        ### change dLdg to dLdf -> considering logloss and softmax as a single block\n",
        "        ### the rest of dLdf calculations can be left as they were\n",
        "        dLdf = self.cost_derivative(gs[-1], y)\n",
        "        dLdfs = []\n",
        "        for l,w,g in reversed(list(zip(range(1, self.num_layers), self.weights, gs[1:]))):\n",
        "            if l < (self.num_layers - 1):\n",
        "                dLdf = np.multiply(np.multiply(dLdg, np.multiply(g,1-g)), dropout[l])\n",
        "            dLdfs.append(dLdf)\n",
        "            dLdg = np.matmul(w.T, dLdf)\n",
        "        \n",
        "        dLdWs = [np.matmul(dLdf,g.T) for dLdf,g in zip(reversed(dLdfs),gs[:-1])] \n",
        "        dLdBs = [np.sum(dLdf,axis=1).reshape(dLdf.shape[0],1) for dLdf in reversed(dLdfs)] \n",
        "\n",
        "        ### L2 regularization\n",
        "        ### loss = old_loss + lambda_l2 * sum(weights^2)\n",
        "        dLdWs = [dLdW + (self.lambda_l2 * w) for dLdW, w in zip(dLdWs, self.weights)]\n",
        "\n",
        "        return (dLdBs,dLdWs)\n",
        "\n",
        "    def evaluate(self, test_data):\n",
        "        # Count the number of correct answers for test_data\n",
        "        pred = np.argmax(self.feedforward(test_data[0]),axis=0)\n",
        "        corr = np.argmax(test_data[1],axis=1).T\n",
        "        return np.mean(pred==corr)\n",
        "    \n",
        "    def cost_derivative(self, output_activations, y):\n",
        "        return (output_activations-y) \n",
        "    \n",
        "    def SGD(self, training_data, epochs, mini_batch_size, eta, test_data=None):\n",
        "        x_train, y_train = training_data\n",
        "        if test_data:\n",
        "            x_test, y_test = test_data\n",
        "        for j in range(epochs):\n",
        "            for i in range(x_train.shape[0] // mini_batch_size):\n",
        "                x_mini_batch = x_train[(mini_batch_size*i):(mini_batch_size*(i+1))]\n",
        "                y_mini_batch = y_train[(mini_batch_size*i):(mini_batch_size*(i+1))]\n",
        "                self.update_mini_batch((x_mini_batch, y_mini_batch), eta)\n",
        "            if test_data:\n",
        "                print(\"Epoch: {0}, Accuracy: {1}\".format(j, self.evaluate((x_test, y_test))))\n",
        "            else:\n",
        "                print(\"Epoch: {0}\".format(j))"
      ],
      "metadata": {
        "id": "kEvKH9BRTjcH"
      }
    },
    {
      "cell_type": "code",
      "source": [
        "network = Network([784,30,10])\n",
        "network.SGD((x_train, y_train), epochs=50, mini_batch_size=100, eta=3., test_data=(x_test, y_test))"
      ],
      "metadata": {
        "colab": {
          "base_uri": "https://localhost:8080/"
        },
        "id": "zb1nhwHjX0F2",
        "outputId": "7790b401-b6cb-4b04-9b0c-9a789b6ad99c"
      },
      "execution_count": 130,
      "outputs": [
        {
          "output_type": "stream",
          "name": "stdout",
          "text": [
            "Epoch: 0, Accuracy: 0.8925\n",
            "Epoch: 1, Accuracy: 0.9086\n",
            "Epoch: 2, Accuracy: 0.9187\n",
            "Epoch: 3, Accuracy: 0.9264\n",
            "Epoch: 4, Accuracy: 0.9303\n",
            "Epoch: 5, Accuracy: 0.9349\n",
            "Epoch: 6, Accuracy: 0.9365\n",
            "Epoch: 7, Accuracy: 0.9378\n",
            "Epoch: 8, Accuracy: 0.9402\n",
            "Epoch: 9, Accuracy: 0.9421\n",
            "Epoch: 10, Accuracy: 0.9441\n",
            "Epoch: 11, Accuracy: 0.9438\n",
            "Epoch: 12, Accuracy: 0.9442\n",
            "Epoch: 13, Accuracy: 0.9449\n",
            "Epoch: 14, Accuracy: 0.9452\n",
            "Epoch: 15, Accuracy: 0.9463\n",
            "Epoch: 16, Accuracy: 0.9472\n",
            "Epoch: 17, Accuracy: 0.9473\n",
            "Epoch: 18, Accuracy: 0.9469\n",
            "Epoch: 19, Accuracy: 0.947\n",
            "Epoch: 20, Accuracy: 0.9468\n",
            "Epoch: 21, Accuracy: 0.9465\n",
            "Epoch: 22, Accuracy: 0.9474\n",
            "Epoch: 23, Accuracy: 0.9489\n",
            "Epoch: 24, Accuracy: 0.9488\n",
            "Epoch: 25, Accuracy: 0.9471\n",
            "Epoch: 26, Accuracy: 0.9467\n",
            "Epoch: 27, Accuracy: 0.9476\n",
            "Epoch: 28, Accuracy: 0.9484\n",
            "Epoch: 29, Accuracy: 0.9487\n",
            "Epoch: 30, Accuracy: 0.9484\n",
            "Epoch: 31, Accuracy: 0.9481\n",
            "Epoch: 32, Accuracy: 0.9479\n",
            "Epoch: 33, Accuracy: 0.948\n",
            "Epoch: 34, Accuracy: 0.9479\n",
            "Epoch: 35, Accuracy: 0.9487\n",
            "Epoch: 36, Accuracy: 0.9488\n",
            "Epoch: 37, Accuracy: 0.9487\n",
            "Epoch: 38, Accuracy: 0.9488\n",
            "Epoch: 39, Accuracy: 0.9488\n",
            "Epoch: 40, Accuracy: 0.9488\n",
            "Epoch: 41, Accuracy: 0.9488\n",
            "Epoch: 42, Accuracy: 0.9491\n",
            "Epoch: 43, Accuracy: 0.9493\n",
            "Epoch: 44, Accuracy: 0.9496\n",
            "Epoch: 45, Accuracy: 0.9492\n",
            "Epoch: 46, Accuracy: 0.9488\n",
            "Epoch: 47, Accuracy: 0.9488\n",
            "Epoch: 48, Accuracy: 0.9489\n",
            "Epoch: 49, Accuracy: 0.9485\n"
          ]
        }
      ]
    },
    {
      "cell_type": "code",
      "source": [
        "!pip install -U memory_profiler"
      ],
      "metadata": {
        "colab": {
          "base_uri": "https://localhost:8080/"
        },
        "id": "qY62cgVokLzU",
        "outputId": "029be69e-c19e-4eba-8270-47e238185567"
      },
      "execution_count": 131,
      "outputs": [
        {
          "output_type": "stream",
          "name": "stdout",
          "text": [
            "Looking in indexes: https://pypi.org/simple, https://us-python.pkg.dev/colab-wheels/public/simple/\n",
            "Requirement already satisfied: memory_profiler in /usr/local/lib/python3.7/dist-packages (0.61.0)\n",
            "Requirement already satisfied: psutil in /usr/local/lib/python3.7/dist-packages (from memory_profiler) (5.4.8)\n"
          ]
        }
      ]
    },
    {
      "cell_type": "code",
      "execution_count": 154,
      "outputs": [],
      "source": [
        "class NetworkWithCheckpointing(Network):\n",
        "    def __init__(self, sizes, checkpoint_every_nth_layer: int = 0, *args, **kwargs):\n",
        "        super().__init__(sizes, *args, **kwargs)\n",
        "        self.checkpoint_freq = checkpoint_every_nth_layer\n",
        "        self.layers_nr = len(sizes)\n",
        "\n",
        "    def get(self, d: dict, idx: int):\n",
        "      if idx in d:\n",
        "        return d[idx]\n",
        "      d[idx] = sigmoid(np.matmul(self.weights[idx - 1], self.get(d, idx - 1)) + self.biases[idx - 1])\n",
        "      return d[idx]\n",
        "\n",
        "    def delete(self, d: dict, idx: int):\n",
        "      if idx % self.checkpoint_freq != 0 and idx in d:\n",
        "        del d[idx]\n",
        "\n",
        "    def forward_between_checkpoints(self, a, start, end):\n",
        "      is_last = (end == self.layers_nr - 1)\n",
        "      if is_last:\n",
        "        end -= 1\n",
        "      for b, w in zip(self.biases[start:end], self.weights[start:end]):\n",
        "        a = sigmoid(np.dot(w, a) + b)   \n",
        "      if is_last:\n",
        "        return softmax(np.matmul(self.weights[-1], a) + self.biases[-1])\n",
        "\n",
        "      return a\n",
        "\n",
        "    def backprop(self, x, y):\n",
        "      gs = {}\n",
        "      g = x\n",
        "      gs[0] = g\n",
        "\n",
        "      for i in range(0, self.layers_nr - 1, self.checkpoint_freq):\n",
        "        end = min(self.layers_nr - 1, i + self.checkpoint_freq)\n",
        "        g = self.forward_between_checkpoints(g, i, end)\n",
        "        gs[end] = g\n",
        "      # backward pass <- both steps at once\n",
        "      idx = self.layers_nr - 1\n",
        "      dLdf = self.cost_derivative(gs[idx], y)\n",
        "      dLdfs = []\n",
        "      dLdWs = []\n",
        "      for idx, w in reversed(list(zip(range(1, self.num_layers), self.weights))):\n",
        "        if idx < (self.num_layers - 1):\n",
        "          g = self.get(gs, idx)\n",
        "          self.delete(gs, idx)\n",
        "          dLdf = np.multiply(dLdg,np.multiply(g,1-g))\n",
        "\n",
        "        dLdfs.append(dLdf)\n",
        "        dLdg = np.matmul(w.T, dLdf)\n",
        "      \n",
        "      for idx, w in enumerate(reversed(dLdfs)):\n",
        "        dLdWs.append(np.matmul(w, self.get(gs, idx).T))\n",
        "      \n",
        "      dLdBs = [np.sum(dLdf,axis=1).reshape(dLdf.shape[0],1) for dLdf in reversed(dLdfs)] \n",
        "      return (dLdBs, dLdWs)\n",
        "\n",
        "        \n"
      ],
      "metadata": {
        "id": "Xc1MHTzpTjcI"
      }
    },
    {
      "cell_type": "code",
      "source": [
        "from memory_profiler import memory_usage\n",
        "%load_ext memory_profiler\n",
        "\n",
        "%time %memit NetworkWithCheckpointing([784,30,10], 2).SGD((x_train, y_train), epochs=50, mini_batch_size=100, eta=3., test_data=(x_test, y_test))"
      ],
      "metadata": {
        "colab": {
          "base_uri": "https://localhost:8080/"
        },
        "id": "PTmQ8WcZh_gW",
        "outputId": "33a31c9b-748b-4433-d6a8-504707d570e8"
      },
      "execution_count": 147,
      "outputs": [
        {
          "output_type": "stream",
          "name": "stdout",
          "text": [
            "The memory_profiler extension is already loaded. To reload it, use:\n",
            "  %reload_ext memory_profiler\n",
            "Epoch: 0, Accuracy: 0.8915\n",
            "Epoch: 1, Accuracy: 0.9138\n",
            "Epoch: 2, Accuracy: 0.923\n",
            "Epoch: 3, Accuracy: 0.9274\n",
            "Epoch: 4, Accuracy: 0.9322\n",
            "Epoch: 5, Accuracy: 0.9363\n",
            "Epoch: 6, Accuracy: 0.9374\n",
            "Epoch: 7, Accuracy: 0.9393\n",
            "Epoch: 8, Accuracy: 0.9389\n",
            "Epoch: 9, Accuracy: 0.9407\n",
            "Epoch: 10, Accuracy: 0.943\n",
            "Epoch: 11, Accuracy: 0.9447\n",
            "Epoch: 12, Accuracy: 0.9455\n",
            "Epoch: 13, Accuracy: 0.9471\n",
            "Epoch: 14, Accuracy: 0.9476\n",
            "Epoch: 15, Accuracy: 0.9482\n",
            "Epoch: 16, Accuracy: 0.9488\n",
            "Epoch: 17, Accuracy: 0.948\n",
            "Epoch: 18, Accuracy: 0.948\n",
            "Epoch: 19, Accuracy: 0.9476\n",
            "Epoch: 20, Accuracy: 0.9473\n",
            "Epoch: 21, Accuracy: 0.9479\n",
            "Epoch: 22, Accuracy: 0.9482\n",
            "Epoch: 23, Accuracy: 0.9479\n",
            "Epoch: 24, Accuracy: 0.9476\n",
            "Epoch: 25, Accuracy: 0.947\n",
            "Epoch: 26, Accuracy: 0.9477\n",
            "Epoch: 27, Accuracy: 0.9472\n",
            "Epoch: 28, Accuracy: 0.9475\n",
            "Epoch: 29, Accuracy: 0.947\n",
            "Epoch: 30, Accuracy: 0.9461\n",
            "Epoch: 31, Accuracy: 0.9463\n",
            "Epoch: 32, Accuracy: 0.9463\n",
            "Epoch: 33, Accuracy: 0.9461\n",
            "Epoch: 34, Accuracy: 0.9467\n",
            "Epoch: 35, Accuracy: 0.9465\n",
            "Epoch: 36, Accuracy: 0.9466\n",
            "Epoch: 37, Accuracy: 0.9463\n",
            "Epoch: 38, Accuracy: 0.9461\n",
            "Epoch: 39, Accuracy: 0.946\n",
            "Epoch: 40, Accuracy: 0.9463\n",
            "Epoch: 41, Accuracy: 0.9464\n",
            "Epoch: 42, Accuracy: 0.9464\n",
            "Epoch: 43, Accuracy: 0.9465\n",
            "Epoch: 44, Accuracy: 0.9466\n",
            "Epoch: 45, Accuracy: 0.947\n",
            "Epoch: 46, Accuracy: 0.9478\n",
            "Epoch: 47, Accuracy: 0.9481\n",
            "Epoch: 48, Accuracy: 0.9478\n",
            "Epoch: 49, Accuracy: 0.9478\n",
            "peak memory: 1708.63 MiB, increment: 0.02 MiB\n",
            "CPU times: user 1min 54s, sys: 33 s, total: 2min 27s\n",
            "Wall time: 1min 17s\n"
          ]
        }
      ]
    },
    {
      "cell_type": "code",
      "source": [],
      "metadata": {
        "colab": {
          "base_uri": "https://localhost:8080/"
        },
        "id": "RBUG0O8igfqY",
        "outputId": "5542aa2c-b945-4199-b107-da38819f7bb7"
      },
      "execution_count": 150,
      "outputs": [
        {
          "output_type": "stream",
          "name": "stdout",
          "text": [
            "Overwriting mprun_demo.py\n"
          ]
        }
      ]
    }
  ],
  "metadata": {
    "kernelspec": {
      "display_name": "Python 3",
      "language": "python",
      "name": "python3"
    },
    "language_info": {
      "codemirror_mode": {
        "name": "ipython",
        "version": 2
      },
      "file_extension": ".py",
      "mimetype": "text/x-python",
      "name": "python",
      "nbconvert_exporter": "python",
      "pygments_lexer": "ipython2",
      "version": "2.7.6"
    },
    "colab": {
      "provenance": [],
      "include_colab_link": true
    }
  },
  "nbformat": 4,
  "nbformat_minor": 0
}