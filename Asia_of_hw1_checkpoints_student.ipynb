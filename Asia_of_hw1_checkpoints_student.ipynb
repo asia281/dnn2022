{
  "cells": [
    {
      "cell_type": "markdown",
      "metadata": {
        "id": "view-in-github",
        "colab_type": "text"
      },
      "source": [
        "<a href=\"https://colab.research.google.com/github/asia281/dnn2022/blob/main/Asia_of_hw1_checkpoints_student.ipynb\" target=\"_parent\"><img src=\"https://colab.research.google.com/assets/colab-badge.svg\" alt=\"Open In Colab\"/></a>"
      ]
    },
    {
      "cell_type": "markdown",
      "source": [
        "# Checkpointing\n",
        "\n",
        "Your task is to implement checkpointing for a MLP using NumPy.\n",
        "\n",
        "You are free to use the implementation of a MLP and the backpropagation algorithm that you have developed during lab sessions.\n",
        "\n",
        "The key takeaway from this task is that with checkpointing we can trade off the computational resources needed to compute the forward pass of the network for the memory requirement needed to perform a backward pass in the network, which is often a major bottleneck when training large networks. In plain english, we can slightly increase the time required for training our network to save some of our GPU's precious memory.\n",
        "\n",
        "## What is checkpointing?\n",
        "\n",
        "The aim of checkpointing is to save every $n$-th layer's (e.g. every 2-nd layer's) forward result (instead of saving every layer's forward result as in plain backpropagation) and use these checkpoints for recomputing the forward pass of the network upon doing a backward pass. Checkpoint layers are kept in memory after the forward pass, while the remaining activations are recomputed at most once. After being recomputed, the non-checkpoint layers are kept in memory until they are no longer required."
      ],
      "metadata": {
        "collapsed": false,
        "id": "GvE1EOcmTjb9"
      }
    },
    {
      "cell_type": "markdown",
      "source": [
        "# What should be done\n",
        "\n",
        "1. Take the implementation a MLP trained with backpropagation. Analyze the algorithm with respect to the memory that is used by the algorithm with respect to the number of hidden layers.\n",
        "\n",
        "2. Implement a class NetworkWithCheckpointing that inherits from the Network class defined during lab sessions by:\n",
        "    a) implementing a method `forward_between_checkpoints` that will recompute the forward pass of the network using one of the checkpointed layers\n",
        "    b) override the method `backprop` to use only checkpointed layers and otherwise compute the activations using `forward_between_checkpoints` method and keep it in memory until no longer needed.\n",
        "\n",
        "3. Train your network with checkpoinintg on MNIST. Compare running times and memory usage with respect to the network without checkpointing.\n"
      ],
      "metadata": {
        "collapsed": false,
        "id": "v0TLdcCnTjcC"
      }
    },
    {
      "cell_type": "markdown",
      "source": [
        "# Implement Checkpointing for a MLP"
      ],
      "metadata": {
        "collapsed": false,
        "id": "aTR2VeRiTjcD"
      }
    },
    {
      "cell_type": "code",
      "execution_count": 42,
      "outputs": [],
      "source": [
        "import random\n",
        "import numpy as np\n",
        "from torchvision import datasets, transforms"
      ],
      "metadata": {
        "id": "hnE0ZkxnTjcD"
      }
    },
    {
      "cell_type": "code",
      "execution_count": 43,
      "outputs": [
        {
          "output_type": "stream",
          "name": "stdout",
          "text": [
            "--2022-11-19 19:15:39--  https://s3.amazonaws.com/img-datasets/mnist.npz\n",
            "Resolving s3.amazonaws.com (s3.amazonaws.com)... 52.216.236.13, 52.216.242.118, 52.217.206.88, ...\n",
            "Connecting to s3.amazonaws.com (s3.amazonaws.com)|52.216.236.13|:443... connected.\n",
            "HTTP request sent, awaiting response... 200 OK\n",
            "Length: 11490434 (11M) [application/octet-stream]\n",
            "Saving to: ‘mnist.npz’\n",
            "\n",
            "mnist.npz           100%[===================>]  10.96M  5.96MB/s    in 1.8s    \n",
            "\n",
            "2022-11-19 19:15:41 (5.96 MB/s) - ‘mnist.npz’ saved [11490434/11490434]\n",
            "\n"
          ]
        }
      ],
      "source": [
        "!wget -O mnist.npz https://s3.amazonaws.com/img-datasets/mnist.npz"
      ],
      "metadata": {
        "id": "YS4zX3dFTjcF",
        "outputId": "b20196d4-fddf-442d-c2e4-92ddff5e1618",
        "colab": {
          "base_uri": "https://localhost:8080/"
        }
      }
    },
    {
      "cell_type": "code",
      "execution_count": 44,
      "outputs": [],
      "source": [
        "# Let's read the mnist dataset\n",
        "def load_mnist(path='mnist.npz'):\n",
        "    with np.load(path) as f:\n",
        "        x_train, _y_train = f['x_train'], f['y_train']\n",
        "        x_test, _y_test = f['x_test'], f['y_test']\n",
        "\n",
        "    x_train = x_train.reshape(-1, 28 * 28) / 255.\n",
        "    x_test = x_test.reshape(-1, 28 * 28) / 255.\n",
        "\n",
        "    y_train = np.zeros((_y_train.shape[0], 10))\n",
        "    y_train[np.arange(_y_train.shape[0]), _y_train] = 1\n",
        "\n",
        "    y_test = np.zeros((_y_test.shape[0], 10))\n",
        "    y_test[np.arange(_y_test.shape[0]), _y_test] = 1\n",
        "\n",
        "    return (x_train, y_train), (x_test, y_test)\n",
        "\n",
        "# And assign the variables\n",
        "(x_train, y_train), (x_test, y_test) = load_mnist()"
      ],
      "metadata": {
        "id": "D1-987dCTjcG"
      }
    },
    {
      "cell_type": "code",
      "source": [
        "# Declaration of sigmoid and softmax functions\n",
        "def sigmoid(z):\n",
        "    return 1.0/(1.0+np.exp(-z))\n",
        "\n",
        "def softmax(z):\n",
        "    exps = np.exp(z - np.max(z))\n",
        "    sum = np.sum(exps, axis=0)\n",
        "    res = exps / sum\n",
        "    return res"
      ],
      "metadata": {
        "id": "CEWEdu5XVkEm"
      },
      "execution_count": 45,
      "outputs": []
    },
    {
      "cell_type": "code",
      "source": [
        "import matplotlib.pyplot as plt\n",
        "\n",
        "# Function to plot \n",
        "def plot_learning_curve(test_accs):\n",
        "    xs = range(1, len(test_accs) + 1)\n",
        "    plt.clf()\n",
        "    plt.plot(xs, test_accs, label='test accuracy')\n",
        "    plt.ylabel('Accuracy')\n",
        "    plt.xlabel('Number of epochs')\n",
        "    plt.grid()\n",
        "    plt.legend()\n",
        "    plt.show()"
      ],
      "metadata": {
        "id": "vdgLivsDDu1m"
      },
      "execution_count": 46,
      "outputs": []
    },
    {
      "cell_type": "markdown",
      "source": [
        "In my implementation of `Network`, I'm using SDG momentum, L2 regularization, as well as softmax as an activation for the last layer. In all the experiments I'm using `%time` to measure the time. I'm running network with almost all the same hyperparameters, changing only number of layers and how ofen to create checkpoints."
      ],
      "metadata": {
        "id": "4VfE9Szl8xr7"
      }
    },
    {
      "cell_type": "code",
      "execution_count": 47,
      "outputs": [],
      "source": [
        "class Network(object):\n",
        "    def __init__(self, sizes, l2=0.0, momentum=0.0):\n",
        "        # initialize biases and weights with random normal distr.\n",
        "        # weights are indexed by target node first\n",
        "        self.num_layers = len(sizes)\n",
        "        self.sizes = sizes\n",
        "        self.l2 = l2\n",
        "        self.momentum = momentum\n",
        "        self.biases = [np.random.randn(y, 1) for y in sizes[1:]]\n",
        "        self.weights = [np.random.randn(y, x)\n",
        "                        for x, y in zip(sizes[:-1], sizes[1:])]\n",
        "        self.weights_momentum = [np.zeros_like(x) for x in self.weights]\n",
        "        self.biases_momentum = [np.zeros_like(x) for x in self.biases]\n",
        "    \n",
        "    def activation(self, z, l):\n",
        "        if l == (self.num_layers - 1):\n",
        "            return softmax(z)\n",
        "\n",
        "        return sigmoid(z)\n",
        "    \n",
        "    def feedforward(self, a):\n",
        "        # Run the network on a batch\n",
        "        a = a.T\n",
        "        for l, b, w in zip(range(1, self.num_layers), self.biases, self.weights):\n",
        "          a = self.activation(np.matmul(w, a)+b, l)\n",
        "        return a\n",
        "    \n",
        "    def update_mini_batch(self, mini_batch, eta):\n",
        "        nabla_b, nabla_w = self.backprop(mini_batch[0].T,mini_batch[1].T)\n",
        "        \n",
        "        self.weights_momentum = [(self.momentum*wm)-(eta/len(mini_batch[0]))*nw \n",
        "                                 for wm, w, nw in zip(self.weights_momentum, self.weights, nabla_w)]\n",
        "        self.biases_momentum = [(self.momentum*bm)-(eta/len(mini_batch[0]))*nb \n",
        "                                for bm, b, nb in zip(self.biases_momentum, self.biases, nabla_b)]\n",
        "                            \n",
        "        self.weights = [w+wm for w, wm in zip(self.weights, self.weights_momentum)]\n",
        "        self.biases = [b+bm for b, bm in zip(self.biases, self.biases_momentum)]\n",
        "        \n",
        "    def backprop(self, x, y):\n",
        "        g = x\n",
        "        gs = [g] # list to store all the gs, layer by layer\n",
        "        fs = [] # list to store all the fs, layer by layer\n",
        "        for l, b, w in zip(range(1, self.num_layers), self.biases, self.weights):\n",
        "            f = np.dot(w, g)+b\n",
        "            fs.append(f)\n",
        "            g = self.activation(f, l)\n",
        "            gs.append(g)\n",
        "            \n",
        "        dLdf = self.cost_derivative(gs[-1], y)\n",
        "        dLdfs = []\n",
        "        for l,w,g in reversed(list(zip(range(1, self.num_layers), self.weights, gs[1:]))):\n",
        "            if l < (self.num_layers - 1):\n",
        "                dLdf = np.multiply(dLdg, np.multiply(g,1-g))\n",
        "            dLdfs.append(dLdf)\n",
        "            dLdg = np.matmul(w.T, dLdf)\n",
        "        \n",
        "        dLdWs = [np.matmul(dLdf,g.T) + (self.l2 * w) for dLdf, g, w in zip(reversed(dLdfs), gs[:-1], self.weights)] \n",
        "        dLdBs = [np.sum(dLdf,axis=1).reshape(dLdf.shape[0],1) for dLdf in reversed(dLdfs)] \n",
        "\n",
        "        return (dLdBs, dLdWs)\n",
        "\n",
        "    def evaluate(self, test_data):\n",
        "        # Count the number of correct answers for test_data\n",
        "        pred = np.argmax(self.feedforward(test_data[0]),axis=0)\n",
        "        corr = np.argmax(test_data[1],axis=1).T\n",
        "        return np.mean(pred==corr)\n",
        "    \n",
        "    def cost_derivative(self, output_activations, y):\n",
        "        return (output_activations-y) \n",
        "    \n",
        "    def SGD(self, training_data, epochs, mini_batch_size, eta, test_data=None):\n",
        "        x_train, y_train = training_data\n",
        "        if test_data:\n",
        "            x_test, y_test = test_data\n",
        "        accs = []\n",
        "        for j in range(epochs):\n",
        "            for i in range(x_train.shape[0] // mini_batch_size):\n",
        "                x_mini_batch = x_train[(mini_batch_size*i):(mini_batch_size*(i+1))]\n",
        "                y_mini_batch = y_train[(mini_batch_size*i):(mini_batch_size*(i+1))]\n",
        "                self.update_mini_batch((x_mini_batch, y_mini_batch), eta)\n",
        "            if test_data:\n",
        "                acc = self.evaluate((x_test, y_test))\n",
        "                accs.append(acc)\n",
        "                print(\"Epoch: {0}, Accuracy: {1}\".format(j, acc))\n",
        "            else:\n",
        "                print(\"Epoch: {0}\".format(j))\n",
        "        plot_learning_curve(accs)"
      ],
      "metadata": {
        "id": "kEvKH9BRTjcH"
      }
    },
    {
      "cell_type": "code",
      "source": [
        "network = Network([784,30,10], l2=0.001, momentum=0.7)\n",
        "%time network.SGD((x_train, y_train), epochs=20, mini_batch_size=100, eta=3., test_data=(x_test, y_test))"
      ],
      "metadata": {
        "colab": {
          "base_uri": "https://localhost:8080/",
          "height": 653
        },
        "id": "zb1nhwHjX0F2",
        "outputId": "b768daf7-b758-45cf-8367-8cc60a6a9817"
      },
      "execution_count": 48,
      "outputs": [
        {
          "output_type": "stream",
          "name": "stdout",
          "text": [
            "Epoch: 0, Accuracy: 0.9006\n",
            "Epoch: 1, Accuracy: 0.924\n",
            "Epoch: 2, Accuracy: 0.9315\n",
            "Epoch: 3, Accuracy: 0.9367\n",
            "Epoch: 4, Accuracy: 0.9343\n",
            "Epoch: 5, Accuracy: 0.9358\n",
            "Epoch: 6, Accuracy: 0.9387\n",
            "Epoch: 7, Accuracy: 0.9408\n",
            "Epoch: 8, Accuracy: 0.9431\n",
            "Epoch: 9, Accuracy: 0.9451\n",
            "Epoch: 10, Accuracy: 0.9437\n",
            "Epoch: 11, Accuracy: 0.9423\n",
            "Epoch: 12, Accuracy: 0.9483\n",
            "Epoch: 13, Accuracy: 0.9476\n",
            "Epoch: 14, Accuracy: 0.9518\n",
            "Epoch: 15, Accuracy: 0.9487\n",
            "Epoch: 16, Accuracy: 0.9483\n",
            "Epoch: 17, Accuracy: 0.9496\n",
            "Epoch: 18, Accuracy: 0.9493\n",
            "Epoch: 19, Accuracy: 0.9534\n"
          ]
        },
        {
          "output_type": "display_data",
          "data": {
            "text/plain": [
              "<Figure size 432x288 with 1 Axes>"
            ],
            "image/png": "[encoded data removed]"
          },
          "metadata": {
            "needs_background": "light"
          }
        },
        {
          "output_type": "stream",
          "name": "stdout",
          "text": [
            "CPU times: user 33.2 s, sys: 13.8 s, total: 47 s\n",
            "Wall time: 24.4 s\n"
          ]
        }
      ]
    },
    {
      "cell_type": "markdown",
      "source": [
        "NetworkWithCheckpointing is storing feedforward results only after checkpoint_every_nth_layer layer. The only function we changed is backprop, that uses forward_between_checkpoints function.\n",
        "While forward pass, we save only some variables, to restore them for not saved indices, we use get function, that recursively computes variables between two checkpoints.\n",
        "After using gs for idx % checkpoint_every_nth_layer != 0, we delete them."
      ],
      "metadata": {
        "id": "DmTOtKo16nag"
      }
    },
    {
      "cell_type": "code",
      "execution_count": 49,
      "outputs": [],
      "source": [
        "class NetworkWithCheckpointing(Network):\n",
        "    def __init__(self, sizes, checkpoint_every_nth_layer: int = 0, *args, **kwargs):\n",
        "        super().__init__(sizes, *args, **kwargs)\n",
        "        self.checkpoint_freq = checkpoint_every_nth_layer\n",
        "        self.layers_nr = len(sizes)\n",
        "\n",
        "    # Function to get an element from the dict that is computed recursively\n",
        "    def get(self, d: dict, idx: int):\n",
        "      if idx in d:\n",
        "        return d[idx]\n",
        "      mul = np.matmul(self.weights[idx - 1], self.get(d, idx - 1))\n",
        "      d[idx] = sigmoid(mul + self.biases[idx - 1])\n",
        "      return d[idx]\n",
        "\n",
        "    def delete(self, d: dict, idx: int):\n",
        "      if idx % self.checkpoint_freq != 0 and idx in d:\n",
        "        del d[idx]\n",
        "\n",
        "    def forward_between_checkpoints(self, a, start, end):\n",
        "      is_last = (end == self.layers_nr - 1)\n",
        "      if is_last:\n",
        "        end -= 1\n",
        "      for b, w in zip(self.biases[start:end], self.weights[start:end]):\n",
        "        a = sigmoid(np.dot(w, a) + b)   \n",
        "      if is_last:\n",
        "        return softmax(np.matmul(self.weights[-1], a) + self.biases[-1])\n",
        "\n",
        "      return a\n",
        "\n",
        "    def backprop(self, x, y):\n",
        "      gs = {}\n",
        "      g = x\n",
        "      gs[0] = g\n",
        "\n",
        "      for i in range(0, self.layers_nr - 1, self.checkpoint_freq):\n",
        "        end = min(self.layers_nr - 1, i + self.checkpoint_freq)\n",
        "        g = self.forward_between_checkpoints(g, i, end)\n",
        "        gs[end] = g\n",
        "      # backward pass <- both steps at once\n",
        "      idx = self.layers_nr - 1\n",
        "      dLdf = self.cost_derivative(gs[idx], y)\n",
        "      dLdfs = []\n",
        "      dLdWs = []\n",
        "      for idx, w in reversed(list(zip(range(1, self.num_layers), self.weights))):\n",
        "        if idx < (self.num_layers - 1):\n",
        "          #Compute gs[idx]\n",
        "          g = self.get(gs, idx)\n",
        "          # Delete not necessary computed gs[idx]\n",
        "          self.delete(gs, idx)\n",
        "          dLdf = np.multiply(dLdg,np.multiply(g,1-g))\n",
        "\n",
        "        dLdfs.append(dLdf)\n",
        "        dLdg = np.matmul(w.T, dLdf)\n",
        "\n",
        "      for idx, w in enumerate(reversed(dLdfs)):\n",
        "        dLdWs.append(np.matmul(w, self.get(gs, idx).T))\n",
        "        # Delete computed gs[idx]\n",
        "        if idx > 0:\n",
        "          del gs[idx-1]\n",
        "      \n",
        "      # Apply L2 regularization\n",
        "      dLdWs = dLdWs + [self.l2 * w for w in self.weights]\n",
        "      dLdBs = [np.sum(dLdf,axis=1).reshape(dLdf.shape[0],1) for dLdf in reversed(dLdfs)] \n",
        "      return (dLdBs, dLdWs)\n"
      ],
      "metadata": {
        "id": "Xc1MHTzpTjcI"
      }
    },
    {
      "cell_type": "code",
      "source": [
        "net_check = NetworkWithCheckpointing([784,30,10], 2)\n",
        "%time net_check.SGD((x_train, y_train), epochs=20, mini_batch_size=100, eta=3., test_data=(x_test, y_test))"
      ],
      "metadata": {
        "colab": {
          "base_uri": "https://localhost:8080/",
          "height": 653
        },
        "id": "PTmQ8WcZh_gW",
        "outputId": "2b3e23aa-fbc3-4aed-917e-6a1828e367d7"
      },
      "execution_count": 50,
      "outputs": [
        {
          "output_type": "stream",
          "name": "stdout",
          "text": [
            "Epoch: 0, Accuracy: 0.9004\n",
            "Epoch: 1, Accuracy: 0.9213\n",
            "Epoch: 2, Accuracy: 0.9285\n",
            "Epoch: 3, Accuracy: 0.9326\n",
            "Epoch: 4, Accuracy: 0.937\n",
            "Epoch: 5, Accuracy: 0.9418\n",
            "Epoch: 6, Accuracy: 0.9423\n",
            "Epoch: 7, Accuracy: 0.9425\n",
            "Epoch: 8, Accuracy: 0.9448\n",
            "Epoch: 9, Accuracy: 0.946\n",
            "Epoch: 10, Accuracy: 0.9477\n",
            "Epoch: 11, Accuracy: 0.9492\n",
            "Epoch: 12, Accuracy: 0.9501\n",
            "Epoch: 13, Accuracy: 0.9501\n",
            "Epoch: 14, Accuracy: 0.951\n",
            "Epoch: 15, Accuracy: 0.9508\n",
            "Epoch: 16, Accuracy: 0.9515\n",
            "Epoch: 17, Accuracy: 0.9519\n",
            "Epoch: 18, Accuracy: 0.9513\n",
            "Epoch: 19, Accuracy: 0.9516\n"
          ]
        },
        {
          "output_type": "display_data",
          "data": {
            "text/plain": [
              "<Figure size 432x288 with 1 Axes>"
            ],
            "image/png": "[encoded data removed]"
          },
          "metadata": {
            "needs_background": "light"
          }
        },
        {
          "output_type": "stream",
          "name": "stdout",
          "text": [
            "CPU times: user 48.9 s, sys: 18 s, total: 1min 6s\n",
            "Wall time: 35 s\n"
          ]
        }
      ]
    },
    {
      "cell_type": "code",
      "source": [
        "network = Network([784,30,10], l2=0.001, momentum=0.6)\n",
        "%time network.SGD((x_train, y_train), epochs=20, mini_batch_size=100, eta=3., test_data=(x_test, y_test))\n",
        "\n",
        "network_check = NetworkWithCheckpointing([784,30,10], 1, l2=0.001, momentum=0.6)\n",
        "%time network_check.SGD((x_train, y_train), epochs=20, mini_batch_size=100, eta=3., test_data=(x_test, y_test))"
      ],
      "metadata": {
        "colab": {
          "base_uri": "https://localhost:8080/",
          "height": 1000
        },
        "id": "2XXktznn6OT6",
        "outputId": "ec9ec836-7fae-4ed6-bb43-7234fbfc64b7"
      },
      "execution_count": 51,
      "outputs": [
        {
          "output_type": "stream",
          "name": "stdout",
          "text": [
            "Epoch: 0, Accuracy: 0.9173\n",
            "Epoch: 1, Accuracy: 0.933\n",
            "Epoch: 2, Accuracy: 0.944\n",
            "Epoch: 3, Accuracy: 0.9421\n",
            "Epoch: 4, Accuracy: 0.9463\n",
            "Epoch: 5, Accuracy: 0.9484\n",
            "Epoch: 6, Accuracy: 0.9493\n",
            "Epoch: 7, Accuracy: 0.9517\n",
            "Epoch: 8, Accuracy: 0.9492\n",
            "Epoch: 9, Accuracy: 0.9506\n",
            "Epoch: 10, Accuracy: 0.9542\n",
            "Epoch: 11, Accuracy: 0.9527\n",
            "Epoch: 12, Accuracy: 0.9564\n",
            "Epoch: 13, Accuracy: 0.9513\n",
            "Epoch: 14, Accuracy: 0.9545\n",
            "Epoch: 15, Accuracy: 0.953\n",
            "Epoch: 16, Accuracy: 0.9575\n",
            "Epoch: 17, Accuracy: 0.9556\n",
            "Epoch: 18, Accuracy: 0.9481\n",
            "Epoch: 19, Accuracy: 0.951\n"
          ]
        },
        {
          "output_type": "display_data",
          "data": {
            "text/plain": [
              "<Figure size 432x288 with 1 Axes>"
            ],
            "image/png": "[encoded data removed]"
          },
          "metadata": {
            "needs_background": "light"
          }
        },
        {
          "output_type": "stream",
          "name": "stdout",
          "text": [
            "CPU times: user 33.2 s, sys: 16.7 s, total: 49.9 s\n",
            "Wall time: 31.1 s\n",
            "Epoch: 0, Accuracy: 0.8983\n",
            "Epoch: 1, Accuracy: 0.9273\n",
            "Epoch: 2, Accuracy: 0.9348\n",
            "Epoch: 3, Accuracy: 0.938\n",
            "Epoch: 4, Accuracy: 0.9394\n",
            "Epoch: 5, Accuracy: 0.94\n",
            "Epoch: 6, Accuracy: 0.9391\n",
            "Epoch: 7, Accuracy: 0.9383\n",
            "Epoch: 8, Accuracy: 0.9401\n",
            "Epoch: 9, Accuracy: 0.9393\n",
            "Epoch: 10, Accuracy: 0.9416\n",
            "Epoch: 11, Accuracy: 0.9436\n",
            "Epoch: 12, Accuracy: 0.9425\n",
            "Epoch: 13, Accuracy: 0.9446\n",
            "Epoch: 14, Accuracy: 0.9437\n",
            "Epoch: 15, Accuracy: 0.9405\n",
            "Epoch: 16, Accuracy: 0.9425\n",
            "Epoch: 17, Accuracy: 0.943\n",
            "Epoch: 18, Accuracy: 0.9432\n",
            "Epoch: 19, Accuracy: 0.9399\n"
          ]
        },
        {
          "output_type": "display_data",
          "data": {
            "text/plain": [
              "<Figure size 432x288 with 1 Axes>"
            ],
            "image/png": "[encoded data removed]"
          },
          "metadata": {
            "needs_background": "light"
          }
        },
        {
          "output_type": "stream",
          "name": "stdout",
          "text": [
            "CPU times: user 33.8 s, sys: 20.1 s, total: 53.9 s\n",
            "Wall time: 35.3 s\n"
          ]
        }
      ]
    },
    {
      "cell_type": "code",
      "source": [
        "network = Network([784,30,30,10], l2=0.001, momentum=0.6)\n",
        "%time network.SGD((x_train, y_train), epochs=20, mini_batch_size=100, eta=3., test_data=(x_test, y_test))\n",
        "\n",
        "network_check = NetworkWithCheckpointing([784,30,30,10], 2, l2=0.001, momentum=0.6)\n",
        "%time network_check.SGD((x_train, y_train), epochs=20, mini_batch_size=100, eta=3., test_data=(x_test, y_test))"
      ],
      "metadata": {
        "colab": {
          "base_uri": "https://localhost:8080/",
          "height": 1000
        },
        "id": "RBUG0O8igfqY",
        "outputId": "95ed80a9-6072-4fb0-e15e-ab72323987b6"
      },
      "execution_count": 52,
      "outputs": [
        {
          "output_type": "stream",
          "name": "stdout",
          "text": [
            "Epoch: 0, Accuracy: 0.8732\n",
            "Epoch: 1, Accuracy: 0.9118\n",
            "Epoch: 2, Accuracy: 0.925\n",
            "Epoch: 3, Accuracy: 0.9287\n",
            "Epoch: 4, Accuracy: 0.9317\n",
            "Epoch: 5, Accuracy: 0.9289\n",
            "Epoch: 6, Accuracy: 0.9411\n",
            "Epoch: 7, Accuracy: 0.9366\n",
            "Epoch: 8, Accuracy: 0.9461\n",
            "Epoch: 9, Accuracy: 0.9411\n",
            "Epoch: 10, Accuracy: 0.9399\n",
            "Epoch: 11, Accuracy: 0.9475\n",
            "Epoch: 12, Accuracy: 0.9469\n",
            "Epoch: 13, Accuracy: 0.9388\n",
            "Epoch: 14, Accuracy: 0.9409\n",
            "Epoch: 15, Accuracy: 0.9483\n",
            "Epoch: 16, Accuracy: 0.9466\n",
            "Epoch: 17, Accuracy: 0.9473\n",
            "Epoch: 18, Accuracy: 0.9512\n",
            "Epoch: 19, Accuracy: 0.9469\n"
          ]
        },
        {
          "output_type": "display_data",
          "data": {
            "text/plain": [
              "<Figure size 432x288 with 1 Axes>"
            ],
            "image/png": "[encoded data removed]"
          },
          "metadata": {
            "needs_background": "light"
          }
        },
        {
          "output_type": "stream",
          "name": "stdout",
          "text": [
            "CPU times: user 43.9 s, sys: 44.6 s, total: 1min 28s\n",
            "Wall time: 48.7 s\n",
            "Epoch: 0, Accuracy: 0.9022\n",
            "Epoch: 1, Accuracy: 0.9129\n",
            "Epoch: 2, Accuracy: 0.9253\n",
            "Epoch: 3, Accuracy: 0.9306\n",
            "Epoch: 4, Accuracy: 0.9365\n",
            "Epoch: 5, Accuracy: 0.9393\n",
            "Epoch: 6, Accuracy: 0.9446\n",
            "Epoch: 7, Accuracy: 0.9371\n",
            "Epoch: 8, Accuracy: 0.9492\n",
            "Epoch: 9, Accuracy: 0.9461\n",
            "Epoch: 10, Accuracy: 0.9474\n",
            "Epoch: 11, Accuracy: 0.9443\n",
            "Epoch: 12, Accuracy: 0.9468\n",
            "Epoch: 13, Accuracy: 0.9445\n",
            "Epoch: 14, Accuracy: 0.948\n",
            "Epoch: 15, Accuracy: 0.9457\n",
            "Epoch: 16, Accuracy: 0.9448\n",
            "Epoch: 17, Accuracy: 0.9496\n",
            "Epoch: 18, Accuracy: 0.9478\n",
            "Epoch: 19, Accuracy: 0.9484\n"
          ]
        },
        {
          "output_type": "display_data",
          "data": {
            "text/plain": [
              "<Figure size 432x288 with 1 Axes>"
            ],
            "image/png": "[encoded data removed]"
          },
          "metadata": {
            "needs_background": "light"
          }
        },
        {
          "output_type": "stream",
          "name": "stdout",
          "text": [
            "CPU times: user 56.1 s, sys: 1min 19s, total: 2min 15s\n",
            "Wall time: 1min 24s\n"
          ]
        }
      ]
    },
    {
      "cell_type": "code",
      "source": [
        "network = Network([784,100,80,50,20,10], l2=0.001, momentum=0.6)\n",
        "%time network.SGD((x_train, y_train), epochs=20, mini_batch_size=100, eta=3., test_data=(x_test, y_test))\n",
        "\n",
        "network_check = NetworkWithCheckpointing([784,100,80,50,20,10], 3, l2=0.001, momentum=0.6)\n",
        "%time network_check.SGD((x_train, y_train), epochs=20, mini_batch_size=100, eta=3., test_data=(x_test, y_test))"
      ],
      "metadata": {
        "colab": {
          "base_uri": "https://localhost:8080/",
          "height": 961
        },
        "id": "yFvd-k3m557v",
        "outputId": "a994f9be-59fd-4ce6-b40c-9d8f508f37f0"
      },
      "execution_count": null,
      "outputs": [
        {
          "output_type": "stream",
          "name": "stdout",
          "text": [
            "Epoch: 0, Accuracy: 0.0974\n",
            "Epoch: 1, Accuracy: 0.0974\n",
            "Epoch: 2, Accuracy: 0.101\n",
            "Epoch: 3, Accuracy: 0.2142\n",
            "Epoch: 4, Accuracy: 0.8904\n",
            "Epoch: 5, Accuracy: 0.9204\n",
            "Epoch: 6, Accuracy: 0.9333\n",
            "Epoch: 7, Accuracy: 0.9352\n",
            "Epoch: 8, Accuracy: 0.9366\n",
            "Epoch: 9, Accuracy: 0.948\n",
            "Epoch: 10, Accuracy: 0.951\n",
            "Epoch: 11, Accuracy: 0.9563\n",
            "Epoch: 12, Accuracy: 0.9563\n",
            "Epoch: 13, Accuracy: 0.9583\n",
            "Epoch: 14, Accuracy: 0.9588\n",
            "Epoch: 15, Accuracy: 0.9599\n",
            "Epoch: 16, Accuracy: 0.9619\n",
            "Epoch: 17, Accuracy: 0.9633\n",
            "Epoch: 18, Accuracy: 0.9666\n",
            "Epoch: 19, Accuracy: 0.9548\n"
          ]
        },
        {
          "output_type": "display_data",
          "data": {
            "text/plain": [
              "<Figure size 432x288 with 1 Axes>"
            ],
            "image/png": "[encoded data removed]"
          },
          "metadata": {
            "needs_background": "light"
          }
        },
        {
          "output_type": "stream",
          "name": "stdout",
          "text": [
            "CPU times: user 1min 50s, sys: 1min 42s, total: 3min 33s\n",
            "Wall time: 1min 53s\n",
            "Epoch: 0, Accuracy: 0.0974\n",
            "Epoch: 1, Accuracy: 0.2108\n",
            "Epoch: 2, Accuracy: 0.5993\n",
            "Epoch: 3, Accuracy: 0.8708\n",
            "Epoch: 4, Accuracy: 0.8895\n",
            "Epoch: 5, Accuracy: 0.9038\n",
            "Epoch: 6, Accuracy: 0.9259\n",
            "Epoch: 7, Accuracy: 0.9354\n",
            "Epoch: 8, Accuracy: 0.9339\n",
            "Epoch: 9, Accuracy: 0.9447\n",
            "Epoch: 10, Accuracy: 0.9441\n",
            "Epoch: 11, Accuracy: 0.9462\n",
            "Epoch: 12, Accuracy: 0.9444\n",
            "Epoch: 13, Accuracy: 0.9486\n",
            "Epoch: 14, Accuracy: 0.9513\n",
            "Epoch: 15, Accuracy: 0.9533\n",
            "Epoch: 16, Accuracy: 0.9504\n",
            "Epoch: 17, Accuracy: 0.9563\n"
          ]
        }
      ]
    },
    {
      "cell_type": "markdown",
      "source": [
        "During classes we were said to compute the memory usage only theoretically. \n",
        "Let `c := checkpoint_every_nth_layer` and `n := number_of_layers` and `freq := n/c`.\n",
        "\n",
        "We want to estimate, what's the difference in the memory usage between  `Network` and `NetworkWithCheckpointing`. As we see, in `NetworkWithCheckpointing` we store values of forward steps after activation in `gs` that is a dictionary, not an array. In `gs` we are not storing all the valus, but one every `c`-th layer. The dict with k elements uses `O(k log k)` memory. Let s = memory usage of results of forward step for one layer. In  `Network` we use `O(ns)` memory to store these variables, in `NetworkWithCheckpointing` that memory usage is decreased to `O(freq log freq * s)`.\n",
        "\n"
      ],
      "metadata": {
        "id": "8IclTRn44z96"
      }
    }
  ],
  "metadata": {
    "kernelspec": {
      "display_name": "Python 3",
      "language": "python",
      "name": "python3"
    },
    "language_info": {
      "codemirror_mode": {
        "name": "ipython",
        "version": 2
      },
      "file_extension": ".py",
      "mimetype": "text/x-python",
      "name": "python",
      "nbconvert_exporter": "python",
      "pygments_lexer": "ipython2",
      "version": "2.7.6"
    },
    "colab": {
      "provenance": [],
      "include_colab_link": true
    }
  },
  "nbformat": 4,
  "nbformat_minor": 0
}