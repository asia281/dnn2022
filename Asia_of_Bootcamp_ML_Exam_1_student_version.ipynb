{
  "cells": [
    {
      "cell_type": "markdown",
      "metadata": {
        "id": "view-in-github",
        "colab_type": "text"
      },
      "source": [
        "<a href=\"https://colab.research.google.com/github/asia281/dnn2022/blob/main/Asia_of_Bootcamp_ML_Exam_1_student_version.ipynb\" target=\"_parent\"><img src=\"https://colab.research.google.com/assets/colab-badge.svg\" alt=\"Open In Colab\"/></a>"
      ]
    },
    {
      "cell_type": "markdown",
      "metadata": {
        "id": "gmIhtkHAKJzP"
      },
      "source": [
        "Taylor series of cosine function is given as\n",
        "\n",
        "$$\\cos(x) = \\sum_{n=0}^\\infty \\frac{(-1)^n}{(2n)!}x^{2n}$$\n",
        "\n",
        "Let us define truncated Taylor series of cosine function as\n",
        "\n",
        "$$T_N(x) = \\sum_{n=0}^N \\frac{(-1)^n}{(2n)!}x^{2n}$$\n",
        "\n",
        "You are to:\n",
        "1. Calculate values of $T_N(x)$ for provided values of $x$ (`x_values`) and $N$ (`n_cutoffs`).\n",
        "2. Calculate maximum error value $|cos(x) - T_N(x)|$ attained for calculated values for $x\\in[-\\pi, \\pi]$.\n",
        "\n",
        "You may only use vectorized operations for algebraic computation. To calcluate $n!$ use the `factorial` function"
      ]
    },
    {
      "cell_type": "code",
      "execution_count": 2,
      "metadata": {
        "id": "9vZjXQbg2hXa"
      },
      "outputs": [],
      "source": [
        "import numpy as np\n",
        "import matplotlib.pyplot as plt\n",
        "\n",
        "factorial = np.vectorize(np.math.factorial)"
      ]
    },
    {
      "cell_type": "code",
      "execution_count": 41,
      "metadata": {
        "colab": {
          "base_uri": "https://localhost:8080/",
          "height": 242
        },
        "id": "ngXNxF0j2iRc",
        "outputId": "99034d4b-c63e-4f41-856e-2b0e35d24b13"
      },
      "outputs": [
        {
          "output_type": "error",
          "ename": "ValueError",
          "evalue": "ignored",
          "traceback": [
            "\u001b[0;31m---------------------------------------------------------------------------\u001b[0m",
            "\u001b[0;31mValueError\u001b[0m                                Traceback (most recent call last)",
            "\u001b[0;32m<ipython-input-41-a5c064812ed6>\u001b[0m in \u001b[0;36m<cell line: 29>\u001b[0;34m()\u001b[0m\n\u001b[1;32m     27\u001b[0m \u001b[0;34m\u001b[0m\u001b[0m\n\u001b[1;32m     28\u001b[0m \u001b[0;31m# Calculate the maximum error for each x using mask\u001b[0m\u001b[0;34m\u001b[0m\u001b[0;34m\u001b[0m\u001b[0m\n\u001b[0;32m---> 29\u001b[0;31m \u001b[0mx_mask\u001b[0m \u001b[0;34m=\u001b[0m \u001b[0mnp\u001b[0m\u001b[0;34m.\u001b[0m\u001b[0mwhere\u001b[0m\u001b[0;34m(\u001b[0m\u001b[0;34m(\u001b[0m\u001b[0mx_values\u001b[0m \u001b[0;34m>=\u001b[0m \u001b[0;34m-\u001b[0m\u001b[0mnp\u001b[0m\u001b[0;34m.\u001b[0m\u001b[0mpi\u001b[0m\u001b[0;34m)\u001b[0m \u001b[0;32mand\u001b[0m \u001b[0;34m(\u001b[0m\u001b[0mx_values\u001b[0m \u001b[0;34m<=\u001b[0m \u001b[0mnp\u001b[0m\u001b[0;34m.\u001b[0m\u001b[0mpi\u001b[0m\u001b[0;34m)\u001b[0m\u001b[0;34m)\u001b[0m\u001b[0;34m\u001b[0m\u001b[0;34m\u001b[0m\u001b[0m\n\u001b[0m\u001b[1;32m     30\u001b[0m \u001b[0mmax_errors\u001b[0m \u001b[0;34m=\u001b[0m \u001b[0;34m[\u001b[0m\u001b[0mnp\u001b[0m\u001b[0;34m.\u001b[0m\u001b[0mabs\u001b[0m\u001b[0;34m(\u001b[0m\u001b[0mnp\u001b[0m\u001b[0;34m.\u001b[0m\u001b[0mcos\u001b[0m\u001b[0;34m(\u001b[0m\u001b[0mx_values\u001b[0m\u001b[0;34m[\u001b[0m\u001b[0mx_mask\u001b[0m\u001b[0;34m]\u001b[0m\u001b[0;34m)\u001b[0m \u001b[0;34m-\u001b[0m \u001b[0mvalues\u001b[0m\u001b[0;34m[\u001b[0m\u001b[0;34m:\u001b[0m\u001b[0;34m,\u001b[0m \u001b[0mx_mask\u001b[0m\u001b[0;34m]\u001b[0m\u001b[0;34m)\u001b[0m\u001b[0;34m]\u001b[0m\u001b[0;34m\u001b[0m\u001b[0;34m\u001b[0m\u001b[0m\n\u001b[1;32m     31\u001b[0m \u001b[0;31m#max_errors = [np.abs(np.cos(x_values[25:-25]) - values[:, 25:-25])]\u001b[0m\u001b[0;34m\u001b[0m\u001b[0;34m\u001b[0m\u001b[0m\n",
            "\u001b[0;31mValueError\u001b[0m: The truth value of an array with more than one element is ambiguous. Use a.any() or a.all()"
          ]
        }
      ],
      "source": [
        "x_values = np.linspace(-2*np.pi, 2*np.pi, 100)\n",
        "n_cutoffs = np.array([1, 2, 3, 4, 5, 6])\n",
        "n = np.arange(7, dtype=int)\n",
        "cos_all = np.cos(x_values)\n",
        "\n",
        "\n",
        "### YOUR SOLUTION\n",
        "# you should define a variable values of shape (6, 100) and compute according\n",
        "# to the formula in the problem statement in a vectorized way\n",
        "\n",
        "powers = 2 * n_cutoffs  # kolejne wykladniki\n",
        "factorials = (-1) ** (n_cutoffs % 2) * factorial(2 * n_cutoffs) # i mnożniki\n",
        "\n",
        "x_values_all, powers_all = np.meshgrid(x_values, powers)\n",
        "_, factorials_all = np.meshgrid(x_values, factorials)\n",
        "\n",
        "values = (x_values_all ** powers_all) / factorials_all\n",
        "\n",
        "values[0] += 1 # dodac wartosc dla zera\n",
        "values = np.cumsum(values, axis=0) # i zrobic sumy prefiksowe\n",
        "\n",
        "\n",
        "# Calculate the maximum error for each x using mask\n",
        "x_mask = np.where((x_values >= -np.pi) & (x_values <= np.pi))\n",
        "max_errors = [np.abs(np.cos(x_values[x_mask]) - values[:, x_mask])]\n",
        "#max_errors = [np.abs(np.cos(x_values[25:-25]) - values[:, 25:-25])]\n",
        "max_error = np.max(max_errors)\n",
        "\n",
        "### YOUR SOLUTION ENDS HERE\n",
        "\n",
        "assert values.shape == (6, 100)  # initial lenghts of n_cutoffs and x_values\n",
        "for n, y_values in zip(n_cutoffs, values):\n",
        "  plt.plot(x_values, y_values, label=n)\n",
        "\n",
        "plt.plot(x_values, np.cos(x_values), color='black', linestyle='--', linewidth=2, label='$\\cos(x)$')\n",
        "plt.legend(loc=(1.04, 0))\n",
        "plt.ylim(-2, 2)\n",
        "\n",
        "print(max_error)\n",
        "assert np.isclose(max_error, 2.83611)\n"
      ]
    },
    {
      "cell_type": "code",
      "execution_count": null,
      "metadata": {
        "id": "ord7GgA6IZwn"
      },
      "outputs": [],
      "source": []
    }
  ],
  "metadata": {
    "colab": {
      "provenance": [],
      "include_colab_link": true
    },
    "kernelspec": {
      "display_name": "Python 3",
      "name": "python3"
    },
    "language_info": {
      "name": "python"
    }
  },
  "nbformat": 4,
  "nbformat_minor": 0
}