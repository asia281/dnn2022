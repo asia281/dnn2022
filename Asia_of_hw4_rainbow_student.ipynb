{
  "cells": [
    {
      "cell_type": "markdown",
      "metadata": {
        "id": "view-in-github",
        "colab_type": "text"
      },
      "source": [
        "<a href=\"https://colab.research.google.com/github/asia281/dnn2022/blob/main/Asia_of_hw4_rainbow_student.ipynb\" target=\"_parent\"><img src=\"https://colab.research.google.com/assets/colab-badge.svg\" alt=\"Open In Colab\"/></a>"
      ]
    },
    {
      "cell_type": "markdown",
      "metadata": {
        "id": "91a0c19f"
      },
      "source": [
        "# Sample Efficient Reinforcement Learning - from DQN to (almost) Rainbow\n",
        "### Author: Michal Nauman, Editor: Mateusz Olko\n",
        "\n",
        "In this homework we will expand upon on the Deep Q-Network (DQN) algorithm [(Mnih 2014)](https://www.cs.toronto.edu/~vmnih/docs/dqn.pdf). DQN has been successfully applied to a wide range of environments and has demonstrated strong performance on many tasks. However, several challenges and limitations to the DQN that have been identified in the literature:\n",
        "\n",
        "1. Sample complexity - DQN can require a large number of samples to learn effectively, especially in environments with high-dimensional state spaces or a large number of possible actions\n",
        "2. Convergence - DQN is known to converge to the optimal solution under certain conditions, but the convergence properties of the algorithm are not well understood and it is not guaranteed to converge in all cases\n",
        "3. Overestimation - DQN is known to sometimes overestimate the Q-values of certain actions, which can lead to suboptimal behavior\n",
        "4. Sensitivity to hyperparameters - DQN can be sensitive to the choice of hyperparameters, such as the learning rate, the discount factor, and the exploration scheme.\n",
        "\n",
        "Rainbow algorithm [(Hessel 2017)](https://arxiv.org/pdf/1710.02298.pdf) is a combination of several techniques for improving the performance of the DQN algorithm, which was originally proposed by DeepMind. By combining several techniques, the Rainbow algorithm is able to improve the sample efficiency, stability and  performance of the DQN algorithm. Overall, the Rainbow algorithm represents an important step forward in the development of reinforcement learning algorithms and is often used as a baseline for implementing more complex changes to the RL setup (e.g. [(Schwarzer 2021)](https://arxiv.org/pdf/2007.05929.pdf) or [(Srinivas 2020)](https://arxiv.org/pdf/2004.04136.pdf))\n",
        "\n",
        "In this homework, you will learn to augment a simple DQN implementation with all the components of Rainbow except for distributional Q-learning. To test our implementations, we will use the Lunar Lander environment. Given resources, the environment is easily solved by a vanilla DQN implementation. But we do not have resources. What we have is a budget of:\n",
        "\n",
        "1. 40 000 environment steps\n",
        "2. 35 000 Q-network updates \n",
        "\n",
        "And quite inefficient exploration scheme. As such, our basic DQN implementation will not be enough to solve Lunar Landing problem within the constraints.\n",
        "\n",
        "## Homework scenario and grading\n",
        "\n",
        "We provide you with a basic implementation of the DQN. Your job is to expand it with the following modules:\n",
        "\n",
        "1. Double Q-Learning - [(van Hasselt 2015)](https://arxiv.org/pdf/1509.06461.pdf) **1.5 pkt**\n",
        "2. N-step learning - [(Sutton 1988)](http://incompleteideas.net/papers/sutton-88-with-erratum.pdf) **1.5 pkt**\n",
        "3. Noisy linear layers - [(Fortunato et al. 2017)](https://arxiv.org/pdf/1706.10295.pdf) **1.5 pkt**\n",
        "4. Dueling network architecture - [(Wang et al. 2015)](https://arxiv.org/pdf/1511.06581.pdf) **1.5 pkt**\n",
        "5. Prioritized experience replay - [(Schaul et al. 2015)](https://arxiv.org/pdf/1511.05952.pdf) **1.5 pkt**\n",
        "6. (Almost) Rainbow - [(Hessel 2017)](https://arxiv.org/pdf/1710.02298.pdf) **1.5 pkt**\n",
        "\n",
        "Each module is designed to work independently (i.e. you can implement each individually with DQN). The final task of this homework is to combine all the implemented modules into (almost) Rainbow agent. You get the last point (**1 pkt**) for plotting results for all implemented parts."
      ],
      "id": "91a0c19f"
    },
    {
      "cell_type": "markdown",
      "metadata": {
        "id": "949c29dc"
      },
      "source": [
        "We import the necessary modules:"
      ],
      "id": "949c29dc"
    },
    {
      "cell_type": "code",
      "execution_count": 1,
      "metadata": {
        "colab": {
          "base_uri": "https://localhost:8080/"
        },
        "id": "Z_2HKKYIdygC",
        "outputId": "4eed1e23-935e-478a-bf77-7f35e7c638e1"
      },
      "outputs": [
        {
          "output_type": "stream",
          "name": "stdout",
          "text": [
            "Looking in indexes: https://pypi.org/simple, https://us-python.pkg.dev/colab-wheels/public/simple/\n",
            "Requirement already satisfied: gym[box2d] in /usr/local/lib/python3.8/dist-packages (0.25.2)\n",
            "Requirement already satisfied: cloudpickle>=1.2.0 in /usr/local/lib/python3.8/dist-packages (from gym[box2d]) (2.2.0)\n",
            "Requirement already satisfied: importlib-metadata>=4.8.0 in /usr/local/lib/python3.8/dist-packages (from gym[box2d]) (6.0.0)\n",
            "Requirement already satisfied: numpy>=1.18.0 in /usr/local/lib/python3.8/dist-packages (from gym[box2d]) (1.21.6)\n",
            "Requirement already satisfied: gym-notices>=0.0.4 in /usr/local/lib/python3.8/dist-packages (from gym[box2d]) (0.0.8)\n",
            "Collecting box2d-py==2.3.5\n",
            "  Downloading box2d-py-2.3.5.tar.gz (374 kB)\n",
            "\u001b[2K     \u001b[90m━━━━━━━━━━━━━━━━━━━━━━━━━━━━━━━━━━━━━━\u001b[0m \u001b[32m374.4/374.4 KB\u001b[0m \u001b[31m23.6 MB/s\u001b[0m eta \u001b[36m0:00:00\u001b[0m\n",
            "\u001b[?25h  Preparing metadata (setup.py) ... \u001b[?25l\u001b[?25hdone\n",
            "Collecting swig==4.*\n",
            "  Downloading swig-4.1.1-py2.py3-none-manylinux_2_5_x86_64.manylinux1_x86_64.whl (1.8 MB)\n",
            "\u001b[2K     \u001b[90m━━━━━━━━━━━━━━━━━━━━━━━━━━━━━━━━━━━━━━━━\u001b[0m \u001b[32m1.8/1.8 MB\u001b[0m \u001b[31m78.0 MB/s\u001b[0m eta \u001b[36m0:00:00\u001b[0m\n",
            "\u001b[?25hCollecting pygame==2.1.0\n",
            "  Downloading pygame-2.1.0-cp38-cp38-manylinux_2_17_x86_64.manylinux2014_x86_64.whl (18.3 MB)\n",
            "\u001b[2K     \u001b[90m━━━━━━━━━━━━━━━━━━━━━━━━━━━━━━━━━━━━━━━━\u001b[0m \u001b[32m18.3/18.3 MB\u001b[0m \u001b[31m52.1 MB/s\u001b[0m eta \u001b[36m0:00:00\u001b[0m\n",
            "\u001b[?25hRequirement already satisfied: zipp>=0.5 in /usr/local/lib/python3.8/dist-packages (from importlib-metadata>=4.8.0->gym[box2d]) (3.11.0)\n",
            "Building wheels for collected packages: box2d-py\n",
            "  \u001b[1;31merror\u001b[0m: \u001b[1msubprocess-exited-with-error\u001b[0m\n",
            "  \n",
            "  \u001b[31m×\u001b[0m \u001b[32mpython setup.py bdist_wheel\u001b[0m did not run successfully.\n",
            "  \u001b[31m│\u001b[0m exit code: \u001b[1;36m1\u001b[0m\n",
            "  \u001b[31m╰─>\u001b[0m See above for output.\n",
            "  \n",
            "  \u001b[1;35mnote\u001b[0m: This error originates from a subprocess, and is likely not a problem with pip.\n",
            "  Building wheel for box2d-py (setup.py) ... \u001b[?25lerror\n",
            "\u001b[31m  ERROR: Failed building wheel for box2d-py\u001b[0m\u001b[31m\n",
            "\u001b[0m\u001b[?25h  Running setup.py clean for box2d-py\n",
            "Failed to build box2d-py\n",
            "Installing collected packages: swig, box2d-py, pygame\n",
            "  Running setup.py install for box2d-py ... \u001b[?25l\u001b[?25hdone\n",
            "\u001b[33m  DEPRECATION: box2d-py was installed using the legacy 'setup.py install' method, because a wheel could not be built for it. A possible replacement is to fix the wheel build issue reported above. Discussion can be found at https://github.com/pypa/pip/issues/8368\u001b[0m\u001b[33m\n",
            "\u001b[0mSuccessfully installed box2d-py-2.3.5 pygame-2.1.0 swig-4.1.1\n"
          ]
        }
      ],
      "source": [
        "!pip install gym[box2d]"
      ],
      "id": "Z_2HKKYIdygC"
    },
    {
      "cell_type": "code",
      "execution_count": 2,
      "metadata": {
        "id": "d0728d82"
      },
      "outputs": [],
      "source": [
        "import os\n",
        "import math\n",
        "import random\n",
        "import time\n",
        "\n",
        "import gym\n",
        "from google.colab import files\n",
        "import numpy as np\n",
        "import torch\n",
        "import torch.nn as nn\n",
        "import torch.optim as optim\n"
      ],
      "id": "d0728d82"
    },
    {
      "cell_type": "markdown",
      "metadata": {
        "id": "094e4c1f"
      },
      "source": [
        "We define a simple class for holding the hyperparameters (do not change those!)"
      ],
      "id": "094e4c1f"
    },
    {
      "cell_type": "code",
      "execution_count": 3,
      "metadata": {
        "colab": {
          "base_uri": "https://localhost:8080/"
        },
        "id": "e1883162",
        "outputId": "f6ffb236-7f7c-4f68-8b99-ce0a7274520d"
      },
      "outputs": [
        {
          "output_type": "stream",
          "name": "stderr",
          "text": [
            "/usr/local/lib/python3.8/dist-packages/gym/core.py:317: DeprecationWarning: \u001b[33mWARN: Initializing wrapper in old step API which returns one bool instead of two. It is recommended to set `new_step_api=True` to use new step API. This will be the default behaviour in future.\u001b[0m\n",
            "  deprecation(\n",
            "/usr/local/lib/python3.8/dist-packages/gym/wrappers/step_api_compatibility.py:39: DeprecationWarning: \u001b[33mWARN: Initializing environment in old step API which returns one bool instead of two. It is recommended to set `new_step_api=True` to use new step API. This will be the default behaviour in future.\u001b[0m\n",
            "  deprecation(\n"
          ]
        }
      ],
      "source": [
        "# do not change!\n",
        "class parse_args:\n",
        "    def __init__(self):\n",
        "        self.gym_id = \"LunarLander-v2\"\n",
        "        self.capacity = 10000\n",
        "        self.init_steps = 10000\n",
        "        self.batch_size = 128\n",
        "        self.hidden_dim = 128\n",
        "        self.learning_rate = 7e-4\n",
        "        self.discount = 0.99\n",
        "        self.samples = 3\n",
        "        self.total_timesteps = 70000\n",
        "        self.target_update_freq = 50\n",
        "        self.evaluate_freq = 1000\n",
        "        self.evaluate_samples = 5\n",
        "        self.anneal_steps = 50000\n",
        "        self.epsilon_limit = 0.01\n",
        "        self.cuda = True\n",
        "        env = gym.make(self.gym_id)\n",
        "        self.state_dim = env.observation_space.shape[0]\n",
        "        self.action_dim = env.action_space.n\n",
        "        self.device = torch.device(\"cuda\" if torch.cuda.is_available() and self.cuda else \"cpu\")\n",
        "        \n",
        "args = parse_args()"
      ],
      "id": "e1883162"
    },
    {
      "cell_type": "markdown",
      "metadata": {
        "id": "e0866057"
      },
      "source": [
        "And two helper functions: one for setting seeds, one for simple orthogonal initialization of linear layers, and one for saving and downloading training results."
      ],
      "id": "e0866057"
    },
    {
      "cell_type": "code",
      "execution_count": 4,
      "metadata": {
        "id": "97603d29"
      },
      "outputs": [],
      "source": [
        "def set_seed_everywhere(env, seed):\n",
        "    torch.manual_seed(seed)\n",
        "    if torch.cuda.is_available():\n",
        "        torch.cuda.manual_seed_all(seed)\n",
        "    np.random.seed(seed)\n",
        "    env.reset(seed=seed)\n",
        "    \n",
        "def weight_init(model):\n",
        "    if isinstance(model, nn.Linear):\n",
        "        nn.init.orthogonal_(model.weight.data)\n",
        "        model.bias.data.fill_(0.0)\n",
        "\n",
        "def download_numpy(filename, data):\n",
        "    np.save(filename, data)\n",
        "    files.download(filename)"
      ],
      "id": "97603d29"
    },
    {
      "cell_type": "markdown",
      "metadata": {
        "id": "32176d86"
      },
      "source": [
        "## 0. DQN"
      ],
      "id": "32176d86"
    },
    {
      "cell_type": "markdown",
      "metadata": {
        "id": "8ed14f18"
      },
      "source": [
        "Deep Q-Network (DQN) [(Mnih 2014)](https://www.cs.toronto.edu/~vmnih/docs/dqn.pdf) is a reinforcement learning algorithm that uses a deep neural network to learn a Q-function, which is a function that estimates the expected return for taking a given action in a given state. The goal of the DQN algorithm is to learn a policy that maximizes the expected return by learning the Q-function and selecting the action with the highest estimated return in each state.\n",
        "\n",
        "The DQN algorithm consists of two main components: a Q-network and an experience buffer. The Q-network is a deep neural network that takes in a state as input and outputs the estimated Q-values for each possible action. The experience buffer is a data structure that stores a set of experiences. The DQN algorithm works by interacting with the environment and storing the experiences in the experience buffer. The Q-network is then trained using a mini-batch of experiences uniformly sampled from the experience buffer. This process is known as experience replay and is used to decorrelate the experiences and to stabilize the learning process. The Q-network is updated using the loss function:\n",
        "\n",
        "$$\n",
        "\\mathcal{L}_{\\theta} = \\frac{1}{B} \\sum_{i=1}^{B} \\bigl( \\mathrm{TD}~(s_i, a_i, s^{'}_{i}) \\bigr)^{2}\n",
        "$$\n",
        "\n",
        "With:\n",
        "\n",
        "$$\n",
        "\\mathrm{TD}~(s_i, a_i, s^{'}_{i}) = Q_{\\theta}~(s_i,a_i) - \\bigl(r_{(s_i,a_i,s_{i}^{'})} + \\gamma ~ \\underset{a^{'}_{i} \\sim \\bar{Q}_{\\theta}}{\\mathrm{max}} ~ \\bar{Q}_{\\theta}~(s_{i}^{'},a_{i}^{'}) \\bigr)\n",
        "$$\n",
        "\n",
        "Where $Q_{\\theta}$ and $\\bar{Q}_{\\theta}$ denote learned and target Q-networks respectively. The target network is a copy of the Q-network that is updated less frequently, and using it to compute the target Q-values helps to stabilize the learning process and improve the performance of the DQN algorithm. Note that to increase stability of training we use Huber loss (smooth_l1_loss) instead of L2.\n",
        "\n",
        "There are several ways to incorporate exploration into the DQN algorithm. One common method is to use an $\\epsilon$-greedy exploration strategy, where the agent takes a random action with probability $\\epsilon$ and takes the action with the highest estimated Q-value with probability $1 - \\epsilon$. The value of $\\epsilon$ is typically decreased over time, so that the agent initially explores more and then gradually shifts towards exploitation as it learns more about the environment.\n",
        "\n",
        "Below, we implement all the components of a basic DQN. We start with the experience buffer - a data structure that stores a set of transitions, where a transition is typically represented as a tuple $(s, a, r, s', t)$, where $s$ is the state, $a$ is the action taken in state $s$, $r$ is the reward received by performing $a$ in $s$ and getting to $s'$, $s'$ is the new state observed after performing $a$ in $s$ and $t$ is the termination boolean (true if $s'$ is terminal). Experience buffers are used to store the experiences of an agent as it interacts with an environment, and are used to train a Q-function, which is a function that estimates the expected return for taking a given action in a given state. We implement **ExperienceBuffer** class using NumPy arrays and we define two methods:\n",
        "\n",
        "1. *add* - adds transition to the buffer\n",
        "2. *sample* - samples a batch of transitions from the buffer"
      ],
      "id": "8ed14f18"
    },
    {
      "cell_type": "code",
      "execution_count": 5,
      "metadata": {
        "id": "53e147c5"
      },
      "outputs": [],
      "source": [
        "class ExperienceBuffer:\n",
        "    def __init__(self, args):\n",
        "        self.states = np.zeros((args.capacity, args.state_dim), dtype=np.float32)\n",
        "        self.actions = np.zeros((args.capacity, 1), dtype=np.int64)\n",
        "        self.rewards = np.zeros((args.capacity, 1), dtype=np.float32)\n",
        "        self.next_states = np.zeros((args.capacity, args.state_dim), dtype=np.float32)\n",
        "        self.terminals = np.zeros((args.capacity, 1), dtype=np.int64)\n",
        "        self.full = False\n",
        "        self.idx = 0\n",
        "        self.args = args \n",
        "        \n",
        "    def add(self, state, action, reward, next_state, terminal):\n",
        "        self.states[self.idx, :] = state\n",
        "        self.actions[self.idx, :] = action\n",
        "        self.rewards[self.idx, :] = reward\n",
        "        self.next_states[self.idx, :] = next_state\n",
        "        self.terminals[self.idx, :] = 1 if terminal else 0\n",
        "        self.idx += 1\n",
        "        if self.idx == self.args.capacity:\n",
        "            self.full = True\n",
        "            self.idx = 0\n",
        "            \n",
        "    def sample(self):\n",
        "        idx = np.random.permutation(self.args.capacity)[:self.args.batch_size] if self.full else np.random.permutation(self.idx-1)[:self.args.batch_size]\n",
        "        states = torch.from_numpy(self.states[idx]).to(self.args.device)\n",
        "        actions = torch.from_numpy(self.actions[idx]).to(self.args.device)\n",
        "        rewards = torch.from_numpy(self.rewards[idx]).to(self.args.device)\n",
        "        next_states = torch.from_numpy(self.next_states[idx]).to(self.args.device)\n",
        "        terminals = torch.from_numpy(self.terminals[idx]).long().to(self.args.device)\n",
        "        return states, actions, rewards, next_states, terminals"
      ],
      "id": "53e147c5"
    },
    {
      "cell_type": "markdown",
      "metadata": {
        "id": "9fdcd965"
      },
      "source": [
        "**QNetwork** class is a simple nn.Module MLP. Note the output size being equal to the amount of actions in the environment."
      ],
      "id": "9fdcd965"
    },
    {
      "cell_type": "code",
      "execution_count": 6,
      "metadata": {
        "id": "e3fb7c14"
      },
      "outputs": [],
      "source": [
        "class QNetwork(nn.Module):\n",
        "    def __init__(self, args):\n",
        "        super(QNetwork, self).__init__()\n",
        "        \"\"\"\n",
        "        state_dim = 8, hidden_dim = 128, action_dim.= 4\n",
        "        \"\"\"\n",
        "\n",
        "        self.layers = nn.Sequential(\n",
        "           nn.Linear(args.state_dim, args.hidden_dim), nn.ReLU(),\n",
        "            nn.Linear(args.hidden_dim, args.hidden_dim), nn.ReLU(),\n",
        "            nn.Linear(args.hidden_dim, args.action_dim))\n",
        "        self.apply(weight_init)\n",
        "        \n",
        "    def forward(self, x):\n",
        "        return self.layers(x)"
      ],
      "id": "e3fb7c14"
    },
    {
      "cell_type": "markdown",
      "metadata": {
        "id": "03ed7a71"
      },
      "source": [
        "Finally we implement DQN agent. The class has following methods:\n",
        "\n",
        "1. *get_action* - returns action in given state using $\\epsilon$-greedy\n",
        "2. *anneal* - reduces the value of $\\epsilon$ dependent on the training step\n",
        "3. *update* - samples a batch of transitions from the experience buffer and performs a DQN update\n",
        "4. *update_target* - performs a hard update on the target Q network $\\bar{Q}_{\\theta}$\n",
        "5. *evaluate* - performs evaluation of the agent with a greedy policy \n",
        "6. *reset* - resets the agent (used between seeds)"
      ],
      "id": "03ed7a71"
    },
    {
      "cell_type": "code",
      "execution_count": 7,
      "metadata": {
        "id": "28b71037"
      },
      "outputs": [],
      "source": [
        "class DQN:\n",
        "    def __init__(self, args):\n",
        "        super(DQN, self).__init__()\n",
        "        self.args = args \n",
        "        self.buffer = ExperienceBuffer(self.args)\n",
        "        self.epsilon = 1\n",
        "        self.q_net = QNetwork(self.args).to(self.args.device)\n",
        "        self.q_target = QNetwork(self.args).to(self.args.device)\n",
        "        self.q_target.load_state_dict(self.q_net.state_dict())\n",
        "        self.optimizer = optim.Adam(self.q_net.parameters(), lr=self.args.learning_rate, eps=1e-5)\n",
        "                \n",
        "    def get_action(self, state, exploration=True):\n",
        "        with torch.no_grad():\n",
        "            return np.random.randint(self.args.action_dim) if np.random.sample() < self.epsilon and exploration else torch.argmax(self.q_net(state)).item()\n",
        "\n",
        "    def anneal(self, step):\n",
        "        self.epsilon = ((self.args.epsilon_limit - 1)/self.args.anneal_steps) * step + 1 if step < self.args.anneal_steps else self.epsilon\n",
        "\n",
        "    def update(self):\n",
        "        states, actions, rewards, next_states, terminals = self.buffer.sample()\n",
        "        with torch.no_grad():\n",
        "            q_ns = torch.max(self.q_target(next_states), dim=1)[0].unsqueeze(1)\n",
        "        q_targets = rewards + (1-terminals) * self.args.discount * q_ns\n",
        "        self.optimizer.zero_grad()\n",
        "        q_values = self.q_net(states).gather(1, actions)\n",
        "        loss = nn.functional.smooth_l1_loss(q_values, q_targets)\n",
        "        loss.backward()\n",
        "        self.optimizer.step()\n",
        "    \n",
        "    def update_target(self):\n",
        "        self.q_target.load_state_dict(self.q_net.state_dict())\n",
        "        \n",
        "    def evaluate(self, samples):\n",
        "        with torch.no_grad():\n",
        "            env_test = gym.make(self.args.gym_id)\n",
        "            eval_reward = 0\n",
        "            for i in range(samples):\n",
        "                state = env_test.reset()\n",
        "                episode_reward = 0\n",
        "                while True:\n",
        "                    action = self.get_action(torch.tensor(state).unsqueeze(0).to(self.args.device), False)\n",
        "                    next_state, reward, terminal, _ = env_test.step(action)\n",
        "                    episode_reward += reward\n",
        "                    state = next_state\n",
        "                    if terminal:\n",
        "                        eval_reward += episode_reward/samples\n",
        "                        break\n",
        "        return eval_reward\n",
        "    \n",
        "    def reset(self):\n",
        "        self.buffer = ExperienceBuffer(self.args)\n",
        "        self.epsilon = 1\n",
        "        self.q_net = QNetwork(self.args).to(self.args.device)\n",
        "        self.q_target = QNetwork(self.args).to(self.args.device)\n",
        "        self.q_target.load_state_dict(self.q_net.state_dict())\n",
        "        self.optimizer = optim.Adam(self.q_net.parameters(), lr=self.args.learning_rate, eps=1e-5)"
      ],
      "id": "28b71037"
    },
    {
      "cell_type": "markdown",
      "metadata": {
        "id": "f539a644"
      },
      "source": [
        "Finally, we provide code for agent training:"
      ],
      "id": "f539a644"
    },
    {
      "cell_type": "code",
      "execution_count": 8,
      "metadata": {
        "id": "385a9330"
      },
      "outputs": [],
      "source": [
        "def train_agent(args, agent):\n",
        "    results = np.zeros((args.total_timesteps//args.evaluate_freq, args.samples))\n",
        "    for seed in range(args.samples):\n",
        "        env = gym.make(args.gym_id)\n",
        "        agent.reset()\n",
        "        set_seed_everywhere(env, seed)\n",
        "        state = env.reset()\n",
        "        for step in range(args.total_timesteps):\n",
        "            if step == args.init_steps:\n",
        "                start_time = time.time()\n",
        "            action = agent.get_action(torch.tensor(state).unsqueeze(0).to(args.device))\n",
        "            next_state, reward, terminal, _ = env.step(action)\n",
        "            agent.buffer.add(state, action, reward, next_state, terminal)\n",
        "            agent.anneal(step)\n",
        "            state = next_state\n",
        "            if step >= args.init_steps:\n",
        "                agent.update()\n",
        "                if (step + 1) % args.target_update_freq == 0:\n",
        "                    agent.update_target()\n",
        "                if (step + 1) % args.evaluate_freq == 0:\n",
        "                    eval_reward = agent.evaluate(args.evaluate_samples)\n",
        "                    results[step//args.evaluate_freq, seed] = eval_reward\n",
        "                    print(\"\\rStep: {} Evaluation reward: {:.2f} Samples per second: {:}\".format(step, eval_reward, int((step-args.init_steps)/(time.time()-start_time))), end=\"\")\n",
        "            if terminal:\n",
        "                state = env.reset()\n",
        "                episode_reward = 0\n",
        "    return results"
      ],
      "id": "385a9330"
    },
    {
      "cell_type": "code",
      "source": [
        "!pip install gym pyvirtualdisplay > /dev/null 2>&1\n"
      ],
      "metadata": {
        "id": "_3W2NppDlZ0B"
      },
      "id": "_3W2NppDlZ0B",
      "execution_count": 9,
      "outputs": []
    },
    {
      "cell_type": "code",
      "source": [
        "def as_tensor(data: np.ndarray, dtype=torch.float32, batch: bool = False) -> torch.Tensor:\n",
        "    tensor = torch.tensor(data, dtype=dtype, device=DEVICE)\n",
        "    if batch and len(tensor.shape) == 1:\n",
        "        tensor = tensor.unsqueeze(dim=1)\n",
        "    return tensor\n"
      ],
      "metadata": {
        "id": "FZvBxwZamolQ"
      },
      "id": "FZvBxwZamolQ",
      "execution_count": 10,
      "outputs": []
    },
    {
      "cell_type": "code",
      "source": [
        "from pyvirtualdisplay import Display\n",
        "from pathlib import Path\n",
        "import imageio\n",
        "\n",
        "\n",
        "def make_gif(env_id, actor = None, n_episodes: int = 1, gif_name: str = \"agent.gif\", dir: str = \"./gifs\"):\n",
        "    \"\"\" \n",
        "    Create a gif of an agent interacting with an environment.\n",
        "    Note: It does not always work in Google colab, and crashes from time to time.\n",
        "    \"\"\"\n",
        "    display = Display(visible=0, size=(1400, 900))\n",
        "    display.start()\n",
        "\n",
        "    Path(dir).mkdir(parents=True, exist_ok=True)\n",
        "    filename = Path(dir).joinpath(gif_name)\n",
        "\n",
        "    images = []\n",
        "    env = gym.make(env_id)\n",
        "    for _ in range(n_episodes):\n",
        "        obs, done = env.reset(), False\n",
        "        images.append(env.render(\"rgb_array\"))\n",
        "        while not done:\n",
        "            if actor:\n",
        "                with torch.no_grad():\n",
        "                    action = actor(as_tensor(obs)).numpy()\n",
        "            else:\n",
        "                action = env.action_space.sample() \n",
        "            obs, reward, done, _ = env.step(action) \n",
        "            images.append(env.render(\"rgb_array\"))\n",
        "\n",
        "    imageio.mimsave(filename, images, fps=29)"
      ],
      "metadata": {
        "id": "ehVXxhxLlOiY"
      },
      "id": "ehVXxhxLlOiY",
      "execution_count": null,
      "outputs": []
    },
    {
      "cell_type": "markdown",
      "metadata": {
        "id": "ff186311"
      },
      "source": [
        "Note that you should not change the code above - you should be able to perform all tasks by creating new classes. We train the DQN agent with given hyperparameters and inspect the results:"
      ],
      "id": "ff186311"
    },
    {
      "cell_type": "code",
      "execution_count": null,
      "metadata": {
        "id": "938d29b1",
        "colab": {
          "base_uri": "https://localhost:8080/",
          "height": 71
        },
        "outputId": "affca127-9fb2-4bad-a009-dc3e639e0a47"
      },
      "outputs": [
        {
          "output_type": "stream",
          "name": "stdout",
          "text": [
            "Step: 69999 Evaluation reward: 131.58 Samples per second: 104"
          ]
        },
        {
          "output_type": "display_data",
          "data": {
            "text/plain": [
              "<IPython.core.display.Javascript object>"
            ],
            "application/javascript": [
              "\n",
              "    async function download(id, filename, size) {\n",
              "      if (!google.colab.kernel.accessAllowed) {\n",
              "        return;\n",
              "      }\n",
              "      const div = document.createElement('div');\n",
              "      const label = document.createElement('label');\n",
              "      label.textContent = `Downloading \"${filename}\": `;\n",
              "      div.appendChild(label);\n",
              "      const progress = document.createElement('progress');\n",
              "      progress.max = size;\n",
              "      div.appendChild(progress);\n",
              "      document.body.appendChild(div);\n",
              "\n",
              "      const buffers = [];\n",
              "      let downloaded = 0;\n",
              "\n",
              "      const channel = await google.colab.kernel.comms.open(id);\n",
              "      // Send a message to notify the kernel that we're ready.\n",
              "      channel.send({})\n",
              "\n",
              "      for await (const message of channel.messages) {\n",
              "        // Send a message to notify the kernel that we're ready.\n",
              "        channel.send({})\n",
              "        if (message.buffers) {\n",
              "          for (const buffer of message.buffers) {\n",
              "            buffers.push(buffer);\n",
              "            downloaded += buffer.byteLength;\n",
              "            progress.value = downloaded;\n",
              "          }\n",
              "        }\n",
              "      }\n",
              "      const blob = new Blob(buffers, {type: 'application/binary'});\n",
              "      const a = document.createElement('a');\n",
              "      a.href = window.URL.createObjectURL(blob);\n",
              "      a.download = filename;\n",
              "      div.appendChild(a);\n",
              "      a.click();\n",
              "      div.remove();\n",
              "    }\n",
              "  "
            ]
          },
          "metadata": {}
        },
        {
          "output_type": "display_data",
          "data": {
            "text/plain": [
              "<IPython.core.display.Javascript object>"
            ],
            "application/javascript": [
              "download(\"download_a5695ef2-2e82-4591-8cd6-22274bb267b4\", \"results_dqn.npy\", 1808)"
            ]
          },
          "metadata": {}
        },
        {
          "output_type": "execute_result",
          "data": {
            "text/plain": [
              "-0.33262922972756404"
            ]
          },
          "metadata": {},
          "execution_count": 18
        }
      ],
      "source": [
        "agent = DQN(args)\n",
        "results_dqn = train_agent(args, agent)\n",
        "download_numpy(\"results_dqn.npy\", results_dqn)\n",
        "results_dqn.mean(1)[10:].mean()\n",
        "#results_dqn.mean(1)"
      ],
      "id": "938d29b1"
    },
    {
      "cell_type": "markdown",
      "metadata": {
        "id": "3376e3e2"
      },
      "source": [
        "As you can see, the vanilla DQN does not yield optimal performance given the budget and exploration constraints. Below is the first module that you have to add to the DQN algorithm."
      ],
      "id": "3376e3e2"
    },
    {
      "cell_type": "markdown",
      "metadata": {
        "id": "64e5bfc1"
      },
      "source": [
        "## 1. Double DQN\n",
        "\n",
        "The loss function of vanilla DQN is defined as the average of single transition temporal difference (TD) error over $B$ transitions:\n",
        "\n",
        "$$\n",
        "\\mathcal{L}_{\\theta} = \\frac{1}{B} \\sum_{i=1}^{B} \\bigl( \\mathrm{TD}~(s_i, a_i, s^{'}_{i}) \\bigr)^{2}\n",
        "$$\n",
        "\n",
        "With transitions $(s_i, a_i, s^{'}_{i})$ sampled uniformly from the experience buffer. The transition TD error is defined through Bellman optimality condition:\n",
        "\n",
        "$$\n",
        "\\mathrm{TD}~(s_i, a_i, s^{'}_{i}) = Q_{\\theta}~(s_i,a_i) - \\bigl(r_{(s_i,a_i,s_{i}^{'})} + \\gamma ~ \\underset{a^{'}_{i} \\sim \\bar{Q}_{\\theta}}{\\mathrm{max}} ~ \\bar{Q}_{\\theta}~(s_{i}^{'},a_{i}^{'}) \\bigr)\n",
        "$$\n",
        "\n",
        "Where $Q_{\\theta}$ and $\\bar{Q}_{\\theta}$ denote learned and target Q-networks respectively. In the setup above $a_{i}^{'}$ is chosen via maximum operation over the output of the target Q-network for $s^{'}_{i}$. Using a single network to choose the best action and estimate its Q-value promotes overestimated values. Using such values for supervision leads in turn to general overoptimism of the Q-network and is known to sabotage the training.\n",
        "\n",
        "In Double Deep Q-Network (DDQN) [(van Hasselt 2015)](https://arxiv.org/pdf/1509.06461.pdf) proposes using two Q-networks in the process of target estimation: one Q-network to choose the maximum valued action from (i.e. *argmax*); and the second one to estimate value of the chosen action (i.e. Q-value estimation for the *argmax* result). Authors show that in DDQN estimated Q-values are less likely to be inflated and lead to more stable learning and better policies. We can use $Q_{\\theta}$ and $\\bar{Q}_{\\theta}$ to augment DQN into DDQN: \n",
        "\n",
        "$$\n",
        "\\mathrm{TD}~(s_i, a_i, s^{'}_{i}) = Q_{\\theta}~(s_i,a_i) - \\bigl(r_{(s_i,a_i,s_{i}^{'})} + \\gamma ~ \\bar{Q}_{\\theta}~(s_{i}^{'},\\underset{a^{'}_{i} \\sim Q_{\\theta}}{\\mathrm{argmax}} ~ Q_{\\theta} (s_{i}^{'}, a^{'}_{i})  \\bigr)\n",
        "$$\n",
        "\n",
        "Such definition of DDQN leads to very small code changes w.r.t. vanilla DQN implementation. Although $Q_{\\theta}$ and $\\bar{Q}_{\\theta}$ are not fully decoupled, using them leads to good performance increase without introduction of additional networks."
      ],
      "id": "64e5bfc1"
    },
    {
      "cell_type": "markdown",
      "metadata": {
        "id": "19bee972"
      },
      "source": [
        "### Task 1.1: Implement and train DDQN \n",
        "Implement the *update* method for **DDQN** class (no other method of the base class should be changed): "
      ],
      "id": "19bee972"
    },
    {
      "cell_type": "code",
      "execution_count": null,
      "metadata": {
        "id": "c7b682c0"
      },
      "outputs": [],
      "source": [
        "class DDQN(DQN):\n",
        "    def __init__(self, args):\n",
        "        super(DDQN, self).__init__(args)\n",
        "        \n",
        "    def update(self):\n",
        "        states, actions, rewards, next_states, terminals = self.buffer.sample()\n",
        "        ###############\n",
        "\n",
        "        with torch.no_grad():\n",
        "            next_state_actions = self.q_net(next_states).max(1)[1]\n",
        "            next_state_values = self.q_target(next_states).gather(1, next_state_actions.unsqueeze(-1))\n",
        "\n",
        "        q_targets = rewards + (1-terminals) * self.args.discount * next_state_values\n",
        "        #print(f'double: {next_state_values.shape}, {q_targets.shape}')\n",
        "        ###############\n",
        "        self.optimizer.zero_grad()\n",
        "        q_values = self.q_net(states).gather(1, actions)\n",
        "        loss = nn.functional.smooth_l1_loss(q_values, q_targets)\n",
        "        loss.backward()\n",
        "        self.optimizer.step()"
      ],
      "id": "c7b682c0"
    },
    {
      "cell_type": "code",
      "execution_count": null,
      "metadata": {
        "colab": {
          "base_uri": "https://localhost:8080/",
          "height": 71
        },
        "id": "926c3cc9",
        "outputId": "a046af88-53ce-462b-afd0-1cead81b01b6"
      },
      "outputs": [
        {
          "output_type": "stream",
          "name": "stdout",
          "text": [
            "Step: 69999 Evaluation reward: 96.01 Samples per second: 123"
          ]
        },
        {
          "output_type": "display_data",
          "data": {
            "text/plain": [
              "<IPython.core.display.Javascript object>"
            ],
            "application/javascript": [
              "\n",
              "    async function download(id, filename, size) {\n",
              "      if (!google.colab.kernel.accessAllowed) {\n",
              "        return;\n",
              "      }\n",
              "      const div = document.createElement('div');\n",
              "      const label = document.createElement('label');\n",
              "      label.textContent = `Downloading \"${filename}\": `;\n",
              "      div.appendChild(label);\n",
              "      const progress = document.createElement('progress');\n",
              "      progress.max = size;\n",
              "      div.appendChild(progress);\n",
              "      document.body.appendChild(div);\n",
              "\n",
              "      const buffers = [];\n",
              "      let downloaded = 0;\n",
              "\n",
              "      const channel = await google.colab.kernel.comms.open(id);\n",
              "      // Send a message to notify the kernel that we're ready.\n",
              "      channel.send({})\n",
              "\n",
              "      for await (const message of channel.messages) {\n",
              "        // Send a message to notify the kernel that we're ready.\n",
              "        channel.send({})\n",
              "        if (message.buffers) {\n",
              "          for (const buffer of message.buffers) {\n",
              "            buffers.push(buffer);\n",
              "            downloaded += buffer.byteLength;\n",
              "            progress.value = downloaded;\n",
              "          }\n",
              "        }\n",
              "      }\n",
              "      const blob = new Blob(buffers, {type: 'application/binary'});\n",
              "      const a = document.createElement('a');\n",
              "      a.href = window.URL.createObjectURL(blob);\n",
              "      a.download = filename;\n",
              "      div.appendChild(a);\n",
              "      a.click();\n",
              "      div.remove();\n",
              "    }\n",
              "  "
            ]
          },
          "metadata": {}
        },
        {
          "output_type": "display_data",
          "data": {
            "text/plain": [
              "<IPython.core.display.Javascript object>"
            ],
            "application/javascript": [
              "download(\"download_e58bd8d2-b704-48a6-b32f-d0f7af1af385\", \"results_dqn1.npy\", 1808)"
            ]
          },
          "metadata": {}
        },
        {
          "output_type": "execute_result",
          "data": {
            "text/plain": [
              "110.15146820314855"
            ]
          },
          "metadata": {},
          "execution_count": 20
        }
      ],
      "source": [
        "agent = DDQN(args)\n",
        "results_dqn1 = train_agent(args, agent)\n",
        "download_numpy(\"results_dqn1.npy\", results_dqn1)\n",
        "results_dqn1.mean(1)[-10:].mean()\n",
        "#results_dqn1.mean(1)"
      ],
      "id": "926c3cc9"
    },
    {
      "cell_type": "markdown",
      "metadata": {
        "id": "004bf3a3"
      },
      "source": [
        "## 2. $\\mathrm{TD}_{n}$ - N-step Q-value estimation\n",
        "\n",
        "$N$-step TD ($\\mathrm{TD}_{n}$) was introduced long before neural network based RL. In regular TD, we supervise the Q-network with single-step reward summed with highest Q-value of the next state. In contrast to that, $\\mathrm{TD}_{n}$ accumulated rewards over $n$ steps and sums it with the highest Q-value of the state that occured after $n$ steps [(Sutton 1988)](http://incompleteideas.net/papers/sutton-88-with-erratum.pdf). Double DQN $\\mathrm{TD}_{n}$ loss is defined by:\n",
        "\n",
        "$$\n",
        "\\mathrm{TD}_{n}(s_i, a_i, s^{'}_{i+n}) = Q_{\\theta}~(s_i,a_i) - \\biggl(\\sum_{k=0}^{n-1} \\gamma^{k} ~ r_{(s_{i+k},a_{i+k},s_{i+k}^{'})} + \\gamma^{n} \\underset{a^{'}_{i+n} \\sim \\bar{Q}_{\\theta}}{\\mathrm{max}} ~ \\bar{Q}_{\\theta}~(s_{i+n}^{'},a_{i+n}^{'}) \\biggr)\n",
        "$$\n",
        "\n",
        "Implementing $\\mathrm{TD}_{n}$ requires changes to the ExperienceBuffer class. We will implement those changes using the **deque** module. This module will store $n$ of the most recent transitions, and will act as an intermediate between agent and buffers main storage. As compared to single step reward and $s_{i}^{'}$ stored by the simple ExperienceBuffer, the main storage of this upgraded buffer should store $n$ step rewards and $s_{i+n}^{'}$."
      ],
      "id": "004bf3a3"
    },
    {
      "cell_type": "markdown",
      "metadata": {
        "id": "f448764d"
      },
      "source": [
        "### Task 2.1 Implement NStepBuffer\n",
        "Implement *get_nstep* method for **NStepBuffer** class (no other method of base class should be changed). The *get_nstep* method should process current memory and output a tuple of five:\n",
        "* state for which the $\\mathrm{TD}_{n}$ reward was computed,\n",
        "* action chosen in that step in processed trajectory,\n",
        "* $\\mathrm{TD}_{n}$ reward computed using *nstep* rewards,\n",
        "* state reached after *nstep* steps (possibly earlier if terminal state was encountered),\n",
        "* terminal flag, that notifies wheather trajectory has reached terminal state within *nstep* steps."
      ],
      "id": "f448764d"
    },
    {
      "cell_type": "code",
      "execution_count": 11,
      "metadata": {
        "id": "12560df7"
      },
      "outputs": [],
      "source": [
        "from collections import deque\n",
        "\n",
        "class NStepBuffer(ExperienceBuffer):\n",
        "    def __init__(self, args, nstep):\n",
        "        super(NStepBuffer, self).__init__(args)\n",
        "        self.memories = deque(maxlen=nstep)\n",
        "        self.nstep = nstep \n",
        "        \n",
        "    def add(self, state, action, reward, next_state, terminal):\n",
        "        terminal_ = 1 if terminal else 0 \n",
        "        memory = (state, action, reward, next_state, terminal_)\n",
        "        self.memories.append(memory)\n",
        "        if len(self.memories) >= self.nstep:\n",
        "            state, action, reward, next_state, terminal = self.get_nstep()\n",
        "            self.states[self.idx, :] = state\n",
        "            self.actions[self.idx, :] = action\n",
        "            self.rewards[self.idx, :] = reward\n",
        "            self.next_states[self.idx, :] = next_state\n",
        "            self.terminals[self.idx, :] = terminal\n",
        "            self.idx += 1\n",
        "            if self.idx == self.args.capacity:\n",
        "                self.full = True\n",
        "                self.idx = 0\n",
        "            \n",
        "    def get_nstep(self):\n",
        "        ###############\n",
        "        state, action, reward, _, _ = self.memories[0]\n",
        "        _, _, recent_reward, next_state, terminal = self.memories[-1]\n",
        "        new_reward = reward\n",
        "        for i in range(1, self.nstep):\n",
        "          new_reward *= self.args.discount \n",
        "          new_reward += self.memories[i][2]\n",
        "        ###############\n",
        "        return state, action, new_reward, next_state, terminal"
      ],
      "id": "12560df7"
    },
    {
      "cell_type": "markdown",
      "metadata": {
        "id": "34d45601"
      },
      "source": [
        "### Task 2.2: Implement and train N-step DQN \n",
        "Implement the *update* method for **NStepDQN** class (no other method of base class should be changed): "
      ],
      "id": "34d45601"
    },
    {
      "cell_type": "code",
      "execution_count": null,
      "metadata": {
        "id": "0d1cb4c6"
      },
      "outputs": [],
      "source": [
        "class NStepDQN(DQN):\n",
        "    def __init__(self, args, nstep=3):\n",
        "        super(NStepDQN, self).__init__(args)\n",
        "        self.nstep = nstep\n",
        "        self.buffer = NStepBuffer(args, nstep)\n",
        "        \n",
        "    def update(self):\n",
        "        states, actions, rewards, next_states, terminals = self.buffer.sample()\n",
        "        ###############\n",
        "        with torch.no_grad():\n",
        "            q_ns = torch.max(self.q_target(next_states), dim=1)[0].unsqueeze(1)\n",
        "        gamma = self.args.discount ** self.nstep\n",
        "\n",
        "        q_targets = rewards + (1-terminals) * gamma * q_ns\n",
        "        ###############\n",
        "        self.optimizer.zero_grad()\n",
        "        q_values = self.q_net(states).gather(1, actions)\n",
        "        loss = nn.functional.smooth_l1_loss(q_values, q_targets)\n",
        "        loss.backward()\n",
        "        self.optimizer.step()\n",
        "        \n",
        "    def reset(self):\n",
        "        super().reset()\n",
        "        self.buffer = NStepBuffer(self.args, self.nstep)"
      ],
      "id": "0d1cb4c6"
    },
    {
      "cell_type": "code",
      "execution_count": null,
      "metadata": {
        "colab": {
          "base_uri": "https://localhost:8080/",
          "height": 71
        },
        "id": "e27e7900",
        "outputId": "484f94ee-c1be-4f1d-c21b-d10a12ab9003"
      },
      "outputs": [
        {
          "output_type": "stream",
          "name": "stdout",
          "text": [
            "Step: 69999 Evaluation reward: 194.54 Samples per second: 138"
          ]
        },
        {
          "output_type": "display_data",
          "data": {
            "text/plain": [
              "<IPython.core.display.Javascript object>"
            ],
            "application/javascript": [
              "\n",
              "    async function download(id, filename, size) {\n",
              "      if (!google.colab.kernel.accessAllowed) {\n",
              "        return;\n",
              "      }\n",
              "      const div = document.createElement('div');\n",
              "      const label = document.createElement('label');\n",
              "      label.textContent = `Downloading \"${filename}\": `;\n",
              "      div.appendChild(label);\n",
              "      const progress = document.createElement('progress');\n",
              "      progress.max = size;\n",
              "      div.appendChild(progress);\n",
              "      document.body.appendChild(div);\n",
              "\n",
              "      const buffers = [];\n",
              "      let downloaded = 0;\n",
              "\n",
              "      const channel = await google.colab.kernel.comms.open(id);\n",
              "      // Send a message to notify the kernel that we're ready.\n",
              "      channel.send({})\n",
              "\n",
              "      for await (const message of channel.messages) {\n",
              "        // Send a message to notify the kernel that we're ready.\n",
              "        channel.send({})\n",
              "        if (message.buffers) {\n",
              "          for (const buffer of message.buffers) {\n",
              "            buffers.push(buffer);\n",
              "            downloaded += buffer.byteLength;\n",
              "            progress.value = downloaded;\n",
              "          }\n",
              "        }\n",
              "      }\n",
              "      const blob = new Blob(buffers, {type: 'application/binary'});\n",
              "      const a = document.createElement('a');\n",
              "      a.href = window.URL.createObjectURL(blob);\n",
              "      a.download = filename;\n",
              "      div.appendChild(a);\n",
              "      a.click();\n",
              "      div.remove();\n",
              "    }\n",
              "  "
            ]
          },
          "metadata": {}
        },
        {
          "output_type": "display_data",
          "data": {
            "text/plain": [
              "<IPython.core.display.Javascript object>"
            ],
            "application/javascript": [
              "download(\"download_aba09f66-198c-4cf7-871d-20754df0d3b3\", \"results_dqn2.npy\", 1808)"
            ]
          },
          "metadata": {}
        },
        {
          "output_type": "execute_result",
          "data": {
            "text/plain": [
              "164.96036101929093"
            ]
          },
          "metadata": {},
          "execution_count": 23
        }
      ],
      "source": [
        "agent = NStepDQN(args)\n",
        "results_dqn2 = train_agent(args, agent)\n",
        "download_numpy(\"results_dqn2.npy\", results_dqn2)\n",
        "results_dqn2.mean(1)[-10:].mean()"
      ],
      "id": "e27e7900"
    },
    {
      "cell_type": "markdown",
      "metadata": {
        "id": "327ef325"
      },
      "source": [
        "## 3. Noisy Layer Exploration\n",
        "\n",
        "$\\epsilon$-greedy exploration is not well suited for environments that require complex sequences of actions to achieve success. $\\epsilon$ value must be set manually, and finding a good value can be difficult and costly. A value that is too high will result in too much exploration and slow down learning, while a value that is too low will not allow the agent to gather enough information about the environment. Now, we will introduce a different method for exploration.\n",
        "\n",
        "Noisy linear layer, is a type of layer that can be added to a neural network [(Fortunato et al. 2017)](https://arxiv.org/pdf/1706.10295.pdf). These layers add a learned noise to the parameters of the network, which adds stochasticity to the network output. Noisy parameters can induce complex multi-step changes in estimated Q-values and the policy. Noisy linear layers can be more effective than $\\epsilon$-greedy in environments with sparse rewards or long-term dependencies, but they can also be less sample-efficient than well tuned $\\epsilon$-greedy strategy in simpler settings. \n",
        "\n",
        "Regular linear layer has $pq + q$ parameters, where $p$ and $q$ denote number of inputs and outputs in the layer. Denoting weight matrix as $W \\in \\mathbb{R}^{q \\times p}$, bias vector as $B \\in \\mathbb{R}^q$ and layer input as $X \\in \\mathbb{R}^p$, linear layer performs:\n",
        "\n",
        "$$\n",
        "Y = W X + B\n",
        "$$\n",
        "\n",
        "In contrast to that, noisy linear layer is defined as:\n",
        "\n",
        "$$\n",
        "Y = \\bigl( \\mu^W + \\sigma^W \\odot \\epsilon^W \\bigr) X + \\bigl( \\mu^B + \\sigma^B \\odot \\epsilon^B \\bigr)\n",
        "$$\n",
        "\n",
        "where $\\mu^W + \\sigma^W \\odot \\epsilon^W$ and $\\mu^B + \\sigma^B \\odot \\epsilon^B$ replace $W$ and $B$ in the first linear layer equation. The parameters $\\mu^W \\in \\mathbb{R}^{q \\times p}, \\mu^B \\in \\mathbb{R}^q, \\sigma^W \\in \\mathbb{R}^{q \\times p}$ and $\\sigma^B \\in \\mathbb{R}^q$ are learnt jointly via the single Q-network loss; $\\epsilon^W \\in \\mathbb{R}^{q \\times p}$ and $\\epsilon^B \\in \\mathbb{R}^q$ is the random noise. In principle, the random noise can be generated following any distribution, but the authors consider two strategies:\n",
        "\n",
        "1. **Independent Gaussian noise** - We generate each noise entry independently. As such, we perform $pq + q$ calls to the Gaussian noise generator. Simple, but can be costly for big networks\n",
        "\n",
        "2. **Factorised Gaussian noise** - This is a more computationally efficient way that authors use in the original paper. Instead of generating $pq + q$ entries independently, we generate two noise vectors: $\\epsilon^{p}, \\epsilon^{B} \\sim N(0, 1)$. Then, entries to $\\epsilon^W$ are given by:\n",
        "\n",
        "$$\n",
        "\\epsilon^{W}_{i,j} = f(\\epsilon^{p}_{i}) f(\\epsilon^{B}_{j}) \\quad \\text{with} \\quad f(x) = sgn(x) \\sqrt{|x|}.\n",
        "$$"
      ],
      "id": "327ef325"
    },
    {
      "cell_type": "markdown",
      "metadata": {
        "id": "18c32694"
      },
      "source": [
        "### Task 3.1 Implement NoisyLinear layer \n",
        "Implement the **NoisyLinear** class. The parameters of the noisy linear layer should be initialized with a correct initialization scheme (see section 3.2 in [Fortunato et al. 2017](https://arxiv.org/pdf/1706.10295.pdf)). The class should have the following methods:\n",
        "\n",
        "1. *get_noise* - the method should generate $\\epsilon^{W}$ and $\\epsilon^{B}$ using the factorised Gaussian noise procedure\n",
        "2. *forward* - generate noise and perform a forward pass"
      ],
      "id": "18c32694"
    },
    {
      "cell_type": "code",
      "execution_count": 26,
      "metadata": {
        "id": "d5caceb9"
      },
      "outputs": [],
      "source": [
        "from torch.autograd import Variable\n",
        "\n",
        "class NoisyLinear(nn.Module):\n",
        "    def __init__(self, input_size, output_size, std):\n",
        "        super(NoisyLinear, self).__init__()\n",
        "        self.w_mu = nn.Parameter(torch.Tensor(output_size, input_size))\n",
        "        sigma_init = std / math.sqrt(input_size)\n",
        "        self.w_sigma = nn.Parameter(torch.Tensor(output_size, input_size).fill_(sigma_init))\n",
        "        ###############\n",
        "        self.b_sigma = nn.Parameter(torch.Tensor(output_size).fill_(sigma_init))\n",
        "        self.b_mu = nn.Parameter(torch.Tensor(output_size))\n",
        "        self.register_buffer(\"epsilon_input\", torch.zeros(1, input_size))\n",
        "        self.register_buffer(\"epsilon_output\", torch.zeros(output_size, 1))\n",
        "\n",
        "        torch.nn.init.uniform_(self.w_mu, -std, std)\n",
        "        torch.nn.init.uniform_(self.b_mu, -std, std)\n",
        "\n",
        "        self.f = lambda x: torch.sign(x) * torch.sqrt(torch.abs(x))\n",
        "        ###############\n",
        "\n",
        "    def get_device(self):\n",
        "        return self.w_mu.device\n",
        "\n",
        "    def get_noise(self):\n",
        "        ###############\n",
        "        self.epsilon_input.normal_()\n",
        "        self.epsilon_output.normal_()\n",
        "\n",
        "        eps_in = self.f(self.epsilon_input.data)\n",
        "        eps_out = self.f(self.epsilon_output.data)\n",
        "\n",
        "        b_noise = self.b_mu + self.b_sigma * eps_out.t()\n",
        "        w_noise = torch.mul(eps_in, eps_out)\n",
        "        ###############\n",
        "        return Variable(w_noise), Variable(b_noise)\n",
        "\n",
        "    def forward(self, x):\n",
        "        ###############\n",
        "        w_noise, b_noise = self.get_noise()\n",
        "        return torch.nn.functional.linear(x, self.w_mu + self.w_sigma * w_noise, b_noise)\n",
        "        ###############\n",
        "\n",
        "\n",
        "class NoisyQNetwork(nn.Module):\n",
        "    def __init__(self, args, std):\n",
        "        super(NoisyQNetwork, self).__init__()\n",
        "        self.layers = nn.Sequential(\n",
        "            nn.Linear(args.state_dim, args.hidden_dim), nn.ReLU(),\n",
        "            NoisyLinear(args.hidden_dim, args.hidden_dim, std), nn.ReLU(),\n",
        "            NoisyLinear(args.hidden_dim, args.action_dim, std))\n",
        "        \n",
        "    def forward(self, x):\n",
        "        return self.layers(x)"
      ],
      "id": "d5caceb9"
    },
    {
      "cell_type": "markdown",
      "metadata": {
        "id": "a9a3c6d8"
      },
      "source": [
        "### Task 3.2 Train NoisyDQN with NoisyLayers \n"
      ],
      "id": "a9a3c6d8"
    },
    {
      "cell_type": "code",
      "execution_count": 27,
      "metadata": {
        "id": "d3511485"
      },
      "outputs": [],
      "source": [
        "class NoisyDQN(DQN):\n",
        "    def __init__(self, args, std=0.2):\n",
        "        super(NoisyDQN, self).__init__(args)\n",
        "        self.q_net = NoisyQNetwork(args, std).to(args.device)\n",
        "        self.q_target = NoisyQNetwork(args, std).to(args.device)\n",
        "        self.q_target.load_state_dict(self.q_net.state_dict())\n",
        "        self.optimizer = optim.Adam(self.q_net.parameters(), lr=args.learning_rate, eps=1e-5)\n",
        "        self.std = std\n",
        "        \n",
        "    def get_action(self, state, exploration=True):\n",
        "        return torch.argmax(self.q_net(state)).item()\n",
        "\n",
        "    def anneal(self, step):\n",
        "        pass\n",
        "    \n",
        "    def reset(self):\n",
        "        super().reset()\n",
        "        self.q_net = NoisyQNetwork(self.args, self.std).to(self.args.device)\n",
        "        self.q_target = NoisyQNetwork(self.args, self.std).to(self.args.device)\n",
        "        self.q_target.load_state_dict(self.q_net.state_dict())\n",
        "        self.optimizer = optim.Adam(self.q_net.parameters(), lr=self.args.learning_rate, eps=1e-5)"
      ],
      "id": "d3511485"
    },
    {
      "cell_type": "code",
      "execution_count": null,
      "metadata": {
        "id": "efd5e996",
        "colab": {
          "base_uri": "https://localhost:8080/"
        },
        "outputId": "07b75f70-3eca-4f5f-9db0-26a1ee1db9ba"
      },
      "outputs": [
        {
          "output_type": "stream",
          "name": "stderr",
          "text": [
            "/usr/local/lib/python3.8/dist-packages/gym/core.py:317: DeprecationWarning: \u001b[33mWARN: Initializing wrapper in old step API which returns one bool instead of two. It is recommended to set `new_step_api=True` to use new step API. This will be the default behaviour in future.\u001b[0m\n",
            "  deprecation(\n",
            "/usr/local/lib/python3.8/dist-packages/gym/wrappers/step_api_compatibility.py:39: DeprecationWarning: \u001b[33mWARN: Initializing environment in old step API which returns one bool instead of two. It is recommended to set `new_step_api=True` to use new step API. This will be the default behaviour in future.\u001b[0m\n",
            "  deprecation(\n"
          ]
        },
        {
          "output_type": "stream",
          "name": "stdout",
          "text": [
            "Step: 11999 Evaluation reward: -196.88 Samples per second: 281"
          ]
        }
      ],
      "source": [
        "agent = NoisyDQN(args)\n",
        "results_dqn3 = train_agent(args, agent)\n",
        "download_numpy(\"results_dqn3.npy\", results_dqn3)\n",
        "results_dqn3.mean(1)[-10:].mean()"
      ],
      "id": "efd5e996"
    },
    {
      "cell_type": "markdown",
      "metadata": {
        "id": "ba25c410"
      },
      "source": [
        "## 4. DUELING DQN\n",
        "\n",
        "State-action advantage under policy $\\pi$ is given by:\n",
        "\n",
        "$$\n",
        "A^\\pi (s, a) = Q^\\pi (s, a) - V^\\pi (s)\n",
        "$$\n",
        "\n",
        "Where $A^\\pi (s, a)$ denotes state-action advantage, $Q^\\pi (s, a)$ denotes state-action Q-value and $V^\\pi (s)$ denotes state value. Advantage is a measure of how much better a particular action is than the state value. Given optimal policy it follows that $\\underset{a}{\\mathrm{max}}~Q^\\pi (s, a) = V^\\pi (s)$ and as such $A^\\pi (s, a) \\leq 0$ if $\\pi$ is optimal. We can use advantages to redefine Q-values:\n",
        "\n",
        "$$\n",
        "Q^\\pi (s, a) = V^\\pi (s) + A^\\pi (s, a)\n",
        "$$\n",
        "\n",
        "As such, we can use separate networks to predict $A^\\pi (s, a)$ and $V^\\pi (s)$ and retrieve Q-values using the equation above. This is exactly the idea behind the Dueling Q-network architecture [(Wang et al. 2015)](https://arxiv.org/pdf/1511.06581.pdf). Decoupling Q-values into values and advantages offers some optimization benefits:\n",
        "\n",
        "1. $V^\\pi (s)$ is independent of actions, as such the value network will have less parameters than a Q-network\n",
        "2. $A^\\pi (s, a)$ although action dependent, advantages oscillate around 0 and change slowly throughout the optimization\n",
        "\n",
        "Intuitively, the dueling Q-network can more efficiently learn which states are valuable, even when the actions available in those states do not affect the environment in a meaningful way. This can be particularly helpful in large or complex environments where it may not be possible to learn good action values for every state-action pair. Dueling DQN architecture uses joint feature layer and two separate heads to represent advantage and value streams (look at Figure 1. in [(Wang et al. 2015)](https://arxiv.org/pdf/1511.06581.pdf)). To further smoothen the optimization, Dueling DQN Q-value is calculated with the following:\n",
        "\n",
        "$$\n",
        "Q_\\theta (s, a) = V_\\theta (s) + \\bigl( A_\\theta (s, a) - \\sum_{a} \\frac{A_\\theta (s, a)}{N_a} \\bigr),\n",
        "$$\n",
        "\n",
        "where $N_a$ is the number of possible actions."
      ],
      "id": "ba25c410"
    },
    {
      "cell_type": "markdown",
      "metadata": {
        "id": "d6ac9783"
      },
      "source": [
        "### Task 4.1 Implement and train DuelingQNetwork (10% points)\n",
        "Implement the **DuelingQNetwork** class and its *forward* method (no other method of the base class should be changed):"
      ],
      "id": "d6ac9783"
    },
    {
      "cell_type": "code",
      "execution_count": null,
      "metadata": {
        "id": "89b64c39"
      },
      "outputs": [],
      "source": [
        "class DuelingQNetwork(nn.Module):\n",
        "    def __init__(self, args):\n",
        "        super(DuelingQNetwork, self).__init__()\n",
        "        self.layers = nn.Sequential(\n",
        "            nn.Linear(args.state_dim, args.hidden_dim), nn.ReLU(),\n",
        "            nn.Linear(args.hidden_dim, args.hidden_dim), nn.ReLU(),)\n",
        "        self.advantage_head = nn.Linear(args.hidden_dim, args.action_dim)\n",
        "        self.value_head = nn.Linear(args.hidden_dim, 1)\n",
        "        \n",
        "    def forward(self, x):\n",
        "        ################ \n",
        "        features = self.layers(x)\n",
        "        features = features.view(features.size(0), -1) \n",
        "        # features.shape = (1, 128)\n",
        "        values = self.value_head(features)\n",
        "        advantages = self.advantage_head(features)\n",
        "        qvals = values + (advantages - advantages.mean())\n",
        "        \n",
        "        return qvals\n",
        "        ################\n",
        "    \n",
        "class DuelingDQN(DQN):\n",
        "    def __init__(self, args):\n",
        "        super(DuelingDQN, self).__init__(args)\n",
        "        self.q_net = DuelingQNetwork(args).to(args.device)\n",
        "        self.q_target = DuelingQNetwork(args).to(args.device)\n",
        "        self.q_target.load_state_dict(self.q_net.state_dict())\n",
        "        self.optimizer = optim.Adam(self.q_net.parameters(), lr=args.learning_rate, eps=1e-5)\n",
        "        \n",
        "    def reset(self):\n",
        "        super().reset()\n",
        "        self.q_net = DuelingQNetwork(self.args).to(self.args.device)\n",
        "        self.q_target = DuelingQNetwork(self.args).to(self.args.device)\n",
        "        self.q_target.load_state_dict(self.q_net.state_dict())\n",
        "        self.optimizer = optim.Adam(self.q_net.parameters(), lr=self.args.learning_rate, eps=1e-5)"
      ],
      "id": "89b64c39"
    },
    {
      "cell_type": "code",
      "execution_count": null,
      "metadata": {
        "id": "3a641e57",
        "colab": {
          "base_uri": "https://localhost:8080/",
          "height": 139
        },
        "outputId": "98161c32-2f7f-4650-98a4-41968b7daab2"
      },
      "outputs": [
        {
          "output_type": "stream",
          "name": "stderr",
          "text": [
            "/usr/local/lib/python3.8/dist-packages/gym/core.py:317: DeprecationWarning: \u001b[33mWARN: Initializing wrapper in old step API which returns one bool instead of two. It is recommended to set `new_step_api=True` to use new step API. This will be the default behaviour in future.\u001b[0m\n",
            "  deprecation(\n",
            "/usr/local/lib/python3.8/dist-packages/gym/wrappers/step_api_compatibility.py:39: DeprecationWarning: \u001b[33mWARN: Initializing environment in old step API which returns one bool instead of two. It is recommended to set `new_step_api=True` to use new step API. This will be the default behaviour in future.\u001b[0m\n",
            "  deprecation(\n"
          ]
        },
        {
          "output_type": "stream",
          "name": "stdout",
          "text": [
            "Step: 69999 Evaluation reward: 61.19 Samples per second: 123"
          ]
        },
        {
          "output_type": "display_data",
          "data": {
            "text/plain": [
              "<IPython.core.display.Javascript object>"
            ],
            "application/javascript": [
              "\n",
              "    async function download(id, filename, size) {\n",
              "      if (!google.colab.kernel.accessAllowed) {\n",
              "        return;\n",
              "      }\n",
              "      const div = document.createElement('div');\n",
              "      const label = document.createElement('label');\n",
              "      label.textContent = `Downloading \"${filename}\": `;\n",
              "      div.appendChild(label);\n",
              "      const progress = document.createElement('progress');\n",
              "      progress.max = size;\n",
              "      div.appendChild(progress);\n",
              "      document.body.appendChild(div);\n",
              "\n",
              "      const buffers = [];\n",
              "      let downloaded = 0;\n",
              "\n",
              "      const channel = await google.colab.kernel.comms.open(id);\n",
              "      // Send a message to notify the kernel that we're ready.\n",
              "      channel.send({})\n",
              "\n",
              "      for await (const message of channel.messages) {\n",
              "        // Send a message to notify the kernel that we're ready.\n",
              "        channel.send({})\n",
              "        if (message.buffers) {\n",
              "          for (const buffer of message.buffers) {\n",
              "            buffers.push(buffer);\n",
              "            downloaded += buffer.byteLength;\n",
              "            progress.value = downloaded;\n",
              "          }\n",
              "        }\n",
              "      }\n",
              "      const blob = new Blob(buffers, {type: 'application/binary'});\n",
              "      const a = document.createElement('a');\n",
              "      a.href = window.URL.createObjectURL(blob);\n",
              "      a.download = filename;\n",
              "      div.appendChild(a);\n",
              "      a.click();\n",
              "      div.remove();\n",
              "    }\n",
              "  "
            ]
          },
          "metadata": {}
        },
        {
          "output_type": "display_data",
          "data": {
            "text/plain": [
              "<IPython.core.display.Javascript object>"
            ],
            "application/javascript": [
              "download(\"download_2c2ef907-c05f-446a-8b4d-3a6677ff10bc\", \"results_dqn4.npy\", 1808)"
            ]
          },
          "metadata": {}
        },
        {
          "output_type": "execute_result",
          "data": {
            "text/plain": [
              "51.05966912119062"
            ]
          },
          "metadata": {},
          "execution_count": 25
        }
      ],
      "source": [
        "agent = DuelingDQN(args)\n",
        "results_dqn4 = train_agent(args, agent)\n",
        "download_numpy(\"results_dqn4.npy\", results_dqn4)\n",
        "results_dqn4.mean(1)[-10:].mean()"
      ],
      "id": "3a641e57"
    },
    {
      "cell_type": "markdown",
      "metadata": {
        "id": "730bb10e"
      },
      "source": [
        "## 5. Prioritized experience replay\n",
        "\n",
        "In regular experience replay the transitions are uniformly sampled during training and used to update the agent's learning policy. Prioritized replay [(Schaul et al. 2015)](https://arxiv.org/pdf/1511.05952.pdf) is a variant of the experience replay buffer that prioritizes transitions based on the magnitude of the TD error, which is a measure of how much the agent's estimates of the action values deviate from the actual values. Transitions with a higher TD error are more important for learning, because they represent a greater deviation from the agent's current understanding of the environment. By prioritizing transitions with a higher TD error, the agent can more effectively learn from its experiences and improve its performance.\n",
        "\n",
        "To implement a prioritized replay buffer, we need to store not only the transitions themselves, but also the TD error for each transition. We will use a queue-like mechanism to prioritize the transitions based on their TD error, and sample transitions from the buffer using a priority-based sampling distribution. New transitions arrive with maximal priority in order to guarantee that all experience is seen at least once. This allows the agent to more effectively learn from rare or unusual transitions that might be overlooked in a standard experience replay buffer.\n",
        "\n",
        "There are two ways to prioritize transitions in the experience replay buffer based on the TD error: greedy prioritization and stochastic prioritization. When using greedy prioritization, the transitions with the highest TD errors are replayed more frequently, which can lead to overfitting and overlooking certain transitions. To address this issue, we will use a stochastic prioritization method that balances between greedy prioritization and uniform random sampling introducing more diversity in the sampled transitions.\n",
        "\n",
        "$$\n",
        "P(i) = \\frac{p_i^{\\alpha} + \\epsilon}{\\sum_{j=1}^{D} (p_j^{\\alpha} + \\epsilon)}\n",
        "$$\n",
        "\n",
        "Where $p_i > 0$ denotes the priority of transition $i$ with $i, j \\in D$, $D$ denotes the buffer data, $\\epsilon$ is a small positive constant and the exponent $\\alpha$ determines how much prioritization is used, with $\\alpha = 0$ corresponding to the uniform sampling. \n",
        "\n",
        "The estimation of the expected value with stochastic updates relies on those updates corresponding to the same distribution as its expectation. Prioritized replay introduces bias because it changes this distribution in an uncontrolled fashion, and therefore changes the solution that the estimates will converge to (even if the policy and state distribution are fixed). To compensate for non-uniform sampling scheme, prioritized experience replay leverages one more mechanism - importance sampling. To this end, when calculating loss over the batch transition TD error is weighted with an importance weight:\n",
        "\n",
        "\n",
        "$$\n",
        "\\mathcal{L}_{\\theta} = \\frac{1}{B} \\sum_{i=1}^{B} \\bigl( w_i * \\mathrm{TD}~(s_i, a_i, s^{'}_{i}) \\bigr)^{2}\n",
        "$$\n",
        "\n",
        "Where:\n",
        "\n",
        "$$\n",
        "w_i = \\big( \\frac{1}{D} \\cdot \\frac{1}{P(i)} \\big)^\\beta\n",
        "$$\n",
        "\n",
        "Which given $\\beta = 1$ fully compensates for the non uniform sampling. We will anneal values of $\\alpha$ and $\\beta$ towards 1 throughout the training.\n",
        "\n",
        "Managing priorities is often implemented via a Segment Tree. It allows us to be very efficient in sampling transitions, while creating a bit of overhead in writing new values. **You are not required to use segment tree, and no points will be subtracted for not using it. However we encourage to do it for better efficiency and shorter training time.** We provide you with the OpenAI implementation of a SegmentTree below. We recommend that you read a bit about segment trees before moving forward:\n",
        "\n",
        "1. https://www.geeksforgeeks.org/segment-tree-set-1-sum-of-given-range/\n",
        "2. https://github.com/openai/baselines/blob/master/baselines/common/segment_tree.py\n",
        "\n",
        "**Note that the priority queue will be much slower even with good implementation. This slow down is much less visible in image-based RL, where other parts of the compute pipeline are greatly more demanding.**"
      ],
      "id": "730bb10e"
    },
    {
      "cell_type": "code",
      "execution_count": 15,
      "metadata": {
        "id": "cBm8-bPtp6do",
        "colab": {
          "base_uri": "https://localhost:8080/"
        },
        "outputId": "47f8433e-c481-47b0-d098-b4d52575c1c6"
      },
      "outputs": [
        {
          "output_type": "stream",
          "name": "stdout",
          "text": [
            "--2023-01-29 09:02:42--  https://raw.githubusercontent.com/openai/baselines/master/baselines/common/segment_tree.py\n",
            "Resolving raw.githubusercontent.com (raw.githubusercontent.com)... 185.199.108.133, 185.199.109.133, 185.199.110.133, ...\n",
            "Connecting to raw.githubusercontent.com (raw.githubusercontent.com)|185.199.108.133|:443... connected.\n",
            "HTTP request sent, awaiting response... 200 OK\n",
            "Length: 4899 (4.8K) [text/plain]\n",
            "Saving to: ‘segment_tree.py’\n",
            "\n",
            "\rsegment_tree.py       0%[                    ]       0  --.-KB/s               \rsegment_tree.py     100%[===================>]   4.78K  --.-KB/s    in 0s      \n",
            "\n",
            "2023-01-29 09:02:42 (67.7 MB/s) - ‘segment_tree.py’ saved [4899/4899]\n",
            "\n"
          ]
        }
      ],
      "source": [
        "!wget https://raw.githubusercontent.com/openai/baselines/master/baselines/common/segment_tree.py\n",
        "from segment_tree import MinSegmentTree, SumSegmentTree"
      ],
      "id": "cBm8-bPtp6do"
    },
    {
      "cell_type": "markdown",
      "metadata": {
        "id": "697c07aa"
      },
      "source": [
        "### Task 5.1 Implement PrioritizedBuffer \n",
        "Implement the **PrioritizedBuffer** class and the following methods:\n",
        "\n",
        "1. *add* - it should also manage the priorities in the trees\n",
        "2. *sample* - it should samples according to priorities and return importance weights\n",
        "3. *update_priorities* - it should update priorities in trees after performing DQN update\n",
        "4. *get_idx* - it should sample indices according to probability ditribution\n",
        "5. *calculate_weights* - it should calculate importance weights for given index\n",
        "\n",
        "No other method of the base class should be changed. "
      ],
      "id": "697c07aa"
    },
    {
      "cell_type": "code",
      "execution_count": null,
      "metadata": {
        "id": "c9ea6c31"
      },
      "outputs": [],
      "source": [
        "class PrioritizedBuffer(ExperienceBuffer):    \n",
        "    def __init__(self, args, alpha, beta):\n",
        "        super(PrioritizedBuffer, self).__init__(args)\n",
        "        tree_capacity = 1\n",
        "        while tree_capacity < self.args.capacity:\n",
        "            tree_capacity *= 2\n",
        "        self.beta = beta \n",
        "        self.alpha = alpha\n",
        "        ################\n",
        "        self.sum_tree = SumSegmentTree(tree_capacity)\n",
        "        self.min_tree = MinSegmentTree(tree_capacity)\n",
        "        self.maximal_priority = 1.0\n",
        "        self.eps = 0.00000001\n",
        "        ################\n",
        "        \n",
        "    def add(self, state, action, reward, next_state, terminal):\n",
        "        ################\n",
        "        idx = self.idx\n",
        "        super().add(state, action, reward, next_state, terminal)\n",
        "        transition_priority = self.maximal_priority\n",
        "        self.sum_tree[idx] = transition_priority ** self.alpha\n",
        "        self.min_tree[idx] = transition_priority ** self.alpha\n",
        "        ################\n",
        "                \n",
        "    def sample(self):\n",
        "        ################\n",
        "        idxes = self.get_idx()\n",
        "\n",
        "        states = torch.from_numpy(self.states[idxes]).to(self.args.device)\n",
        "        actions = torch.from_numpy(self.actions[idxes]).to(self.args.device)\n",
        "        rewards = torch.from_numpy(self.rewards[idxes]).to(self.args.device)\n",
        "        next_states = torch.from_numpy(self.next_states[idxes]).to(self.args.device)\n",
        "        terminals = torch.from_numpy(self.terminals[idxes]).long().to(self.args.device)\n",
        "\n",
        "        weights = [self.calculate_weight(idx) for idx in idxes]\n",
        "        weights = torch.tensor(weights, device=self.args.device, dtype=torch.float)\n",
        "        ################\n",
        "        return states, actions, rewards, next_states, terminals, idxes, weights\n",
        "    \n",
        "    def update_priority(self, id: int, prio: float) -> None:\n",
        "        if prio < 0:\n",
        "          print(f'p: {prio}') \n",
        "        assert prio >= 0\n",
        "        self.sum_tree[id] = prio ** self.alpha\n",
        "        self.min_tree[id] = prio ** self.alpha\n",
        "        self.maximal_priority = max(self.maximal_priority, prio)\n",
        "\n",
        "    def update_priorities(self, idx, priorities):\n",
        "        ################\n",
        "        for id, prio in zip(idx, priorities):\n",
        "            self.update_priority(id, prio)      \n",
        "        ################\n",
        "                \n",
        "    def get_idx(self):\n",
        "        ################\n",
        "        idxes = []\n",
        "        segment = self.sum_tree.sum() // self.args.batch_size\n",
        "\n",
        "        for i in range(self.args.batch_size):\n",
        "          # sample leaf and calculate its weight\n",
        "          a = segment * i\n",
        "          b = segment * (i + 1)\n",
        "          upperbound = random.uniform(a, b)\n",
        "          idx = self.sum_tree.find_prefixsum_idx(upperbound)\n",
        "          idxes.append(idx)\n",
        "            \n",
        "        ################\n",
        "        return idxes\n",
        "    \n",
        "    def calculate_weight(self, idx):\n",
        "        ################\n",
        "        \n",
        "        # get the maximum weight in the memory\n",
        "        min_probability = self.min_tree.min() / self.sum_tree.sum()  # min P(j) = min p^a / sum(p^a)\n",
        "        max_weight = (min_probability * self.args.capacity + self.eps) ** -self.beta  # max wi\n",
        "\n",
        "        p_sample = self.sum_tree[idx] / self.sum_tree.sum() # P(j) = p^a / sum(p^a)\n",
        "        weight = (self.args.capacity * p_sample + self.eps) ** -self.beta  # (N * P(j)) ^ -beta\n",
        "        normalized_weight = weight / max_weight  # wj = ((N * P(j)) ^ -beta) / max wi\n",
        "        ################\n",
        "        return normalized_weight"
      ],
      "id": "c9ea6c31"
    },
    {
      "cell_type": "markdown",
      "metadata": {
        "id": "73c22925"
      },
      "source": [
        "### Task 5.2 Train PrioritizedDQN \n",
        "Implement the **PrioritizedDQN** class and its *update* method (no other method of the base class should be changed):"
      ],
      "id": "73c22925"
    },
    {
      "cell_type": "code",
      "execution_count": null,
      "metadata": {
        "id": "86de8b40"
      },
      "outputs": [],
      "source": [
        "class PrioritizedDQN(DQN):\n",
        "    def __init__(self, args, alpha=0.2, beta=0.2):\n",
        "        super(PrioritizedDQN, self).__init__(args)\n",
        "        self.buffer = PrioritizedBuffer(args, alpha, beta)\n",
        "        self.alpha = alpha\n",
        "        self.beta = beta\n",
        "        \n",
        "    def update(self):\n",
        "        states, actions, rewards, next_states, terminals, idx, weights = self.buffer.sample()\n",
        "        with torch.no_grad():\n",
        "            q_ns = torch.max(self.q_target(next_states), dim=1)[0].unsqueeze(1)\n",
        "        q_targets = rewards + (1-terminals) * self.args.discount * q_ns\n",
        "        self.optimizer.zero_grad()\n",
        "        q_values = self.q_net(states).gather(1, actions)\n",
        "        td_errors = nn.functional.smooth_l1_loss(q_values, q_targets, reduction='none')\n",
        "        loss = torch.mean(td_errors * weights)\n",
        "        loss.backward()\n",
        "        self.optimizer.step()\n",
        "        priorities = td_errors.detach().squeeze().cpu().tolist()\n",
        "        self.buffer.update_priorities(idx, priorities)\n",
        "        \n",
        "    def anneal(self, step):\n",
        "        super().anneal(step)\n",
        "        if step < self.args.anneal_steps:\n",
        "            self.buffer.alpha = ((1 - self.alpha)/self.args.anneal_steps)*step + self.alpha\n",
        "            self.buffer.beta = ((1 - self.beta)/self.args.anneal_steps)*step + self.beta\n",
        "        else:\n",
        "            pass\n",
        "\n",
        "    def reset(self):\n",
        "        super().reset()\n",
        "        self.buffer = PrioritizedBuffer(self.args, self.alpha, self.beta)  "
      ],
      "id": "86de8b40"
    },
    {
      "cell_type": "code",
      "execution_count": null,
      "metadata": {
        "id": "96c9a63d",
        "colab": {
          "base_uri": "https://localhost:8080/",
          "height": 54
        },
        "outputId": "eec40062-bb3b-4f6c-c49a-87bd39a805aa"
      },
      "outputs": [
        {
          "output_type": "stream",
          "name": "stdout",
          "text": [
            "Step: 69999 Evaluation reward: 20.79 Samples per second: 80"
          ]
        },
        {
          "output_type": "display_data",
          "data": {
            "text/plain": [
              "<IPython.core.display.Javascript object>"
            ],
            "application/javascript": [
              "\n",
              "    async function download(id, filename, size) {\n",
              "      if (!google.colab.kernel.accessAllowed) {\n",
              "        return;\n",
              "      }\n",
              "      const div = document.createElement('div');\n",
              "      const label = document.createElement('label');\n",
              "      label.textContent = `Downloading \"${filename}\": `;\n",
              "      div.appendChild(label);\n",
              "      const progress = document.createElement('progress');\n",
              "      progress.max = size;\n",
              "      div.appendChild(progress);\n",
              "      document.body.appendChild(div);\n",
              "\n",
              "      const buffers = [];\n",
              "      let downloaded = 0;\n",
              "\n",
              "      const channel = await google.colab.kernel.comms.open(id);\n",
              "      // Send a message to notify the kernel that we're ready.\n",
              "      channel.send({})\n",
              "\n",
              "      for await (const message of channel.messages) {\n",
              "        // Send a message to notify the kernel that we're ready.\n",
              "        channel.send({})\n",
              "        if (message.buffers) {\n",
              "          for (const buffer of message.buffers) {\n",
              "            buffers.push(buffer);\n",
              "            downloaded += buffer.byteLength;\n",
              "            progress.value = downloaded;\n",
              "          }\n",
              "        }\n",
              "      }\n",
              "      const blob = new Blob(buffers, {type: 'application/binary'});\n",
              "      const a = document.createElement('a');\n",
              "      a.href = window.URL.createObjectURL(blob);\n",
              "      a.download = filename;\n",
              "      div.appendChild(a);\n",
              "      a.click();\n",
              "      div.remove();\n",
              "    }\n",
              "  "
            ]
          },
          "metadata": {}
        },
        {
          "output_type": "display_data",
          "data": {
            "text/plain": [
              "<IPython.core.display.Javascript object>"
            ],
            "application/javascript": [
              "download(\"download_5a733285-52c6-4145-8899-91be83347a86\", \"results_dqn5.npy\", 1808)"
            ]
          },
          "metadata": {}
        },
        {
          "output_type": "execute_result",
          "data": {
            "text/plain": [
              "141.62777908925597"
            ]
          },
          "metadata": {},
          "execution_count": 29
        }
      ],
      "source": [
        "agent = PrioritizedDQN(args)\n",
        "results_dqn5 = train_agent(args, agent)\n",
        "download_numpy(\"results_dqn5.npy\", results_dqn5)\n",
        "results_dqn5.mean(1)[-10:].mean()"
      ],
      "id": "96c9a63d"
    },
    {
      "cell_type": "markdown",
      "metadata": {
        "id": "69b90bf3"
      },
      "source": [
        "## 6. (Almost) Rainbow\n",
        "The final thing we are left with is to combine all the improvements into a single agent [(Hessel 2017)](https://arxiv.org/pdf/1710.02298.pdf). To this end, you have to implement three classes:\n",
        "\n",
        "1. **RainbowBuffer** - experience buffer that combines nstep returns and priority-based sampling\n",
        "2. **RainbowQNetwork** - Q-network that uses noisy linear layers in a dueling setup\n",
        "3. **RainbowDQN** - DQN that combines all of the covered techniques\n",
        "\n",
        "![fig1](https://production-media.paperswithcode.com/methods/Screen_Shot_2020-07-07_at_9.14.13_PM_4fMCutg.png)"
      ],
      "id": "69b90bf3"
    },
    {
      "cell_type": "markdown",
      "metadata": {
        "id": "c964c779"
      },
      "source": [
        "### Task 6.1 Implement RainbowBuffer"
      ],
      "id": "c964c779"
    },
    {
      "cell_type": "code",
      "source": [
        "from collections import deque \n",
        "\n",
        "class RainbowBuffer(NStepBuffer):\n",
        "    def __init__(self, args, nstep, alpha, beta):\n",
        "        super(RainbowBuffer, self).__init__(args, nstep)\n",
        "        tree_capacity = 1\n",
        "        while tree_capacity < self.args.capacity:\n",
        "            tree_capacity *= 2\n",
        "        self.sum_tree = SumSegmentTree(tree_capacity)\n",
        "        self.min_tree = MinSegmentTree(tree_capacity)\n",
        "        self.max_priority = 1\n",
        "        self.alpha = alpha\n",
        "        self.beta = beta   \n",
        "        self.tree_ptr = 0\n",
        "        self.eps = 0.00000001\n",
        "        \n",
        "    def add(self, state, action, reward, next_state, terminal):\n",
        "        ################\n",
        "        super().add(state, action, reward, next_state, terminal)\n",
        "        \n",
        "        self.sum_tree[self.tree_ptr] = self.max_priority ** self.alpha\n",
        "        self.min_tree[self.tree_ptr] = self.max_priority ** self.alpha\n",
        "        self.tree_ptr = (self.tree_ptr + 1) % self.args.capacity\n",
        "        \n",
        "        ################\n",
        "                \n",
        "    def sample(self):\n",
        "        ################\n",
        "        idxes = self.get_idx()\n",
        "\n",
        "        states = torch.from_numpy(self.states[idxes]).to(self.args.device)\n",
        "        actions = torch.from_numpy(self.actions[idxes]).to(self.args.device)\n",
        "        rewards = torch.from_numpy(self.rewards[idxes]).to(self.args.device)\n",
        "        next_states = torch.from_numpy(self.next_states[idxes]).to(self.args.device)\n",
        "        terminals = torch.from_numpy(self.terminals[idxes]).long().to(self.args.device)\n",
        "\n",
        "        weights = [self.calculate_weight(idx) for idx in idxes]\n",
        "        weights = torch.tensor(weights, device=self.args.device, dtype=torch.float)\n",
        "        ################\n",
        "        return states, actions, rewards, next_states, terminals, idxes, weights\n",
        "    \n",
        "    def update_priority(self, id: int, prio: float) -> None:\n",
        "        assert prio >= 0\n",
        "        self.sum_tree[id] = prio ** self.alpha\n",
        "        self.min_tree[id] = prio ** self.alpha\n",
        "        self.max_priority = max(self.max_priority, prio)\n",
        "\n",
        "    def update_priorities(self, idx, priorities):\n",
        "        for id, prio in zip(idx, priorities):\n",
        "            self.update_priority(id, prio)      \n",
        "                \n",
        "    def get_idx(self):\n",
        "        idxes = []\n",
        "        segment = self.sum_tree.sum() // self.args.batch_size\n",
        "\n",
        "        for i in range(self.args.batch_size):\n",
        "          # sample leaf and calculate its weight\n",
        "          a = segment * i\n",
        "          b = segment * (i + 1)\n",
        "          upperbound = random.uniform(a, b)\n",
        "          idx = self.sum_tree.find_prefixsum_idx(upperbound)\n",
        "          idxes.append(idx)\n",
        "            \n",
        "        return idxes\n",
        "    \n",
        "    def calculate_weight(self, idx):        \n",
        "        # get the maximum weight in the memory\n",
        "        min_probability = self.min_tree.min() / self.sum_tree.sum()  # min P(j) = min p^a / sum(p^a)\n",
        "        max_weight = (min_probability * self.args.capacity + self.eps) ** -self.beta  # max wi\n",
        "\n",
        "        p_sample = self.sum_tree[idx] / self.sum_tree.sum() # P(j) = p^a / sum(p^a)\n",
        "        weight = (self.args.capacity * p_sample + self.eps) ** -self.beta  # (N * P(j)) ^ -beta\n",
        "        normalized_weight = weight / max_weight  # wj = ((N * P(j)) ^ -beta) / max wi\n",
        "        return normalized_weight"
      ],
      "metadata": {
        "id": "_LnNMy-ZSrpv"
      },
      "id": "_LnNMy-ZSrpv",
      "execution_count": 16,
      "outputs": []
    },
    {
      "cell_type": "markdown",
      "metadata": {
        "id": "759b4524"
      },
      "source": [
        "### Task 6.2 Implement RainbowQNetwork class "
      ],
      "id": "759b4524"
    },
    {
      "cell_type": "code",
      "execution_count": 14,
      "metadata": {
        "id": "9889f6ee"
      },
      "outputs": [],
      "source": [
        "class RainbowQNetwork(nn.Module):\n",
        "    def __init__(self, args, std):\n",
        "        super(RainbowQNetwork, self).__init__()\n",
        "        ################\n",
        "        self.layers = nn.Sequential(\n",
        "            nn.Linear(args.state_dim, args.hidden_dim), nn.ReLU(),\n",
        "            NoisyLinear(args.hidden_dim, args.hidden_dim, std), nn.ReLU())\n",
        "        self.value_head = nn.Sequential(\n",
        "            NoisyLinear(args.hidden_dim, 1, std)\n",
        "        )\n",
        "\n",
        "        self.advantage_head = nn.Sequential(\n",
        "            NoisyLinear(args.hidden_dim, args.action_dim, std)\n",
        "        )\n",
        "        ################\n",
        "        \n",
        "    def forward(self, x):\n",
        "        ################ \n",
        "        features = self.layers(x)\n",
        "        features = features.view(features.size(0), -1) \n",
        "        # features.shape = (1, 128)\n",
        "        values = self.value_head(features)\n",
        "        advantages = self.advantage_head(features)\n",
        "        qvals = values + (advantages - advantages.mean())\n",
        "        \n",
        "        return qvals\n",
        "        ################"
      ],
      "id": "9889f6ee"
    },
    {
      "cell_type": "markdown",
      "metadata": {
        "id": "12406eb1"
      },
      "source": [
        "### Task 6.2 Implement and train RainbowDQN agent "
      ],
      "id": "12406eb1"
    },
    {
      "cell_type": "code",
      "execution_count": 17,
      "metadata": {
        "id": "f3ee6f39"
      },
      "outputs": [],
      "source": [
        "class RainbowDQN(DQN):\n",
        "    def __init__(self, args, nstep=3, std=0.2, alpha=0.2, beta=0.2):\n",
        "        super(RainbowDQN, self).__init__(args)\n",
        "        self.buffer = RainbowBuffer(args, nstep, alpha, beta)\n",
        "        self.alpha = alpha\n",
        "        self.beta = beta\n",
        "        self.nstep = nstep \n",
        "        self.q_net = RainbowQNetwork(args, std).to(args.device)\n",
        "        self.q_target = RainbowQNetwork(args, std).to(args.device)\n",
        "        self.q_target.load_state_dict(self.q_net.state_dict())\n",
        "        self.optimizer = optim.Adam(self.q_net.parameters(), lr=args.learning_rate, eps=1e-5)\n",
        "        self.std = std\n",
        "        \n",
        "    def update(self):\n",
        "        ################\n",
        "        states, actions, rewards, next_states, terminals, idx, weights = self.buffer.sample()\n",
        "        with torch.no_grad():\n",
        "            #q_ns = torch.max(self.q_target(next_states), dim=1)[0].unsqueeze(1)\n",
        "            next_state_actions = self.q_net(next_states).max(1)[1]\n",
        "            q_ns = self.q_target(next_states).gather(1, next_state_actions.unsqueeze(-1))\n",
        "        q_targets = rewards + (1-terminals) * self.args.discount * q_ns\n",
        "        self.optimizer.zero_grad()\n",
        "        q_values = self.q_net(states).gather(1, actions)\n",
        "        td_errors = nn.functional.smooth_l1_loss(q_values, q_targets, reduction='none')\n",
        "        loss = torch.mean(td_errors * weights)\n",
        "        loss.backward()\n",
        "        self.optimizer.step()\n",
        "        priorities = td_errors.detach().squeeze().cpu().tolist()\n",
        "        self.buffer.update_priorities(idx, priorities)\n",
        "        ################\n",
        "        \n",
        "    def anneal(self, step):\n",
        "        if step < self.args.anneal_steps and step > self.args.init_steps:\n",
        "            self.buffer.alpha = ((1 - self.alpha)/self.args.anneal_steps)*step + self.alpha\n",
        "            self.buffer.beta = ((1 - self.beta)/self.args.anneal_steps)*step + self.beta\n",
        "        else:\n",
        "            pass\n",
        "\n",
        "    def get_action(self, state, exploration=True):\n",
        "        return torch.argmax(self.q_net(state)).item()\n",
        "    \n",
        "    def reset(self):\n",
        "        self.buffer = RainbowBuffer(self.args, self.nstep, self.alpha, self.beta) \n",
        "        self.q_net = RainbowQNetwork(self.args, self.std).to(self.args.device)\n",
        "        self.q_target = RainbowQNetwork(self.args, self.std).to(self.args.device)\n",
        "        self.q_target.load_state_dict(self.q_net.state_dict())\n",
        "        self.optimizer = optim.Adam(self.q_net.parameters(), lr=self.args.learning_rate, eps=1e-5)"
      ],
      "id": "f3ee6f39"
    },
    {
      "cell_type": "code",
      "execution_count": 18,
      "metadata": {
        "id": "feb1c384",
        "colab": {
          "base_uri": "https://localhost:8080/",
          "height": 34
        },
        "outputId": "a10386ab-9bfa-4ea5-bb0a-8cd9bc250114"
      },
      "outputs": [
        {
          "output_type": "stream",
          "name": "stdout",
          "text": [
            "Step: 69999 Evaluation reward: -177.63 Samples per second: 166"
          ]
        },
        {
          "output_type": "display_data",
          "data": {
            "text/plain": [
              "<IPython.core.display.Javascript object>"
            ],
            "application/javascript": [
              "\n",
              "    async function download(id, filename, size) {\n",
              "      if (!google.colab.kernel.accessAllowed) {\n",
              "        return;\n",
              "      }\n",
              "      const div = document.createElement('div');\n",
              "      const label = document.createElement('label');\n",
              "      label.textContent = `Downloading \"${filename}\": `;\n",
              "      div.appendChild(label);\n",
              "      const progress = document.createElement('progress');\n",
              "      progress.max = size;\n",
              "      div.appendChild(progress);\n",
              "      document.body.appendChild(div);\n",
              "\n",
              "      const buffers = [];\n",
              "      let downloaded = 0;\n",
              "\n",
              "      const channel = await google.colab.kernel.comms.open(id);\n",
              "      // Send a message to notify the kernel that we're ready.\n",
              "      channel.send({})\n",
              "\n",
              "      for await (const message of channel.messages) {\n",
              "        // Send a message to notify the kernel that we're ready.\n",
              "        channel.send({})\n",
              "        if (message.buffers) {\n",
              "          for (const buffer of message.buffers) {\n",
              "            buffers.push(buffer);\n",
              "            downloaded += buffer.byteLength;\n",
              "            progress.value = downloaded;\n",
              "          }\n",
              "        }\n",
              "      }\n",
              "      const blob = new Blob(buffers, {type: 'application/binary'});\n",
              "      const a = document.createElement('a');\n",
              "      a.href = window.URL.createObjectURL(blob);\n",
              "      a.download = filename;\n",
              "      div.appendChild(a);\n",
              "      a.click();\n",
              "      div.remove();\n",
              "    }\n",
              "  "
            ]
          },
          "metadata": {}
        },
        {
          "output_type": "display_data",
          "data": {
            "text/plain": [
              "<IPython.core.display.Javascript object>"
            ],
            "application/javascript": [
              "download(\"download_21800e3f-d204-4860-91bf-e8b15115d813\", \"results_dqn6.npy\", 1808)"
            ]
          },
          "metadata": {}
        },
        {
          "output_type": "execute_result",
          "data": {
            "text/plain": [
              "-7.773665173002341"
            ]
          },
          "metadata": {},
          "execution_count": 18
        }
      ],
      "source": [
        "agent = RainbowDQN(args)\n",
        "results_dqn6 = train_agent(args, agent)\n",
        "download_numpy(\"results_dqn6.npy\", results_dqn6)\n",
        "results_dqn6.mean(1)[-10:].mean()"
      ],
      "id": "feb1c384"
    },
    {
      "cell_type": "markdown",
      "metadata": {
        "id": "5a39b8c3"
      },
      "source": [
        "# Task 7 Plot collected results\n",
        "Plot evaluation performance with respect to number of frames for all versions of DQN (including raw one). Draw 90% confidence intervals for each line (see seaborn.lineplot)."
      ],
      "id": "5a39b8c3"
    },
    {
      "cell_type": "code",
      "source": [
        "import seaborn as sns\n",
        "import pandas as pd\n",
        "import matplotlib.pyplot as plt\n",
        "def plot_lists(res_list, step_range):\n",
        "  for res in res_list:\n",
        "    data_to_plot = pd.DataFrame({\"Step\":step_range, \"Evaluation reward\":res})\n",
        "    sns.lineplot(x = \"Step\", y = \"Evaluation reward\", data=data_to_plot, err_style=\"bars\", palette = \"Set1\")\n",
        "plt.show()"
      ],
      "metadata": {
        "id": "ECRq4pRUUjaA"
      },
      "id": "ECRq4pRUUjaA",
      "execution_count": 19,
      "outputs": []
    },
    {
      "cell_type": "code",
      "source": [
        "import numpy as np\n",
        "res = [np.load(\"results_dqn.npy\")]\n",
        "for i in range(1, 7):\n",
        "  name = f'results_dqn{i}.npy'\n",
        "  res.append(np.load(name))"
      ],
      "metadata": {
        "id": "sltjbHXlHbrC"
      },
      "id": "sltjbHXlHbrC",
      "execution_count": 23,
      "outputs": []
    },
    {
      "cell_type": "code",
      "source": [
        "def p(idx):\n",
        "  print(f'idx: {idx}')\n",
        "  for r in res[idx]:\n",
        "    mean = np.mean(r)\n",
        "    if mean != 0:\n",
        "      print(mean)"
      ],
      "metadata": {
        "id": "mz-teqJiiqGJ"
      },
      "id": "mz-teqJiiqGJ",
      "execution_count": 21,
      "outputs": []
    },
    {
      "cell_type": "code",
      "source": [
        "print(p(0))"
      ],
      "metadata": {
        "id": "_RLV5ZOrUdwH",
        "colab": {
          "base_uri": "https://localhost:8080/"
        },
        "outputId": "5f106b8f-2584-4041-c43e-01e08c47e80a"
      },
      "id": "_RLV5ZOrUdwH",
      "execution_count": null,
      "outputs": [
        {
          "output_type": "stream",
          "name": "stdout",
          "text": [
            "idx: 0\n",
            "-2.201284158227542\n",
            "-52.56474545000947\n",
            "-104.76889875208288\n",
            "-174.36474935681667\n",
            "-95.56740861140607\n",
            "-153.4624603960888\n",
            "-226.0178230183725\n",
            "-264.4011858516794\n",
            "-223.75205701264284\n",
            "-222.62674258501588\n",
            "-309.2956825263805\n",
            "-378.4230944869185\n",
            "-306.3069751251168\n",
            "-279.2666280464544\n",
            "-235.66512062462792\n",
            "-181.46212563013174\n",
            "-104.35838548378022\n",
            "-95.0321174874317\n",
            "2.683822917921939\n",
            "-14.7501668173476\n",
            "-51.790202102164955\n",
            "98.47682592415542\n",
            "71.73446753560839\n",
            "127.4397465349759\n",
            "33.35493963328844\n",
            "85.98542612917778\n",
            "186.74814083488977\n",
            "-3.709136939511012\n",
            "75.62120210572601\n",
            "118.70514018880242\n",
            "139.28960192153002\n",
            "139.47100718773592\n",
            "-4.374689408618224\n",
            "28.492564887135682\n",
            "-44.8714935183626\n",
            "5.3295327722171395\n",
            "7.848426027777116\n",
            "127.56102146012033\n",
            "76.42286947502726\n",
            "138.08440109020736\n",
            "111.97856561975725\n",
            "140.13712983026633\n",
            "189.35792224844667\n",
            "55.84097163745267\n",
            "62.36012502165331\n",
            "105.29393740035833\n",
            "75.41857695760463\n",
            "41.23569839523762\n",
            "65.96117205481977\n",
            "146.27803884386154\n",
            "97.71857075085887\n",
            "115.1035958003312\n",
            "112.18265209540935\n",
            "114.47602830024123\n",
            "108.98201225557797\n",
            "60.14377077909345\n",
            "133.18330614184308\n",
            "133.3189149560868\n",
            "96.94080316556119\n",
            "79.91449072477626\n",
            "None\n"
          ]
        }
      ]
    },
    {
      "cell_type": "code",
      "source": [
        "print(p(1))"
      ],
      "metadata": {
        "colab": {
          "base_uri": "https://localhost:8080/"
        },
        "id": "_W1BRZcTiB27",
        "outputId": "d43fad76-c08e-4664-bc68-f33e3545e4a9"
      },
      "id": "_W1BRZcTiB27",
      "execution_count": null,
      "outputs": [
        {
          "output_type": "stream",
          "name": "stdout",
          "text": [
            "idx: 1\n",
            "-75.69363680896355\n",
            "-45.01974231931794\n",
            "-59.43907999757289\n",
            "-185.45934205638488\n",
            "-197.5883940566554\n",
            "-203.7432070522382\n",
            "-324.31915669496584\n",
            "-299.3395948939688\n",
            "-306.86378054249303\n",
            "-155.40591119960982\n",
            "-173.04633195187807\n",
            "-352.8822951098221\n",
            "-142.1372387155881\n",
            "-147.1763276494012\n",
            "-97.92212892161068\n",
            "-79.0608173877671\n",
            "-64.98323016432555\n",
            "-35.59632474541113\n",
            "77.86820844064556\n",
            "42.974264199738\n",
            "63.093960048032535\n",
            "2.3113130503220654\n",
            "7.174212811825622\n",
            "-26.895890644304966\n",
            "-13.541105535656413\n",
            "150.73382907981969\n",
            "56.82290265588248\n",
            "57.12588336208819\n",
            "71.46815894448282\n",
            "21.79626177527292\n",
            "92.62591938497731\n",
            "212.05478188386223\n",
            "174.0995761589969\n",
            "27.777489989656406\n",
            "-18.000716695909034\n",
            "140.20166800737826\n",
            "181.6378944066308\n",
            "178.31371436410072\n",
            "140.98722392459607\n",
            "57.271720006554254\n",
            "52.823023177029604\n",
            "53.624435384609036\n",
            "195.49073061629122\n",
            "118.99465351752958\n",
            "149.87390414858643\n",
            "91.91829763878997\n",
            "158.99071706961422\n",
            "100.05749649664877\n",
            "36.61212615763417\n",
            "167.20827569440567\n",
            "139.23906743582825\n",
            "127.89024619662018\n",
            "117.14842379377289\n",
            "87.92269219335684\n",
            "79.56433477359256\n",
            "121.9676394486216\n",
            "122.98922906854959\n",
            "60.534504401959474\n",
            "137.5063169424294\n",
            "106.7522277767549\n",
            "None\n"
          ]
        }
      ]
    },
    {
      "cell_type": "code",
      "source": [
        "p(2)"
      ],
      "metadata": {
        "colab": {
          "base_uri": "https://localhost:8080/"
        },
        "id": "kd9Bkkvlj5Vb",
        "outputId": "b2d3457e-0c07-499c-ef72-9534ec728e74"
      },
      "id": "kd9Bkkvlj5Vb",
      "execution_count": null,
      "outputs": [
        {
          "output_type": "stream",
          "name": "stdout",
          "text": [
            "idx: 2\n",
            "-28.598208999547456\n",
            "-154.04216839554786\n",
            "-145.9245625197817\n",
            "-193.9986873994936\n",
            "-126.8930080868147\n",
            "-81.79684840168554\n",
            "-91.67276853092903\n",
            "-132.32522900325066\n",
            "-113.02301950500151\n",
            "-136.25949242556683\n",
            "-233.10556284314976\n",
            "-226.9960761865616\n",
            "-144.45942153880668\n",
            "-102.61116992343277\n",
            "-94.64700666922568\n",
            "-84.98045258729098\n",
            "-66.55033904480078\n",
            "-54.87462007510854\n",
            "-54.39777147158021\n",
            "-122.64582561405804\n",
            "-36.96749529942033\n",
            "-20.110165071716622\n",
            "-48.31627063063118\n",
            "28.04062766525982\n",
            "71.50596421818322\n",
            "103.16412500931699\n",
            "171.5541197806596\n",
            "134.99712917519534\n",
            "142.63305481572732\n",
            "175.23985192758173\n",
            "165.64454500452848\n",
            "170.1730334441388\n",
            "194.29307108094312\n",
            "224.86986648503492\n",
            "163.8300627739555\n",
            "146.63460372696343\n",
            "194.2539816324272\n",
            "152.7971561333157\n",
            "187.53718301447122\n",
            "139.6843223272324\n",
            "229.3273415407083\n",
            "159.27023106073807\n",
            "148.69410506299445\n",
            "221.65763728253114\n",
            "150.15904002277298\n",
            "210.33618183458842\n",
            "178.18379190662313\n",
            "180.7380425542955\n",
            "207.9210907704969\n",
            "177.95696048984647\n",
            "106.41864378637892\n",
            "51.70043137128145\n",
            "88.48846490649349\n",
            "203.89403580850035\n",
            "229.4716044933316\n",
            "173.9594501542247\n",
            "186.51526410249417\n",
            "214.9258819269157\n",
            "188.2706673809366\n",
            "205.9591662623526\n"
          ]
        }
      ]
    },
    {
      "cell_type": "code",
      "source": [
        "p(3) # noisy nie dziala"
      ],
      "metadata": {
        "colab": {
          "base_uri": "https://localhost:8080/"
        },
        "id": "ZSxgoAa0j7Yj",
        "outputId": "32450281-6be4-469f-f3c9-4398aca3cb5e"
      },
      "id": "ZSxgoAa0j7Yj",
      "execution_count": 25,
      "outputs": [
        {
          "output_type": "stream",
          "name": "stdout",
          "text": [
            "idx: 3\n",
            "-200.19954369738898\n",
            "-109.96202358390984\n",
            "-136.93753594880903\n",
            "-125.55327049440228\n",
            "-123.87266597937287\n",
            "-134.6918714078807\n",
            "-96.8899898201123\n",
            "-106.27974457255885\n",
            "-84.91922758858806\n",
            "-107.10910865558954\n",
            "-128.533426328184\n",
            "-121.4327488630093\n",
            "-108.43264981946687\n",
            "-93.33752576760975\n",
            "-81.49182143964195\n",
            "-96.62456350604059\n",
            "-98.82869945879037\n",
            "-145.14436698128688\n",
            "-73.18258886948333\n",
            "-116.92586732787798\n",
            "-160.4648391813989\n",
            "-50.033929182446606\n",
            "-76.75441373271109\n",
            "-8.366401422116924\n",
            "-54.24275585765793\n",
            "-23.342929148248444\n",
            "-38.37709178740922\n",
            "-54.95098733212681\n",
            "-63.04251939513395\n",
            "-58.88455249688275\n",
            "-53.23003318328173\n",
            "-95.79818889886656\n",
            "-57.345732190638614\n",
            "-38.52550087308507\n",
            "-86.22218838419752\n",
            "-48.19215144336115\n",
            "-29.996178072260193\n",
            "-107.21079920537325\n",
            "-49.72663245472361\n",
            "-116.2644227707968\n",
            "-32.82960347287996\n",
            "-49.61580902107189\n",
            "2.900286037459852\n",
            "-50.731333403920814\n",
            "-25.203755114563393\n",
            "-34.676848417286855\n",
            "-29.67577284802944\n",
            "3.3681605264345627\n",
            "-16.666162744216297\n",
            "-36.242212919107736\n",
            "-7.443902516050296\n",
            "-33.064514137133244\n",
            "13.248967241691995\n",
            "-44.35361179514215\n",
            "-5.060372424915829\n",
            "33.09188225951931\n",
            "9.962877581467083\n",
            "37.96268340853617\n",
            "13.792172718992672\n",
            "-6.135891427396296\n"
          ]
        }
      ]
    },
    {
      "cell_type": "code",
      "source": [
        "p(4)"
      ],
      "metadata": {
        "colab": {
          "base_uri": "https://localhost:8080/"
        },
        "id": "MGJbt8LIkCaK",
        "outputId": "519abfe0-e17c-431b-a7dc-350dc359cc62"
      },
      "id": "MGJbt8LIkCaK",
      "execution_count": null,
      "outputs": [
        {
          "output_type": "stream",
          "name": "stdout",
          "text": [
            "idx: 4\n",
            "-159.91864112639516\n",
            "-83.27886781665522\n",
            "-132.79707001014785\n",
            "-118.40163937713992\n",
            "-146.66949682466944\n",
            "-139.16424848754684\n",
            "-166.2967035166669\n",
            "-143.83418824939284\n",
            "-141.74130953943498\n",
            "-186.93759679480664\n",
            "-327.90003020901196\n",
            "-258.5892330503456\n",
            "-290.6138801697156\n",
            "-371.4917284233442\n",
            "-229.36099579486518\n",
            "-198.55836400151915\n",
            "-356.45675055909896\n",
            "-112.00409101733605\n",
            "-93.31911608500371\n",
            "-206.9392765271259\n",
            "-283.13060524425845\n",
            "-61.20319557272635\n",
            "-55.58106144893757\n",
            "17.895758439011477\n",
            "-102.37495211388371\n",
            "-73.07613354903948\n",
            "-45.02238220913049\n",
            "64.9249483037739\n",
            "-35.655646817318136\n",
            "-13.017433154068549\n",
            "-73.5280949510654\n",
            "-17.273371985609675\n",
            "15.83127199704088\n",
            "47.550005743279314\n",
            "86.46333589614152\n",
            "132.20460111732226\n",
            "119.42968740522917\n",
            "-12.023264190601699\n",
            "-54.34356686991697\n",
            "-42.77130292204922\n",
            "-64.54470775323585\n",
            "-11.570413006087103\n",
            "-147.6176328548458\n",
            "-97.62196342060501\n",
            "-57.484901952517326\n",
            "91.92864549623346\n",
            "2.823249298850461\n",
            "10.430046894916977\n",
            "46.59413501537261\n",
            "15.114647472207665\n",
            "-88.79574990119922\n",
            "117.95646818413393\n",
            "-17.133707401698775\n",
            "82.91631500423017\n",
            "13.076966879206722\n",
            "143.51656635715776\n",
            "53.89543463462983\n",
            "58.907098719424795\n",
            "92.66747224977864\n",
            "53.589826486242394\n"
          ]
        }
      ]
    },
    {
      "cell_type": "code",
      "source": [
        "p(5)"
      ],
      "metadata": {
        "colab": {
          "base_uri": "https://localhost:8080/"
        },
        "id": "Zk61cUCRkOux",
        "outputId": "cc199c96-726d-4ff2-c40d-ca2c4f29b644"
      },
      "id": "Zk61cUCRkOux",
      "execution_count": null,
      "outputs": [
        {
          "output_type": "stream",
          "name": "stdout",
          "text": [
            "idx: 5\n",
            "-55.10889246839321\n",
            "-96.95459750970696\n",
            "-170.10672163899068\n",
            "-94.21322328502582\n",
            "-175.46720977597474\n",
            "-204.27265330968768\n",
            "-147.51302664366733\n",
            "-170.65269718328602\n",
            "-296.7746483791937\n",
            "-188.38948622218905\n",
            "-151.52307881369245\n",
            "-154.31530793374327\n",
            "-187.1052467143962\n",
            "-168.2670025968606\n",
            "-132.19214419531164\n",
            "-246.08018272323815\n",
            "-265.64471228235374\n",
            "-94.41239088548241\n",
            "-79.93510362423036\n",
            "-2.2835292862100878\n",
            "-11.612746011554984\n",
            "-4.172972224160152\n",
            "25.763135306221287\n",
            "31.352867626283842\n",
            "14.369374467155163\n",
            "31.694814026762916\n",
            "21.655119258317455\n",
            "85.95422415077367\n",
            "39.860522902072304\n",
            "54.09618873283012\n",
            "68.7451869439965\n",
            "65.51656690963502\n",
            "97.79329527148376\n",
            "-6.814637774744274\n",
            "8.894292961185082\n",
            "3.8576840997423667\n",
            "77.90221491557698\n",
            "111.50799551747183\n",
            "84.9223641263982\n",
            "84.7840457919355\n",
            "6.1454030511017\n",
            "20.388431874240563\n",
            "63.43896085627669\n",
            "32.39201192539583\n",
            "66.54023484219822\n",
            "147.33703373554152\n",
            "114.95660095137231\n",
            "130.15884686035642\n",
            "131.37590682164657\n",
            "129.97341218277379\n",
            "143.95926242541978\n",
            "121.02510149251513\n",
            "169.99811010123452\n",
            "112.99343325536324\n",
            "178.8227923135352\n",
            "155.91572256163298\n",
            "90.64826422457095\n",
            "175.70705910565286\n",
            "139.93935496364642\n",
            "127.26869044898858\n"
          ]
        }
      ]
    },
    {
      "cell_type": "code",
      "source": [
        "p(6)"
      ],
      "metadata": {
        "id": "IIgVnb2qkYHB",
        "colab": {
          "base_uri": "https://localhost:8080/"
        },
        "outputId": "94f8e3c8-4d38-42ff-8cfb-5881f2820256"
      },
      "id": "IIgVnb2qkYHB",
      "execution_count": 24,
      "outputs": [
        {
          "output_type": "stream",
          "name": "stdout",
          "text": [
            "idx: 6\n",
            "-165.59095717886134\n",
            "-199.7033380067791\n",
            "-137.1509916058816\n",
            "-159.61753785985493\n",
            "-119.11929400414631\n",
            "-133.03980775995657\n",
            "-42.760702370973725\n",
            "-55.1224516368427\n",
            "-3.922717328778719\n",
            "-54.08318620864276\n",
            "-8.350450217374542\n",
            "-44.31867022244546\n",
            "-69.28140115310676\n",
            "-20.125768796884888\n",
            "-27.110285682269133\n",
            "-18.935742801863075\n",
            "-0.6277688014075787\n",
            "0.7656281235003041\n",
            "19.080013578858033\n",
            "-3.9279924810768514\n",
            "-50.27574076116061\n",
            "-15.75306057888531\n",
            "5.088469859104791\n",
            "5.996675567857541\n",
            "-29.67819198984505\n",
            "-13.132799777065495\n",
            "-58.19656866474557\n",
            "-6.308793664761993\n",
            "-51.20831875838682\n",
            "-45.41663345185376\n",
            "-41.67738937736711\n",
            "-22.214071840795782\n",
            "-16.714656923996653\n",
            "3.19464629461973\n",
            "2.923504400470127\n",
            "-32.7422856125111\n",
            "8.072867051891157\n",
            "11.790469010128183\n",
            "-41.99981932679381\n",
            "-52.952675107135484\n",
            "-63.651521853561626\n",
            "-26.307718738956197\n",
            "-82.98275916550834\n",
            "-27.874944207142466\n",
            "-28.722082214855646\n",
            "-26.765486697508994\n",
            "-19.850929184169285\n",
            "0.5050922898268103\n",
            "4.151791686704286\n",
            "10.388202845735501\n",
            "-3.0180057417063986\n",
            "-13.364366613143611\n",
            "10.57682004003423\n",
            "-26.07555894575252\n",
            "-10.325289970051111\n",
            "-24.402333932001483\n",
            "-29.241706667189902\n",
            "-1.3809812675971596\n",
            "13.270168725255095\n",
            "6.22460264212944\n"
          ]
        }
      ]
    },
    {
      "cell_type": "code",
      "source": [],
      "metadata": {
        "id": "Fxb9P7YF7ZUF"
      },
      "id": "Fxb9P7YF7ZUF",
      "execution_count": null,
      "outputs": []
    }
  ],
  "metadata": {
    "colab": {
      "provenance": [],
      "toc_visible": true,
      "include_colab_link": true
    },
    "gpuClass": "standard",
    "kernelspec": {
      "display_name": "atp",
      "language": "python",
      "name": "python3"
    },
    "language_info": {
      "codemirror_mode": {
        "name": "ipython",
        "version": 3
      },
      "file_extension": ".py",
      "mimetype": "text/x-python",
      "name": "python",
      "nbconvert_exporter": "python",
      "pygments_lexer": "ipython3",
      "version": "3.8.13"
    },
    "vscode": {
      "interpreter": {
        "hash": "6809863f01cf54cb8cf26991fcf8425a337722d7d35212492765d6bf47d2da35"
      }
    }
  },
  "nbformat": 4,
  "nbformat_minor": 5
}