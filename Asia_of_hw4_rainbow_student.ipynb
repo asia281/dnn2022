{
  "cells": [
    {
      "cell_type": "markdown",
      "metadata": {
        "id": "view-in-github",
        "colab_type": "text"
      },
      "source": [
        "<a href=\"https://colab.research.google.com/github/asia281/dnn2022/blob/main/Asia_of_hw4_rainbow_student.ipynb\" target=\"_parent\"><img src=\"https://colab.research.google.com/assets/colab-badge.svg\" alt=\"Open In Colab\"/></a>"
      ]
    },
    {
      "cell_type": "markdown",
      "metadata": {
        "id": "91a0c19f"
      },
      "source": [
        "# Sample Efficient Reinforcement Learning - from DQN to (almost) Rainbow\n",
        "### Author: Michal Nauman, Editor: Mateusz Olko\n",
        "\n",
        "In this homework we will expand upon on the Deep Q-Network (DQN) algorithm [(Mnih 2014)](https://www.cs.toronto.edu/~vmnih/docs/dqn.pdf). DQN has been successfully applied to a wide range of environments and has demonstrated strong performance on many tasks. However, several challenges and limitations to the DQN that have been identified in the literature:\n",
        "\n",
        "1. Sample complexity - DQN can require a large number of samples to learn effectively, especially in environments with high-dimensional state spaces or a large number of possible actions\n",
        "2. Convergence - DQN is known to converge to the optimal solution under certain conditions, but the convergence properties of the algorithm are not well understood and it is not guaranteed to converge in all cases\n",
        "3. Overestimation - DQN is known to sometimes overestimate the Q-values of certain actions, which can lead to suboptimal behavior\n",
        "4. Sensitivity to hyperparameters - DQN can be sensitive to the choice of hyperparameters, such as the learning rate, the discount factor, and the exploration scheme.\n",
        "\n",
        "Rainbow algorithm [(Hessel 2017)](https://arxiv.org/pdf/1710.02298.pdf) is a combination of several techniques for improving the performance of the DQN algorithm, which was originally proposed by DeepMind. By combining several techniques, the Rainbow algorithm is able to improve the sample efficiency, stability and  performance of the DQN algorithm. Overall, the Rainbow algorithm represents an important step forward in the development of reinforcement learning algorithms and is often used as a baseline for implementing more complex changes to the RL setup (e.g. [(Schwarzer 2021)](https://arxiv.org/pdf/2007.05929.pdf) or [(Srinivas 2020)](https://arxiv.org/pdf/2004.04136.pdf))\n",
        "\n",
        "In this homework, you will learn to augment a simple DQN implementation with all the components of Rainbow except for distributional Q-learning. To test our implementations, we will use the Lunar Lander environment. Given resources, the environment is easily solved by a vanilla DQN implementation. But we do not have resources. What we have is a budget of:\n",
        "\n",
        "1. 40 000 environment steps\n",
        "2. 35 000 Q-network updates \n",
        "\n",
        "And quite inefficient exploration scheme. As such, our basic DQN implementation will not be enough to solve Lunar Landing problem within the constraints.\n",
        "\n",
        "## Homework scenario and grading\n",
        "\n",
        "We provide you with a basic implementation of the DQN. Your job is to expand it with the following modules:\n",
        "\n",
        "1. Double Q-Learning - [(van Hasselt 2015)](https://arxiv.org/pdf/1509.06461.pdf) **1.5 pkt**\n",
        "2. N-step learning - [(Sutton 1988)](http://incompleteideas.net/papers/sutton-88-with-erratum.pdf) **1.5 pkt**\n",
        "3. Noisy linear layers - [(Fortunato et al. 2017)](https://arxiv.org/pdf/1706.10295.pdf) **1.5 pkt**\n",
        "4. Dueling network architecture - [(Wang et al. 2015)](https://arxiv.org/pdf/1511.06581.pdf) **1.5 pkt**\n",
        "5. Prioritized experience replay - [(Schaul et al. 2015)](https://arxiv.org/pdf/1511.05952.pdf) **1.5 pkt**\n",
        "6. (Almost) Rainbow - [(Hessel 2017)](https://arxiv.org/pdf/1710.02298.pdf) **1.5 pkt**\n",
        "\n",
        "Each module is designed to work independently (i.e. you can implement each individually with DQN). The final task of this homework is to combine all the implemented modules into (almost) Rainbow agent. You get the last point (**1 pkt**) for plotting results for all implemented parts."
      ],
      "id": "91a0c19f"
    },
    {
      "cell_type": "markdown",
      "metadata": {
        "id": "949c29dc"
      },
      "source": [
        "We import the necessary modules:"
      ],
      "id": "949c29dc"
    },
    {
      "cell_type": "code",
      "execution_count": 5,
      "metadata": {
        "colab": {
          "base_uri": "https://localhost:8080/"
        },
        "id": "Z_2HKKYIdygC",
        "outputId": "983e8431-652e-47d3-a4ac-d588a081800b"
      },
      "outputs": [
        {
          "output_type": "stream",
          "name": "stdout",
          "text": [
            "Looking in indexes: https://pypi.org/simple, https://us-python.pkg.dev/colab-wheels/public/simple/\n",
            "Requirement already satisfied: gym[box2d] in /usr/local/lib/python3.8/dist-packages (0.25.2)\n",
            "Requirement already satisfied: gym-notices>=0.0.4 in /usr/local/lib/python3.8/dist-packages (from gym[box2d]) (0.0.8)\n",
            "Requirement already satisfied: numpy>=1.18.0 in /usr/local/lib/python3.8/dist-packages (from gym[box2d]) (1.21.6)\n",
            "Requirement already satisfied: importlib-metadata>=4.8.0 in /usr/local/lib/python3.8/dist-packages (from gym[box2d]) (6.0.0)\n",
            "Requirement already satisfied: cloudpickle>=1.2.0 in /usr/local/lib/python3.8/dist-packages (from gym[box2d]) (2.2.0)\n",
            "Requirement already satisfied: swig==4.* in /usr/local/lib/python3.8/dist-packages (from gym[box2d]) (4.1.1)\n",
            "Requirement already satisfied: pygame==2.1.0 in /usr/local/lib/python3.8/dist-packages (from gym[box2d]) (2.1.0)\n",
            "Requirement already satisfied: box2d-py==2.3.5 in /usr/local/lib/python3.8/dist-packages (from gym[box2d]) (2.3.5)\n",
            "Requirement already satisfied: zipp>=0.5 in /usr/local/lib/python3.8/dist-packages (from importlib-metadata>=4.8.0->gym[box2d]) (3.11.0)\n"
          ]
        }
      ],
      "source": [
        "!pip install gym[box2d]"
      ],
      "id": "Z_2HKKYIdygC"
    },
    {
      "cell_type": "code",
      "execution_count": 6,
      "metadata": {
        "id": "d0728d82"
      },
      "outputs": [],
      "source": [
        "import os\n",
        "import math\n",
        "import random\n",
        "import time\n",
        "\n",
        "import gym\n",
        "from google.colab import files\n",
        "import numpy as np\n",
        "import torch\n",
        "import torch.nn as nn\n",
        "import torch.optim as optim\n"
      ],
      "id": "d0728d82"
    },
    {
      "cell_type": "markdown",
      "metadata": {
        "id": "094e4c1f"
      },
      "source": [
        "We define a simple class for holding the hyperparameters (do not change those!)"
      ],
      "id": "094e4c1f"
    },
    {
      "cell_type": "code",
      "execution_count": null,
      "metadata": {
        "id": "e1883162"
      },
      "outputs": [],
      "source": [
        "# do not change!\n",
        "class parse_args:\n",
        "    def __init__(self):\n",
        "        self.gym_id = \"LunarLander-v2\"\n",
        "        self.capacity = 10000\n",
        "        self.init_steps = 10000\n",
        "        self.batch_size = 128\n",
        "        self.hidden_dim = 128\n",
        "        self.learning_rate = 7e-4\n",
        "        self.discount = 0.99\n",
        "        self.samples = 3\n",
        "        self.total_timesteps = 70000\n",
        "        self.target_update_freq = 50\n",
        "        self.evaluate_freq = 1000\n",
        "        self.evaluate_samples = 5\n",
        "        self.anneal_steps = 50000\n",
        "        self.epsilon_limit = 0.01\n",
        "        self.cuda = True\n",
        "        env = gym.make(self.gym_id)\n",
        "        self.state_dim = env.observation_space.shape[0]\n",
        "        self.action_dim = env.action_space.n\n",
        "        self.device = torch.device(\"cuda\" if torch.cuda.is_available() and self.cuda else \"cpu\")\n",
        "        \n",
        "args = parse_args()"
      ],
      "id": "e1883162"
    },
    {
      "cell_type": "markdown",
      "metadata": {
        "id": "e0866057"
      },
      "source": [
        "And two helper functions: one for setting seeds, one for simple orthogonal initialization of linear layers, and one for saving and downloading training results."
      ],
      "id": "e0866057"
    },
    {
      "cell_type": "code",
      "execution_count": 8,
      "metadata": {
        "id": "97603d29"
      },
      "outputs": [],
      "source": [
        "def set_seed_everywhere(env, seed):\n",
        "    torch.manual_seed(seed)\n",
        "    if torch.cuda.is_available():\n",
        "        torch.cuda.manual_seed_all(seed)\n",
        "    np.random.seed(seed)\n",
        "    env.reset(seed=seed)\n",
        "    \n",
        "def weight_init(model):\n",
        "    if isinstance(model, nn.Linear):\n",
        "        nn.init.orthogonal_(model.weight.data)\n",
        "        model.bias.data.fill_(0.0)\n",
        "\n",
        "def download_numpy(filename, data):\n",
        "    np.save(filename, data)\n",
        "    files.download(filename)"
      ],
      "id": "97603d29"
    },
    {
      "cell_type": "markdown",
      "metadata": {
        "id": "32176d86"
      },
      "source": [
        "## 0. DQN"
      ],
      "id": "32176d86"
    },
    {
      "cell_type": "markdown",
      "metadata": {
        "id": "8ed14f18"
      },
      "source": [
        "Deep Q-Network (DQN) [(Mnih 2014)](https://www.cs.toronto.edu/~vmnih/docs/dqn.pdf) is a reinforcement learning algorithm that uses a deep neural network to learn a Q-function, which is a function that estimates the expected return for taking a given action in a given state. The goal of the DQN algorithm is to learn a policy that maximizes the expected return by learning the Q-function and selecting the action with the highest estimated return in each state.\n",
        "\n",
        "The DQN algorithm consists of two main components: a Q-network and an experience buffer. The Q-network is a deep neural network that takes in a state as input and outputs the estimated Q-values for each possible action. The experience buffer is a data structure that stores a set of experiences. The DQN algorithm works by interacting with the environment and storing the experiences in the experience buffer. The Q-network is then trained using a mini-batch of experiences uniformly sampled from the experience buffer. This process is known as experience replay and is used to decorrelate the experiences and to stabilize the learning process. The Q-network is updated using the loss function:\n",
        "\n",
        "$$\n",
        "\\mathcal{L}_{\\theta} = \\frac{1}{B} \\sum_{i=1}^{B} \\bigl( \\mathrm{TD}~(s_i, a_i, s^{'}_{i}) \\bigr)^{2}\n",
        "$$\n",
        "\n",
        "With:\n",
        "\n",
        "$$\n",
        "\\mathrm{TD}~(s_i, a_i, s^{'}_{i}) = Q_{\\theta}~(s_i,a_i) - \\bigl(r_{(s_i,a_i,s_{i}^{'})} + \\gamma ~ \\underset{a^{'}_{i} \\sim \\bar{Q}_{\\theta}}{\\mathrm{max}} ~ \\bar{Q}_{\\theta}~(s_{i}^{'},a_{i}^{'}) \\bigr)\n",
        "$$\n",
        "\n",
        "Where $Q_{\\theta}$ and $\\bar{Q}_{\\theta}$ denote learned and target Q-networks respectively. The target network is a copy of the Q-network that is updated less frequently, and using it to compute the target Q-values helps to stabilize the learning process and improve the performance of the DQN algorithm. Note that to increase stability of training we use Huber loss (smooth_l1_loss) instead of L2.\n",
        "\n",
        "There are several ways to incorporate exploration into the DQN algorithm. One common method is to use an $\\epsilon$-greedy exploration strategy, where the agent takes a random action with probability $\\epsilon$ and takes the action with the highest estimated Q-value with probability $1 - \\epsilon$. The value of $\\epsilon$ is typically decreased over time, so that the agent initially explores more and then gradually shifts towards exploitation as it learns more about the environment.\n",
        "\n",
        "Below, we implement all the components of a basic DQN. We start with the experience buffer - a data structure that stores a set of transitions, where a transition is typically represented as a tuple $(s, a, r, s', t)$, where $s$ is the state, $a$ is the action taken in state $s$, $r$ is the reward received by performing $a$ in $s$ and getting to $s'$, $s'$ is the new state observed after performing $a$ in $s$ and $t$ is the termination boolean (true if $s'$ is terminal). Experience buffers are used to store the experiences of an agent as it interacts with an environment, and are used to train a Q-function, which is a function that estimates the expected return for taking a given action in a given state. We implement **ExperienceBuffer** class using NumPy arrays and we define two methods:\n",
        "\n",
        "1. *add* - adds transition to the buffer\n",
        "2. *sample* - samples a batch of transitions from the buffer"
      ],
      "id": "8ed14f18"
    },
    {
      "cell_type": "code",
      "execution_count": 9,
      "metadata": {
        "id": "53e147c5"
      },
      "outputs": [],
      "source": [
        "class ExperienceBuffer:\n",
        "    def __init__(self, args):\n",
        "        self.states = np.zeros((args.capacity, args.state_dim), dtype=np.float32)\n",
        "        self.actions = np.zeros((args.capacity, 1), dtype=np.int64)\n",
        "        self.rewards = np.zeros((args.capacity, 1), dtype=np.float32)\n",
        "        self.next_states = np.zeros((args.capacity, args.state_dim), dtype=np.float32)\n",
        "        self.terminals = np.zeros((args.capacity, 1), dtype=np.int64)\n",
        "        self.full = False\n",
        "        self.idx = 0\n",
        "        self.args = args \n",
        "        \n",
        "    def add(self, state, action, reward, next_state, terminal):\n",
        "        self.states[self.idx, :] = state\n",
        "        self.actions[self.idx, :] = action\n",
        "        self.rewards[self.idx, :] = reward\n",
        "        self.next_states[self.idx, :] = next_state\n",
        "        self.terminals[self.idx, :] = 1 if terminal else 0\n",
        "        self.idx += 1\n",
        "        if self.idx == self.args.capacity:\n",
        "            self.full = True\n",
        "            self.idx = 0\n",
        "            \n",
        "    def sample(self):\n",
        "        idx = np.random.permutation(self.args.capacity)[:self.args.batch_size] if self.full else np.random.permutation(self.idx-1)[:self.args.batch_size]\n",
        "        states = torch.from_numpy(self.states[idx]).to(self.args.device)\n",
        "        actions = torch.from_numpy(self.actions[idx]).to(self.args.device)\n",
        "        rewards = torch.from_numpy(self.rewards[idx]).to(self.args.device)\n",
        "        next_states = torch.from_numpy(self.next_states[idx]).to(self.args.device)\n",
        "        terminals = torch.from_numpy(self.terminals[idx]).long().to(self.args.device)\n",
        "        return states, actions, rewards, next_states, terminals"
      ],
      "id": "53e147c5"
    },
    {
      "cell_type": "markdown",
      "metadata": {
        "id": "9fdcd965"
      },
      "source": [
        "**QNetwork** class is a simple nn.Module MLP. Note the output size being equal to the amount of actions in the environment."
      ],
      "id": "9fdcd965"
    },
    {
      "cell_type": "code",
      "execution_count": 10,
      "metadata": {
        "id": "e3fb7c14"
      },
      "outputs": [],
      "source": [
        "class QNetwork(nn.Module):\n",
        "    def __init__(self, args):\n",
        "        super(QNetwork, self).__init__()\n",
        "        \"\"\"\n",
        "        state_dim = 8, hidden_dim = 128, action_dim.= 4\n",
        "        \"\"\"\n",
        "\n",
        "        self.layers = nn.Sequential(\n",
        "           nn.Linear(args.state_dim, args.hidden_dim), nn.ReLU(),\n",
        "            nn.Linear(args.hidden_dim, args.hidden_dim), nn.ReLU(),\n",
        "            nn.Linear(args.hidden_dim, args.action_dim))\n",
        "        self.apply(weight_init)\n",
        "        \n",
        "    def forward(self, x):\n",
        "        return self.layers(x)"
      ],
      "id": "e3fb7c14"
    },
    {
      "cell_type": "markdown",
      "metadata": {
        "id": "03ed7a71"
      },
      "source": [
        "Finally we implement DQN agent. The class has following methods:\n",
        "\n",
        "1. *get_action* - returns action in given state using $\\epsilon$-greedy\n",
        "2. *anneal* - reduces the value of $\\epsilon$ dependent on the training step\n",
        "3. *update* - samples a batch of transitions from the experience buffer and performs a DQN update\n",
        "4. *update_target* - performs a hard update on the target Q network $\\bar{Q}_{\\theta}$\n",
        "5. *evaluate* - performs evaluation of the agent with a greedy policy \n",
        "6. *reset* - resets the agent (used between seeds)"
      ],
      "id": "03ed7a71"
    },
    {
      "cell_type": "code",
      "execution_count": 11,
      "metadata": {
        "id": "28b71037"
      },
      "outputs": [],
      "source": [
        "class DQN:\n",
        "    def __init__(self, args):\n",
        "        super(DQN, self).__init__()\n",
        "        self.args = args \n",
        "        self.buffer = ExperienceBuffer(self.args)\n",
        "        self.epsilon = 1\n",
        "        self.q_net = QNetwork(self.args).to(self.args.device)\n",
        "        self.q_target = QNetwork(self.args).to(self.args.device)\n",
        "        self.q_target.load_state_dict(self.q_net.state_dict())\n",
        "        self.optimizer = optim.Adam(self.q_net.parameters(), lr=self.args.learning_rate, eps=1e-5)\n",
        "                \n",
        "    def get_action(self, state, exploration=True):\n",
        "        with torch.no_grad():\n",
        "            return np.random.randint(self.args.action_dim) if np.random.sample() < self.epsilon and exploration else torch.argmax(self.q_net(state)).item()\n",
        "\n",
        "    def anneal(self, step):\n",
        "        self.epsilon = ((self.args.epsilon_limit - 1)/self.args.anneal_steps) * step + 1 if step < self.args.anneal_steps else self.epsilon\n",
        "\n",
        "    def update(self):\n",
        "        states, actions, rewards, next_states, terminals = self.buffer.sample()\n",
        "        with torch.no_grad():\n",
        "            q_ns = torch.max(self.q_target(next_states), dim=1)[0].unsqueeze(1)\n",
        "        q_targets = rewards + (1-terminals) * self.args.discount * q_ns\n",
        "        self.optimizer.zero_grad()\n",
        "        q_values = self.q_net(states).gather(1, actions)\n",
        "        loss = nn.functional.smooth_l1_loss(q_values, q_targets)\n",
        "        loss.backward()\n",
        "        self.optimizer.step()\n",
        "    \n",
        "    def update_target(self):\n",
        "        self.q_target.load_state_dict(self.q_net.state_dict())\n",
        "        \n",
        "    def evaluate(self, samples):\n",
        "        with torch.no_grad():\n",
        "            env_test = gym.make(self.args.gym_id)\n",
        "            eval_reward = 0\n",
        "            for i in range(samples):\n",
        "                state = env_test.reset()\n",
        "                episode_reward = 0\n",
        "                while True:\n",
        "                    action = self.get_action(torch.tensor(state).unsqueeze(0).to(self.args.device), False)\n",
        "                    next_state, reward, terminal, _ = env_test.step(action)\n",
        "                    episode_reward += reward\n",
        "                    state = next_state\n",
        "                    if terminal:\n",
        "                        eval_reward += episode_reward/samples\n",
        "                        break\n",
        "        return eval_reward\n",
        "    \n",
        "    def reset(self):\n",
        "        self.buffer = ExperienceBuffer(self.args)\n",
        "        self.epsilon = 1\n",
        "        self.q_net = QNetwork(self.args).to(self.args.device)\n",
        "        self.q_target = QNetwork(self.args).to(self.args.device)\n",
        "        self.q_target.load_state_dict(self.q_net.state_dict())\n",
        "        self.optimizer = optim.Adam(self.q_net.parameters(), lr=self.args.learning_rate, eps=1e-5)"
      ],
      "id": "28b71037"
    },
    {
      "cell_type": "markdown",
      "metadata": {
        "id": "f539a644"
      },
      "source": [
        "Finally, we provide code for agent training:"
      ],
      "id": "f539a644"
    },
    {
      "cell_type": "code",
      "execution_count": 12,
      "metadata": {
        "id": "385a9330"
      },
      "outputs": [],
      "source": [
        "def train_agent(args, agent):\n",
        "    results = np.zeros((args.total_timesteps//args.evaluate_freq, args.samples))\n",
        "    for seed in range(args.samples):\n",
        "        env = gym.make(args.gym_id)\n",
        "        agent.reset()\n",
        "        set_seed_everywhere(env, seed)\n",
        "        state = env.reset()\n",
        "        for step in range(args.total_timesteps):\n",
        "            if step == args.init_steps:\n",
        "                start_time = time.time()\n",
        "            action = agent.get_action(torch.tensor(state).unsqueeze(0).to(args.device))\n",
        "            next_state, reward, terminal, _ = env.step(action)\n",
        "            agent.buffer.add(state, action, reward, next_state, terminal)\n",
        "            agent.anneal(step)\n",
        "            state = next_state\n",
        "            if step >= args.init_steps:\n",
        "                agent.update()\n",
        "                if (step + 1) % args.target_update_freq == 0:\n",
        "                    agent.update_target()\n",
        "                if (step + 1) % args.evaluate_freq == 0:\n",
        "                    eval_reward = agent.evaluate(args.evaluate_samples)\n",
        "                    results[step//args.evaluate_freq, seed] = eval_reward\n",
        "                    print(\"\\rStep: {} Evaluation reward: {:.2f} Samples per second: {:}\".format(step, eval_reward, int((step-args.init_steps)/(time.time()-start_time))), end=\"\")\n",
        "            if terminal:\n",
        "                state = env.reset()\n",
        "                episode_reward = 0\n",
        "    return results"
      ],
      "id": "385a9330"
    },
    {
      "cell_type": "code",
      "source": [
        "!pip install gym pyvirtualdisplay > /dev/null 2>&1\n"
      ],
      "metadata": {
        "id": "_3W2NppDlZ0B"
      },
      "id": "_3W2NppDlZ0B",
      "execution_count": 22,
      "outputs": []
    },
    {
      "cell_type": "code",
      "source": [
        "def as_tensor(data: np.ndarray, dtype=torch.float32, batch: bool = False) -> torch.Tensor:\n",
        "    tensor = torch.tensor(data, dtype=dtype, device=DEVICE)\n",
        "    if batch and len(tensor.shape) == 1:\n",
        "        tensor = tensor.unsqueeze(dim=1)\n",
        "    return tensor\n"
      ],
      "metadata": {
        "id": "FZvBxwZamolQ"
      },
      "id": "FZvBxwZamolQ",
      "execution_count": 26,
      "outputs": []
    },
    {
      "cell_type": "code",
      "source": [
        "from pyvirtualdisplay import Display\n",
        "from pathlib import Path\n",
        "import imageio\n",
        "\n",
        "\n",
        "def make_gif(env_id, actor = None, n_episodes: int = 1, gif_name: str = \"agent.gif\", dir: str = \"./gifs\"):\n",
        "    \"\"\" \n",
        "    Create a gif of an agent interacting with an environment.\n",
        "    Note: It does not always work in Google colab, and crashes from time to time.\n",
        "    \"\"\"\n",
        "    display = Display(visible=0, size=(1400, 900))\n",
        "    display.start()\n",
        "\n",
        "    Path(dir).mkdir(parents=True, exist_ok=True)\n",
        "    filename = Path(dir).joinpath(gif_name)\n",
        "\n",
        "    images = []\n",
        "    env = gym.make(env_id)\n",
        "    for _ in range(n_episodes):\n",
        "        obs, done = env.reset(), False\n",
        "        images.append(env.render(\"rgb_array\"))\n",
        "        while not done:\n",
        "            if actor:\n",
        "                with torch.no_grad():\n",
        "                    action = actor(as_tensor(obs)).numpy()\n",
        "            else:\n",
        "                action = env.action_space.sample() \n",
        "            obs, reward, done, _ = env.step(action) \n",
        "            images.append(env.render(\"rgb_array\"))\n",
        "\n",
        "    imageio.mimsave(filename, images, fps=29)"
      ],
      "metadata": {
        "id": "ehVXxhxLlOiY"
      },
      "id": "ehVXxhxLlOiY",
      "execution_count": 25,
      "outputs": []
    },
    {
      "cell_type": "markdown",
      "metadata": {
        "id": "ff186311"
      },
      "source": [
        "Note that you should not change the code above - you should be able to perform all tasks by creating new classes. We train the DQN agent with given hyperparameters and inspect the results:"
      ],
      "id": "ff186311"
    },
    {
      "cell_type": "code",
      "execution_count": 24,
      "metadata": {
        "id": "938d29b1",
        "colab": {
          "base_uri": "https://localhost:8080/",
          "height": 34
        },
        "outputId": "6e11046e-fdb0-4e53-9227-694034cc11b7"
      },
      "outputs": [
        {
          "output_type": "stream",
          "name": "stdout",
          "text": [
            "Step: 69999 Evaluation reward: -88.52 Samples per second: 121"
          ]
        },
        {
          "output_type": "display_data",
          "data": {
            "text/plain": [
              "<IPython.core.display.Javascript object>"
            ],
            "application/javascript": [
              "\n",
              "    async function download(id, filename, size) {\n",
              "      if (!google.colab.kernel.accessAllowed) {\n",
              "        return;\n",
              "      }\n",
              "      const div = document.createElement('div');\n",
              "      const label = document.createElement('label');\n",
              "      label.textContent = `Downloading \"${filename}\": `;\n",
              "      div.appendChild(label);\n",
              "      const progress = document.createElement('progress');\n",
              "      progress.max = size;\n",
              "      div.appendChild(progress);\n",
              "      document.body.appendChild(div);\n",
              "\n",
              "      const buffers = [];\n",
              "      let downloaded = 0;\n",
              "\n",
              "      const channel = await google.colab.kernel.comms.open(id);\n",
              "      // Send a message to notify the kernel that we're ready.\n",
              "      channel.send({})\n",
              "\n",
              "      for await (const message of channel.messages) {\n",
              "        // Send a message to notify the kernel that we're ready.\n",
              "        channel.send({})\n",
              "        if (message.buffers) {\n",
              "          for (const buffer of message.buffers) {\n",
              "            buffers.push(buffer);\n",
              "            downloaded += buffer.byteLength;\n",
              "            progress.value = downloaded;\n",
              "          }\n",
              "        }\n",
              "      }\n",
              "      const blob = new Blob(buffers, {type: 'application/binary'});\n",
              "      const a = document.createElement('a');\n",
              "      a.href = window.URL.createObjectURL(blob);\n",
              "      a.download = filename;\n",
              "      div.appendChild(a);\n",
              "      a.click();\n",
              "      div.remove();\n",
              "    }\n",
              "  "
            ]
          },
          "metadata": {}
        },
        {
          "output_type": "display_data",
          "data": {
            "text/plain": [
              "<IPython.core.display.Javascript object>"
            ],
            "application/javascript": [
              "download(\"download_38672bc6-b510-43a7-b504-59d22e5d2157\", \"results_dqn.npy\", 1808)"
            ]
          },
          "metadata": {}
        },
        {
          "output_type": "execute_result",
          "data": {
            "text/plain": [
              "-16.194433780933302"
            ]
          },
          "metadata": {},
          "execution_count": 24
        }
      ],
      "source": [
        "agent = DQN(args)\n",
        "results_dqn = train_agent(args, agent)\n",
        "download_numpy(\"results_dqn.npy\", results_dqn)\n",
        "results_dqn.mean(1)[10:].mean()\n",
        "#results_dqn.mean(1)"
      ],
      "id": "938d29b1"
    },
    {
      "cell_type": "markdown",
      "metadata": {
        "id": "3376e3e2"
      },
      "source": [
        "As you can see, the vanilla DQN does not yield optimal performance given the budget and exploration constraints. Below is the first module that you have to add to the DQN algorithm."
      ],
      "id": "3376e3e2"
    },
    {
      "cell_type": "markdown",
      "metadata": {
        "id": "64e5bfc1"
      },
      "source": [
        "## 1. Double DQN\n",
        "\n",
        "The loss function of vanilla DQN is defined as the average of single transition temporal difference (TD) error over $B$ transitions:\n",
        "\n",
        "$$\n",
        "\\mathcal{L}_{\\theta} = \\frac{1}{B} \\sum_{i=1}^{B} \\bigl( \\mathrm{TD}~(s_i, a_i, s^{'}_{i}) \\bigr)^{2}\n",
        "$$\n",
        "\n",
        "With transitions $(s_i, a_i, s^{'}_{i})$ sampled uniformly from the experience buffer. The transition TD error is defined through Bellman optimality condition:\n",
        "\n",
        "$$\n",
        "\\mathrm{TD}~(s_i, a_i, s^{'}_{i}) = Q_{\\theta}~(s_i,a_i) - \\bigl(r_{(s_i,a_i,s_{i}^{'})} + \\gamma ~ \\underset{a^{'}_{i} \\sim \\bar{Q}_{\\theta}}{\\mathrm{max}} ~ \\bar{Q}_{\\theta}~(s_{i}^{'},a_{i}^{'}) \\bigr)\n",
        "$$\n",
        "\n",
        "Where $Q_{\\theta}$ and $\\bar{Q}_{\\theta}$ denote learned and target Q-networks respectively. In the setup above $a_{i}^{'}$ is chosen via maximum operation over the output of the target Q-network for $s^{'}_{i}$. Using a single network to choose the best action and estimate its Q-value promotes overestimated values. Using such values for supervision leads in turn to general overoptimism of the Q-network and is known to sabotage the training.\n",
        "\n",
        "In Double Deep Q-Network (DDQN) [(van Hasselt 2015)](https://arxiv.org/pdf/1509.06461.pdf) proposes using two Q-networks in the process of target estimation: one Q-network to choose the maximum valued action from (i.e. *argmax*); and the second one to estimate value of the chosen action (i.e. Q-value estimation for the *argmax* result). Authors show that in DDQN estimated Q-values are less likely to be inflated and lead to more stable learning and better policies. We can use $Q_{\\theta}$ and $\\bar{Q}_{\\theta}$ to augment DQN into DDQN: \n",
        "\n",
        "$$\n",
        "\\mathrm{TD}~(s_i, a_i, s^{'}_{i}) = Q_{\\theta}~(s_i,a_i) - \\bigl(r_{(s_i,a_i,s_{i}^{'})} + \\gamma ~ \\bar{Q}_{\\theta}~(s_{i}^{'},\\underset{a^{'}_{i} \\sim Q_{\\theta}}{\\mathrm{argmax}} ~ Q_{\\theta} (s_{i}^{'}, a^{'}_{i})  \\bigr)\n",
        "$$\n",
        "\n",
        "Such definition of DDQN leads to very small code changes w.r.t. vanilla DQN implementation. Although $Q_{\\theta}$ and $\\bar{Q}_{\\theta}$ are not fully decoupled, using them leads to good performance increase without introduction of additional networks."
      ],
      "id": "64e5bfc1"
    },
    {
      "cell_type": "markdown",
      "metadata": {
        "id": "19bee972"
      },
      "source": [
        "### Task 1.1: Implement and train DDQN \n",
        "Implement the *update* method for **DDQN** class (no other method of the base class should be changed): "
      ],
      "id": "19bee972"
    },
    {
      "cell_type": "code",
      "execution_count": 27,
      "metadata": {
        "id": "c7b682c0"
      },
      "outputs": [],
      "source": [
        "class DDQN(DQN):\n",
        "    def __init__(self, args):\n",
        "        super(DDQN, self).__init__(args)\n",
        "        \n",
        "    def update(self):\n",
        "        states, actions, rewards, next_states, terminals = self.buffer.sample()\n",
        "        ###############\n",
        "\n",
        "        with torch.no_grad():\n",
        "            next_state_actions = self.q_net(next_states).max(1)[1]\n",
        "            next_state_values = self.q_target(next_states).gather(1, next_state_actions.unsqueeze(-1))\n",
        "\n",
        "        q_targets = rewards + (1-terminals) * self.args.discount * next_state_values\n",
        "        #print(f'double: {next_state_values.shape}, {q_targets.shape}')\n",
        "        ###############\n",
        "        self.optimizer.zero_grad()\n",
        "        q_values = self.q_net(states).gather(1, actions)\n",
        "        loss = nn.functional.smooth_l1_loss(q_values, q_targets)\n",
        "        loss.backward()\n",
        "        self.optimizer.step()"
      ],
      "id": "c7b682c0"
    },
    {
      "cell_type": "code",
      "execution_count": 28,
      "metadata": {
        "colab": {
          "base_uri": "https://localhost:8080/",
          "height": 34
        },
        "id": "926c3cc9",
        "outputId": "2ec6d0a0-2fb8-4ed8-a04c-414aa1e51cf6"
      },
      "outputs": [
        {
          "output_type": "stream",
          "name": "stdout",
          "text": [
            "Step: 69999 Evaluation reward: -58.24 Samples per second: 127"
          ]
        },
        {
          "output_type": "display_data",
          "data": {
            "text/plain": [
              "<IPython.core.display.Javascript object>"
            ],
            "application/javascript": [
              "\n",
              "    async function download(id, filename, size) {\n",
              "      if (!google.colab.kernel.accessAllowed) {\n",
              "        return;\n",
              "      }\n",
              "      const div = document.createElement('div');\n",
              "      const label = document.createElement('label');\n",
              "      label.textContent = `Downloading \"${filename}\": `;\n",
              "      div.appendChild(label);\n",
              "      const progress = document.createElement('progress');\n",
              "      progress.max = size;\n",
              "      div.appendChild(progress);\n",
              "      document.body.appendChild(div);\n",
              "\n",
              "      const buffers = [];\n",
              "      let downloaded = 0;\n",
              "\n",
              "      const channel = await google.colab.kernel.comms.open(id);\n",
              "      // Send a message to notify the kernel that we're ready.\n",
              "      channel.send({})\n",
              "\n",
              "      for await (const message of channel.messages) {\n",
              "        // Send a message to notify the kernel that we're ready.\n",
              "        channel.send({})\n",
              "        if (message.buffers) {\n",
              "          for (const buffer of message.buffers) {\n",
              "            buffers.push(buffer);\n",
              "            downloaded += buffer.byteLength;\n",
              "            progress.value = downloaded;\n",
              "          }\n",
              "        }\n",
              "      }\n",
              "      const blob = new Blob(buffers, {type: 'application/binary'});\n",
              "      const a = document.createElement('a');\n",
              "      a.href = window.URL.createObjectURL(blob);\n",
              "      a.download = filename;\n",
              "      div.appendChild(a);\n",
              "      a.click();\n",
              "      div.remove();\n",
              "    }\n",
              "  "
            ]
          },
          "metadata": {}
        },
        {
          "output_type": "display_data",
          "data": {
            "text/plain": [
              "<IPython.core.display.Javascript object>"
            ],
            "application/javascript": [
              "download(\"download_c793798b-0055-4966-b9d0-932262f71a17\", \"results_dqn1.npy\", 1808)"
            ]
          },
          "metadata": {}
        },
        {
          "output_type": "execute_result",
          "data": {
            "text/plain": [
              "54.02568069443718"
            ]
          },
          "metadata": {},
          "execution_count": 28
        }
      ],
      "source": [
        "agent = DDQN(args)\n",
        "results_dqn1 = train_agent(args, agent)\n",
        "download_numpy(\"results_dqn1.npy\", results_dqn1)\n",
        "results_dqn1.mean(1)[-10:].mean()\n",
        "#results_dqn1.mean(1)"
      ],
      "id": "926c3cc9"
    },
    {
      "cell_type": "markdown",
      "metadata": {
        "id": "004bf3a3"
      },
      "source": [
        "## 2. $\\mathrm{TD}_{n}$ - N-step Q-value estimation\n",
        "\n",
        "$N$-step TD ($\\mathrm{TD}_{n}$) was introduced long before neural network based RL. In regular TD, we supervise the Q-network with single-step reward summed with highest Q-value of the next state. In contrast to that, $\\mathrm{TD}_{n}$ accumulated rewards over $n$ steps and sums it with the highest Q-value of the state that occured after $n$ steps [(Sutton 1988)](http://incompleteideas.net/papers/sutton-88-with-erratum.pdf). Double DQN $\\mathrm{TD}_{n}$ loss is defined by:\n",
        "\n",
        "$$\n",
        "\\mathrm{TD}_{n}(s_i, a_i, s^{'}_{i+n}) = Q_{\\theta}~(s_i,a_i) - \\biggl(\\sum_{k=0}^{n-1} \\gamma^{k} ~ r_{(s_{i+k},a_{i+k},s_{i+k}^{'})} + \\gamma^{n} \\underset{a^{'}_{i+n} \\sim \\bar{Q}_{\\theta}}{\\mathrm{max}} ~ \\bar{Q}_{\\theta}~(s_{i+n}^{'},a_{i+n}^{'}) \\biggr)\n",
        "$$\n",
        "\n",
        "Implementing $\\mathrm{TD}_{n}$ requires changes to the ExperienceBuffer class. We will implement those changes using the **deque** module. This module will store $n$ of the most recent transitions, and will act as an intermediate between agent and buffers main storage. As compared to single step reward and $s_{i}^{'}$ stored by the simple ExperienceBuffer, the main storage of this upgraded buffer should store $n$ step rewards and $s_{i+n}^{'}$."
      ],
      "id": "004bf3a3"
    },
    {
      "cell_type": "markdown",
      "metadata": {
        "id": "f448764d"
      },
      "source": [
        "### Task 2.1 Implement NStepBuffer\n",
        "Implement *get_nstep* method for **NStepBuffer** class (no other method of base class should be changed). The *get_nstep* method should process current memory and output a tuple of five:\n",
        "* state for which the $\\mathrm{TD}_{n}$ reward was computed,\n",
        "* action chosen in that step in processed trajectory,\n",
        "* $\\mathrm{TD}_{n}$ reward computed using *nstep* rewards,\n",
        "* state reached after *nstep* steps (possibly earlier if terminal state was encountered),\n",
        "* terminal flag, that notifies wheather trajectory has reached terminal state within *nstep* steps."
      ],
      "id": "f448764d"
    },
    {
      "cell_type": "code",
      "execution_count": 29,
      "metadata": {
        "id": "12560df7"
      },
      "outputs": [],
      "source": [
        "from collections import deque\n",
        "\n",
        "class NStepBuffer(ExperienceBuffer):\n",
        "    def __init__(self, args, nstep):\n",
        "        super(NStepBuffer, self).__init__(args)\n",
        "        self.memories = deque(maxlen=nstep)\n",
        "        self.nstep = nstep \n",
        "        \n",
        "    def add(self, state, action, reward, next_state, terminal):\n",
        "        terminal_ = 1 if terminal else 0 \n",
        "        memory = (state, action, reward, next_state, terminal_)\n",
        "        self.memories.append(memory)\n",
        "        if len(self.memories) >= self.nstep:\n",
        "            state, action, reward, next_state, terminal = self.get_nstep()\n",
        "            self.states[self.idx, :] = state\n",
        "            self.actions[self.idx, :] = action\n",
        "            self.rewards[self.idx, :] = reward\n",
        "            self.next_states[self.idx, :] = next_state\n",
        "            self.terminals[self.idx, :] = terminal\n",
        "            self.idx += 1\n",
        "            if self.idx == self.args.capacity:\n",
        "                self.full = True\n",
        "                self.idx = 0\n",
        "            \n",
        "    def get_nstep(self):\n",
        "        ###############\n",
        "        state, action, reward, _, _ = self.memories[0]\n",
        "        _, _, recent_reward, next_state, terminal = self.memories[-1]\n",
        "        new_reward = reward\n",
        "        for i in range(1, self.nstep):\n",
        "          new_reward *= self.args.discount \n",
        "          new_reward += self.memories[i][2]\n",
        "        ###############\n",
        "        return state, action, new_reward, next_state, terminal"
      ],
      "id": "12560df7"
    },
    {
      "cell_type": "markdown",
      "metadata": {
        "id": "34d45601"
      },
      "source": [
        "### Task 2.2: Implement and train N-step DQN \n",
        "Implement the *update* method for **NStepDQN** class (no other method of base class should be changed): "
      ],
      "id": "34d45601"
    },
    {
      "cell_type": "code",
      "execution_count": 30,
      "metadata": {
        "id": "0d1cb4c6"
      },
      "outputs": [],
      "source": [
        "class NStepDQN(DQN):\n",
        "    def __init__(self, args, nstep=3):\n",
        "        super(NStepDQN, self).__init__(args)\n",
        "        self.nstep = nstep\n",
        "        self.buffer = NStepBuffer(args, nstep)\n",
        "        \n",
        "    def update(self):\n",
        "        states, actions, rewards, next_states, terminals = self.buffer.sample()\n",
        "        ###############\n",
        "        with torch.no_grad():\n",
        "            q_ns = torch.max(self.q_target(next_states), dim=1)[0].unsqueeze(1)\n",
        "        gamma = self.args.discount ** self.nstep\n",
        "\n",
        "        q_targets = rewards + (1-terminals) * gamma * q_ns\n",
        "        ###############\n",
        "        self.optimizer.zero_grad()\n",
        "        q_values = self.q_net(states).gather(1, actions)\n",
        "        loss = nn.functional.smooth_l1_loss(q_values, q_targets)\n",
        "        loss.backward()\n",
        "        self.optimizer.step()\n",
        "        \n",
        "    def reset(self):\n",
        "        super().reset()\n",
        "        self.buffer = NStepBuffer(self.args, self.nstep)"
      ],
      "id": "0d1cb4c6"
    },
    {
      "cell_type": "code",
      "execution_count": 31,
      "metadata": {
        "colab": {
          "base_uri": "https://localhost:8080/",
          "height": 51
        },
        "id": "e27e7900",
        "outputId": "384aa884-5c4e-432e-ce21-aab4b555d83f"
      },
      "outputs": [
        {
          "output_type": "stream",
          "name": "stdout",
          "text": [
            "Step: 69999 Evaluation reward: -6.90 Samples per second: 192"
          ]
        },
        {
          "output_type": "display_data",
          "data": {
            "text/plain": [
              "<IPython.core.display.Javascript object>"
            ],
            "application/javascript": [
              "\n",
              "    async function download(id, filename, size) {\n",
              "      if (!google.colab.kernel.accessAllowed) {\n",
              "        return;\n",
              "      }\n",
              "      const div = document.createElement('div');\n",
              "      const label = document.createElement('label');\n",
              "      label.textContent = `Downloading \"${filename}\": `;\n",
              "      div.appendChild(label);\n",
              "      const progress = document.createElement('progress');\n",
              "      progress.max = size;\n",
              "      div.appendChild(progress);\n",
              "      document.body.appendChild(div);\n",
              "\n",
              "      const buffers = [];\n",
              "      let downloaded = 0;\n",
              "\n",
              "      const channel = await google.colab.kernel.comms.open(id);\n",
              "      // Send a message to notify the kernel that we're ready.\n",
              "      channel.send({})\n",
              "\n",
              "      for await (const message of channel.messages) {\n",
              "        // Send a message to notify the kernel that we're ready.\n",
              "        channel.send({})\n",
              "        if (message.buffers) {\n",
              "          for (const buffer of message.buffers) {\n",
              "            buffers.push(buffer);\n",
              "            downloaded += buffer.byteLength;\n",
              "            progress.value = downloaded;\n",
              "          }\n",
              "        }\n",
              "      }\n",
              "      const blob = new Blob(buffers, {type: 'application/binary'});\n",
              "      const a = document.createElement('a');\n",
              "      a.href = window.URL.createObjectURL(blob);\n",
              "      a.download = filename;\n",
              "      div.appendChild(a);\n",
              "      a.click();\n",
              "      div.remove();\n",
              "    }\n",
              "  "
            ]
          },
          "metadata": {}
        },
        {
          "output_type": "display_data",
          "data": {
            "text/plain": [
              "<IPython.core.display.Javascript object>"
            ],
            "application/javascript": [
              "download(\"download_19ef0156-2d5b-406a-884b-495a9f686f57\", \"results_dqn2.npy\", 1808)"
            ]
          },
          "metadata": {}
        },
        {
          "output_type": "execute_result",
          "data": {
            "text/plain": [
              "201.96925537255592"
            ]
          },
          "metadata": {},
          "execution_count": 31
        }
      ],
      "source": [
        "agent = NStepDQN(args)\n",
        "results_dqn2 = train_agent(args, agent)\n",
        "download_numpy(\"results_dqn2.npy\", results_dqn2)\n",
        "results_dqn2.mean(1)[-10:].mean()"
      ],
      "id": "e27e7900"
    },
    {
      "cell_type": "markdown",
      "metadata": {
        "id": "327ef325"
      },
      "source": [
        "## 3. Noisy Layer Exploration\n",
        "\n",
        "$\\epsilon$-greedy exploration is not well suited for environments that require complex sequences of actions to achieve success. $\\epsilon$ value must be set manually, and finding a good value can be difficult and costly. A value that is too high will result in too much exploration and slow down learning, while a value that is too low will not allow the agent to gather enough information about the environment. Now, we will introduce a different method for exploration.\n",
        "\n",
        "Noisy linear layer, is a type of layer that can be added to a neural network [(Fortunato et al. 2017)](https://arxiv.org/pdf/1706.10295.pdf). These layers add a learned noise to the parameters of the network, which adds stochasticity to the network output. Noisy parameters can induce complex multi-step changes in estimated Q-values and the policy. Noisy linear layers can be more effective than $\\epsilon$-greedy in environments with sparse rewards or long-term dependencies, but they can also be less sample-efficient than well tuned $\\epsilon$-greedy strategy in simpler settings. \n",
        "\n",
        "Regular linear layer has $pq + q$ parameters, where $p$ and $q$ denote number of inputs and outputs in the layer. Denoting weight matrix as $W \\in \\mathbb{R}^{q \\times p}$, bias vector as $B \\in \\mathbb{R}^q$ and layer input as $X \\in \\mathbb{R}^p$, linear layer performs:\n",
        "\n",
        "$$\n",
        "Y = W X + B\n",
        "$$\n",
        "\n",
        "In contrast to that, noisy linear layer is defined as:\n",
        "\n",
        "$$\n",
        "Y = \\bigl( \\mu^W + \\sigma^W \\odot \\epsilon^W \\bigr) X + \\bigl( \\mu^B + \\sigma^B \\odot \\epsilon^B \\bigr)\n",
        "$$\n",
        "\n",
        "where $\\mu^W + \\sigma^W \\odot \\epsilon^W$ and $\\mu^B + \\sigma^B \\odot \\epsilon^B$ replace $W$ and $B$ in the first linear layer equation. The parameters $\\mu^W \\in \\mathbb{R}^{q \\times p}, \\mu^B \\in \\mathbb{R}^q, \\sigma^W \\in \\mathbb{R}^{q \\times p}$ and $\\sigma^B \\in \\mathbb{R}^q$ are learnt jointly via the single Q-network loss; $\\epsilon^W \\in \\mathbb{R}^{q \\times p}$ and $\\epsilon^B \\in \\mathbb{R}^q$ is the random noise. In principle, the random noise can be generated following any distribution, but the authors consider two strategies:\n",
        "\n",
        "1. **Independent Gaussian noise** - We generate each noise entry independently. As such, we perform $pq + q$ calls to the Gaussian noise generator. Simple, but can be costly for big networks\n",
        "\n",
        "2. **Factorised Gaussian noise** - This is a more computationally efficient way that authors use in the original paper. Instead of generating $pq + q$ entries independently, we generate two noise vectors: $\\epsilon^{p}, \\epsilon^{B} \\sim N(0, 1)$. Then, entries to $\\epsilon^W$ are given by:\n",
        "\n",
        "$$\n",
        "\\epsilon^{W}_{i,j} = f(\\epsilon^{p}_{i}) f(\\epsilon^{B}_{j}) \\quad \\text{with} \\quad f(x) = sgn(x) \\sqrt{|x|}.\n",
        "$$"
      ],
      "id": "327ef325"
    },
    {
      "cell_type": "markdown",
      "metadata": {
        "id": "18c32694"
      },
      "source": [
        "### Task 3.1 Implement NoisyLinear layer \n",
        "Implement the **NoisyLinear** class. The parameters of the noisy linear layer should be initialized with a correct initialization scheme (see section 3.2 in [Fortunato et al. 2017](https://arxiv.org/pdf/1706.10295.pdf)). The class should have the following methods:\n",
        "\n",
        "1. *get_noise* - the method should generate $\\epsilon^{W}$ and $\\epsilon^{B}$ using the factorised Gaussian noise procedure\n",
        "2. *forward* - generate noise and perform a forward pass"
      ],
      "id": "18c32694"
    },
    {
      "cell_type": "code",
      "execution_count": 35,
      "metadata": {
        "id": "d5caceb9"
      },
      "outputs": [],
      "source": [
        "from torch.autograd import Variable\n",
        "\n",
        "class NoisyLinear(nn.Module):\n",
        "    def __init__(self, input_size, output_size, std):\n",
        "        super(NoisyLinear, self).__init__()\n",
        "        self.w_mu = nn.Parameter(torch.Tensor(output_size, input_size))\n",
        "        sigma_init = 0.4 / math.sqrt(input_size)\n",
        "        self.w_sigma = nn.Parameter(torch.Tensor(output_size, input_size).fill_(sigma_init))\n",
        "        ###############\n",
        "        self.b_sigma = nn.Parameter(torch.Tensor(output_size).fill_(sigma_init))\n",
        "        self.b_mu = nn.Parameter(torch.Tensor(output_size))\n",
        "        self.register_buffer(\"epsilon_input\", torch.zeros(1, input_size))\n",
        "        self.register_buffer(\"epsilon_output\", torch.zeros(output_size, 1))\n",
        "\n",
        "        torch.nn.init.uniform_(self.w_mu, -std, std)\n",
        "        torch.nn.init.uniform_(self.b_mu, -std, std)\n",
        "\n",
        "        self.f = lambda x: torch.sign(x) * torch.sqrt(torch.abs(x))\n",
        "        ###############\n",
        "\n",
        "    def get_device(self):\n",
        "        return self.w_mu.device\n",
        "\n",
        "    def get_noise(self):\n",
        "        ###############\n",
        "        self.epsilon_input.normal_()\n",
        "        self.epsilon_output.normal_()\n",
        "\n",
        "        eps_in = self.f(self.epsilon_input.data)\n",
        "        eps_out = self.f(self.epsilon_output.data)\n",
        "\n",
        "        b_noise = self.b_mu + self.b_sigma * eps_out.t()\n",
        "        w_noise = torch.mul(eps_in, eps_out)\n",
        "        ###############\n",
        "        return Variable(w_noise), Variable(b_noise)\n",
        "\n",
        "    def forward(self, x):\n",
        "        ###############\n",
        "        w_noise, b_noise = self.get_noise()\n",
        "        return torch.nn.functional.linear(x, self.w_mu + self.w_sigma * w_noise, b_noise)\n",
        "        ###############\n",
        "\n",
        "\n",
        "class NoisyQNetwork(nn.Module):\n",
        "    def __init__(self, args, std):\n",
        "        super(NoisyQNetwork, self).__init__()\n",
        "        self.layers = nn.Sequential(\n",
        "            nn.Linear(args.state_dim, args.hidden_dim), nn.ReLU(),\n",
        "            NoisyLinear(args.hidden_dim, args.hidden_dim, std), nn.ReLU(),\n",
        "            NoisyLinear(args.hidden_dim, args.action_dim, std))\n",
        "        \n",
        "    def forward(self, x):\n",
        "        return self.layers(x)"
      ],
      "id": "d5caceb9"
    },
    {
      "cell_type": "markdown",
      "metadata": {
        "id": "a9a3c6d8"
      },
      "source": [
        "### Task 3.2 Train NoisyDQN with NoisyLayers \n"
      ],
      "id": "a9a3c6d8"
    },
    {
      "cell_type": "code",
      "execution_count": 34,
      "metadata": {
        "id": "d3511485"
      },
      "outputs": [],
      "source": [
        "class NoisyDQN(DQN):\n",
        "    def __init__(self, args, std=0.2):\n",
        "        super(NoisyDQN, self).__init__(args)\n",
        "        self.q_net = NoisyQNetwork(args, std).to(args.device)\n",
        "        self.q_target = NoisyQNetwork(args, std).to(args.device)\n",
        "        self.q_target.load_state_dict(self.q_net.state_dict())\n",
        "        self.optimizer = optim.Adam(self.q_net.parameters(), lr=args.learning_rate, eps=1e-5)\n",
        "        self.std = std\n",
        "        \n",
        "    def get_action(self, state, exploration=True):\n",
        "        return torch.argmax(self.q_net(state)).item()\n",
        "\n",
        "    def anneal(self, step):\n",
        "        pass\n",
        "    \n",
        "    def reset(self):\n",
        "        super().reset()\n",
        "        self.q_net = NoisyQNetwork(self.args, self.std).to(self.args.device)\n",
        "        self.q_target = NoisyQNetwork(self.args, self.std).to(self.args.device)\n",
        "        self.q_target.load_state_dict(self.q_net.state_dict())\n",
        "        self.optimizer = optim.Adam(self.q_net.parameters(), lr=self.args.learning_rate, eps=1e-5)"
      ],
      "id": "d3511485"
    },
    {
      "cell_type": "code",
      "execution_count": 36,
      "metadata": {
        "id": "efd5e996",
        "colab": {
          "base_uri": "https://localhost:8080/",
          "height": 51
        },
        "outputId": "3ca6c197-7790-4ce3-c18a-649eb17739f8"
      },
      "outputs": [
        {
          "output_type": "stream",
          "name": "stdout",
          "text": [
            "Step: 69999 Evaluation reward: 11.16 Samples per second: 108"
          ]
        },
        {
          "output_type": "display_data",
          "data": {
            "text/plain": [
              "<IPython.core.display.Javascript object>"
            ],
            "application/javascript": [
              "\n",
              "    async function download(id, filename, size) {\n",
              "      if (!google.colab.kernel.accessAllowed) {\n",
              "        return;\n",
              "      }\n",
              "      const div = document.createElement('div');\n",
              "      const label = document.createElement('label');\n",
              "      label.textContent = `Downloading \"${filename}\": `;\n",
              "      div.appendChild(label);\n",
              "      const progress = document.createElement('progress');\n",
              "      progress.max = size;\n",
              "      div.appendChild(progress);\n",
              "      document.body.appendChild(div);\n",
              "\n",
              "      const buffers = [];\n",
              "      let downloaded = 0;\n",
              "\n",
              "      const channel = await google.colab.kernel.comms.open(id);\n",
              "      // Send a message to notify the kernel that we're ready.\n",
              "      channel.send({})\n",
              "\n",
              "      for await (const message of channel.messages) {\n",
              "        // Send a message to notify the kernel that we're ready.\n",
              "        channel.send({})\n",
              "        if (message.buffers) {\n",
              "          for (const buffer of message.buffers) {\n",
              "            buffers.push(buffer);\n",
              "            downloaded += buffer.byteLength;\n",
              "            progress.value = downloaded;\n",
              "          }\n",
              "        }\n",
              "      }\n",
              "      const blob = new Blob(buffers, {type: 'application/binary'});\n",
              "      const a = document.createElement('a');\n",
              "      a.href = window.URL.createObjectURL(blob);\n",
              "      a.download = filename;\n",
              "      div.appendChild(a);\n",
              "      a.click();\n",
              "      div.remove();\n",
              "    }\n",
              "  "
            ]
          },
          "metadata": {}
        },
        {
          "output_type": "display_data",
          "data": {
            "text/plain": [
              "<IPython.core.display.Javascript object>"
            ],
            "application/javascript": [
              "download(\"download_cbb2cc73-23c6-46c9-b27f-57daed66d4df\", \"results_dqn3.npy\", 1808)"
            ]
          },
          "metadata": {}
        },
        {
          "output_type": "execute_result",
          "data": {
            "text/plain": [
              "47.771587329338075"
            ]
          },
          "metadata": {},
          "execution_count": 36
        }
      ],
      "source": [
        "agent = NoisyDQN(args)\n",
        "results_dqn3 = train_agent(args, agent)\n",
        "download_numpy(\"results_dqn3.npy\", results_dqn3)\n",
        "results_dqn3.mean(1)[-10:].mean()"
      ],
      "id": "efd5e996"
    },
    {
      "cell_type": "markdown",
      "metadata": {
        "id": "ba25c410"
      },
      "source": [
        "## 4. DUELING DQN\n",
        "\n",
        "State-action advantage under policy $\\pi$ is given by:\n",
        "\n",
        "$$\n",
        "A^\\pi (s, a) = Q^\\pi (s, a) - V^\\pi (s)\n",
        "$$\n",
        "\n",
        "Where $A^\\pi (s, a)$ denotes state-action advantage, $Q^\\pi (s, a)$ denotes state-action Q-value and $V^\\pi (s)$ denotes state value. Advantage is a measure of how much better a particular action is than the state value. Given optimal policy it follows that $\\underset{a}{\\mathrm{max}}~Q^\\pi (s, a) = V^\\pi (s)$ and as such $A^\\pi (s, a) \\leq 0$ if $\\pi$ is optimal. We can use advantages to redefine Q-values:\n",
        "\n",
        "$$\n",
        "Q^\\pi (s, a) = V^\\pi (s) + A^\\pi (s, a)\n",
        "$$\n",
        "\n",
        "As such, we can use separate networks to predict $A^\\pi (s, a)$ and $V^\\pi (s)$ and retrieve Q-values using the equation above. This is exactly the idea behind the Dueling Q-network architecture [(Wang et al. 2015)](https://arxiv.org/pdf/1511.06581.pdf). Decoupling Q-values into values and advantages offers some optimization benefits:\n",
        "\n",
        "1. $V^\\pi (s)$ is independent of actions, as such the value network will have less parameters than a Q-network\n",
        "2. $A^\\pi (s, a)$ although action dependent, advantages oscillate around 0 and change slowly throughout the optimization\n",
        "\n",
        "Intuitively, the dueling Q-network can more efficiently learn which states are valuable, even when the actions available in those states do not affect the environment in a meaningful way. This can be particularly helpful in large or complex environments where it may not be possible to learn good action values for every state-action pair. Dueling DQN architecture uses joint feature layer and two separate heads to represent advantage and value streams (look at Figure 1. in [(Wang et al. 2015)](https://arxiv.org/pdf/1511.06581.pdf)). To further smoothen the optimization, Dueling DQN Q-value is calculated with the following:\n",
        "\n",
        "$$\n",
        "Q_\\theta (s, a) = V_\\theta (s) + \\bigl( A_\\theta (s, a) - \\sum_{a} \\frac{A_\\theta (s, a)}{N_a} \\bigr),\n",
        "$$\n",
        "\n",
        "where $N_a$ is the number of possible actions."
      ],
      "id": "ba25c410"
    },
    {
      "cell_type": "markdown",
      "metadata": {
        "id": "d6ac9783"
      },
      "source": [
        "### Task 4.1 Implement and train DuelingQNetwork (10% points)\n",
        "Implement the **DuelingQNetwork** class and its *forward* method (no other method of the base class should be changed):"
      ],
      "id": "d6ac9783"
    },
    {
      "cell_type": "code",
      "execution_count": 32,
      "metadata": {
        "id": "89b64c39"
      },
      "outputs": [],
      "source": [
        "class DuelingQNetwork(nn.Module):\n",
        "    def __init__(self, args):\n",
        "        super(DuelingQNetwork, self).__init__()\n",
        "        self.layers = nn.Sequential(\n",
        "            nn.Linear(args.state_dim, args.hidden_dim), nn.ReLU(),\n",
        "            nn.Linear(args.hidden_dim, args.hidden_dim), nn.ReLU(),)\n",
        "        self.advantage_head = nn.Linear(args.hidden_dim, args.action_dim)\n",
        "        self.value_head = nn.Linear(args.hidden_dim, 1)\n",
        "        \n",
        "    def forward(self, x):\n",
        "        ################ \n",
        "        features = self.layers(x)\n",
        "        features = features.view(features.size(0), -1) \n",
        "        # features.shape = (1, 128)\n",
        "        values = self.value_head(features)\n",
        "        advantages = self.advantage_head(features)\n",
        "        qvals = values + (advantages - advantages.mean())\n",
        "        \n",
        "        return qvals\n",
        "        ################\n",
        "    \n",
        "class DuelingDQN(DQN):\n",
        "    def __init__(self, args):\n",
        "        super(DuelingDQN, self).__init__(args)\n",
        "        self.q_net = DuelingQNetwork(args).to(args.device)\n",
        "        self.q_target = DuelingQNetwork(args).to(args.device)\n",
        "        self.q_target.load_state_dict(self.q_net.state_dict())\n",
        "        self.optimizer = optim.Adam(self.q_net.parameters(), lr=args.learning_rate, eps=1e-5)\n",
        "        \n",
        "    def reset(self):\n",
        "        super().reset()\n",
        "        self.q_net = DuelingQNetwork(self.args).to(self.args.device)\n",
        "        self.q_target = DuelingQNetwork(self.args).to(self.args.device)\n",
        "        self.q_target.load_state_dict(self.q_net.state_dict())\n",
        "        self.optimizer = optim.Adam(self.q_net.parameters(), lr=self.args.learning_rate, eps=1e-5)"
      ],
      "id": "89b64c39"
    },
    {
      "cell_type": "code",
      "execution_count": 33,
      "metadata": {
        "id": "3a641e57",
        "colab": {
          "base_uri": "https://localhost:8080/",
          "height": 51
        },
        "outputId": "ef71c5a6-4f0d-426d-d39a-4e31762bc62a"
      },
      "outputs": [
        {
          "output_type": "stream",
          "name": "stdout",
          "text": [
            "Step: 69999 Evaluation reward: 220.83 Samples per second: 123"
          ]
        },
        {
          "output_type": "display_data",
          "data": {
            "text/plain": [
              "<IPython.core.display.Javascript object>"
            ],
            "application/javascript": [
              "\n",
              "    async function download(id, filename, size) {\n",
              "      if (!google.colab.kernel.accessAllowed) {\n",
              "        return;\n",
              "      }\n",
              "      const div = document.createElement('div');\n",
              "      const label = document.createElement('label');\n",
              "      label.textContent = `Downloading \"${filename}\": `;\n",
              "      div.appendChild(label);\n",
              "      const progress = document.createElement('progress');\n",
              "      progress.max = size;\n",
              "      div.appendChild(progress);\n",
              "      document.body.appendChild(div);\n",
              "\n",
              "      const buffers = [];\n",
              "      let downloaded = 0;\n",
              "\n",
              "      const channel = await google.colab.kernel.comms.open(id);\n",
              "      // Send a message to notify the kernel that we're ready.\n",
              "      channel.send({})\n",
              "\n",
              "      for await (const message of channel.messages) {\n",
              "        // Send a message to notify the kernel that we're ready.\n",
              "        channel.send({})\n",
              "        if (message.buffers) {\n",
              "          for (const buffer of message.buffers) {\n",
              "            buffers.push(buffer);\n",
              "            downloaded += buffer.byteLength;\n",
              "            progress.value = downloaded;\n",
              "          }\n",
              "        }\n",
              "      }\n",
              "      const blob = new Blob(buffers, {type: 'application/binary'});\n",
              "      const a = document.createElement('a');\n",
              "      a.href = window.URL.createObjectURL(blob);\n",
              "      a.download = filename;\n",
              "      div.appendChild(a);\n",
              "      a.click();\n",
              "      div.remove();\n",
              "    }\n",
              "  "
            ]
          },
          "metadata": {}
        },
        {
          "output_type": "display_data",
          "data": {
            "text/plain": [
              "<IPython.core.display.Javascript object>"
            ],
            "application/javascript": [
              "download(\"download_dbb92af7-c408-4463-934b-e0a1cfda9487\", \"results_dqn4.npy\", 1808)"
            ]
          },
          "metadata": {}
        },
        {
          "output_type": "execute_result",
          "data": {
            "text/plain": [
              "109.3104074064619"
            ]
          },
          "metadata": {},
          "execution_count": 33
        }
      ],
      "source": [
        "agent = DuelingDQN(args)\n",
        "results_dqn4 = train_agent(args, agent)\n",
        "download_numpy(\"results_dqn4.npy\", results_dqn4)\n",
        "results_dqn4.mean(1)[-10:].mean()"
      ],
      "id": "3a641e57"
    },
    {
      "cell_type": "markdown",
      "metadata": {
        "id": "730bb10e"
      },
      "source": [
        "## 5. Prioritized experience replay\n",
        "\n",
        "In regular experience replay the transitions are uniformly sampled during training and used to update the agent's learning policy. Prioritized replay [(Schaul et al. 2015)](https://arxiv.org/pdf/1511.05952.pdf) is a variant of the experience replay buffer that prioritizes transitions based on the magnitude of the TD error, which is a measure of how much the agent's estimates of the action values deviate from the actual values. Transitions with a higher TD error are more important for learning, because they represent a greater deviation from the agent's current understanding of the environment. By prioritizing transitions with a higher TD error, the agent can more effectively learn from its experiences and improve its performance.\n",
        "\n",
        "To implement a prioritized replay buffer, we need to store not only the transitions themselves, but also the TD error for each transition. We will use a queue-like mechanism to prioritize the transitions based on their TD error, and sample transitions from the buffer using a priority-based sampling distribution. New transitions arrive with maximal priority in order to guarantee that all experience is seen at least once. This allows the agent to more effectively learn from rare or unusual transitions that might be overlooked in a standard experience replay buffer.\n",
        "\n",
        "There are two ways to prioritize transitions in the experience replay buffer based on the TD error: greedy prioritization and stochastic prioritization. When using greedy prioritization, the transitions with the highest TD errors are replayed more frequently, which can lead to overfitting and overlooking certain transitions. To address this issue, we will use a stochastic prioritization method that balances between greedy prioritization and uniform random sampling introducing more diversity in the sampled transitions.\n",
        "\n",
        "$$\n",
        "P(i) = \\frac{p_i^{\\alpha} + \\epsilon}{\\sum_{j=1}^{D} (p_j^{\\alpha} + \\epsilon)}\n",
        "$$\n",
        "\n",
        "Where $p_i > 0$ denotes the priority of transition $i$ with $i, j \\in D$, $D$ denotes the buffer data, $\\epsilon$ is a small positive constant and the exponent $\\alpha$ determines how much prioritization is used, with $\\alpha = 0$ corresponding to the uniform sampling. \n",
        "\n",
        "The estimation of the expected value with stochastic updates relies on those updates corresponding to the same distribution as its expectation. Prioritized replay introduces bias because it changes this distribution in an uncontrolled fashion, and therefore changes the solution that the estimates will converge to (even if the policy and state distribution are fixed). To compensate for non-uniform sampling scheme, prioritized experience replay leverages one more mechanism - importance sampling. To this end, when calculating loss over the batch transition TD error is weighted with an importance weight:\n",
        "\n",
        "\n",
        "$$\n",
        "\\mathcal{L}_{\\theta} = \\frac{1}{B} \\sum_{i=1}^{B} \\bigl( w_i * \\mathrm{TD}~(s_i, a_i, s^{'}_{i}) \\bigr)^{2}\n",
        "$$\n",
        "\n",
        "Where:\n",
        "\n",
        "$$\n",
        "w_i = \\big( \\frac{1}{D} \\cdot \\frac{1}{P(i)} \\big)^\\beta\n",
        "$$\n",
        "\n",
        "Which given $\\beta = 1$ fully compensates for the non uniform sampling. We will anneal values of $\\alpha$ and $\\beta$ towards 1 throughout the training.\n",
        "\n",
        "Managing priorities is often implemented via a Segment Tree. It allows us to be very efficient in sampling transitions, while creating a bit of overhead in writing new values. **You are not required to use segment tree, and no points will be subtracted for not using it. However we encourage to do it for better efficiency and shorter training time.** We provide you with the OpenAI implementation of a SegmentTree below. We recommend that you read a bit about segment trees before moving forward:\n",
        "\n",
        "1. https://www.geeksforgeeks.org/segment-tree-set-1-sum-of-given-range/\n",
        "2. https://github.com/openai/baselines/blob/master/baselines/common/segment_tree.py\n",
        "\n",
        "**Note that the priority queue will be much slower even with good implementation. This slow down is much less visible in image-based RL, where other parts of the compute pipeline are greatly more demanding.**"
      ],
      "id": "730bb10e"
    },
    {
      "cell_type": "code",
      "execution_count": 37,
      "metadata": {
        "id": "cBm8-bPtp6do",
        "colab": {
          "base_uri": "https://localhost:8080/"
        },
        "outputId": "411eb298-c062-4af3-ff42-7443ffd08e9a"
      },
      "outputs": [
        {
          "output_type": "stream",
          "name": "stdout",
          "text": [
            "--2023-01-28 15:44:16--  https://raw.githubusercontent.com/openai/baselines/master/baselines/common/segment_tree.py\n",
            "Resolving raw.githubusercontent.com (raw.githubusercontent.com)... 185.199.108.133, 185.199.109.133, 185.199.110.133, ...\n",
            "Connecting to raw.githubusercontent.com (raw.githubusercontent.com)|185.199.108.133|:443... connected.\n",
            "HTTP request sent, awaiting response... 200 OK\n",
            "Length: 4899 (4.8K) [text/plain]\n",
            "Saving to: ‘segment_tree.py.1’\n",
            "\n",
            "\rsegment_tree.py.1     0%[                    ]       0  --.-KB/s               \rsegment_tree.py.1   100%[===================>]   4.78K  --.-KB/s    in 0s      \n",
            "\n",
            "2023-01-28 15:44:16 (50.5 MB/s) - ‘segment_tree.py.1’ saved [4899/4899]\n",
            "\n"
          ]
        }
      ],
      "source": [
        "!wget https://raw.githubusercontent.com/openai/baselines/master/baselines/common/segment_tree.py\n",
        "from segment_tree import MinSegmentTree, SumSegmentTree"
      ],
      "id": "cBm8-bPtp6do"
    },
    {
      "cell_type": "markdown",
      "metadata": {
        "id": "697c07aa"
      },
      "source": [
        "### Task 5.1 Implement PrioritizedBuffer \n",
        "Implement the **PrioritizedBuffer** class and the following methods:\n",
        "\n",
        "1. *add* - it should also manage the priorities in the trees\n",
        "2. *sample* - it should samples according to priorities and return importance weights\n",
        "3. *update_priorities* - it should update priorities in trees after performing DQN update\n",
        "4. *get_idx* - it should sample indices according to probability ditribution\n",
        "5. *calculate_weights* - it should calculate importance weights for given index\n",
        "\n",
        "No other method of the base class should be changed. "
      ],
      "id": "697c07aa"
    },
    {
      "cell_type": "code",
      "execution_count": 60,
      "metadata": {
        "id": "c9ea6c31"
      },
      "outputs": [],
      "source": [
        "class PrioritizedBuffer(ExperienceBuffer):    \n",
        "    def __init__(self, args, alpha, beta):\n",
        "        super(PrioritizedBuffer, self).__init__(args)\n",
        "        tree_capacity = 1\n",
        "        while tree_capacity < self.args.capacity:\n",
        "            tree_capacity *= 2\n",
        "        self.beta = beta \n",
        "        self.alpha = alpha\n",
        "        ################\n",
        "        self.sum_tree = SumSegmentTree(tree_capacity)\n",
        "        self.min_tree = MinSegmentTree(tree_capacity)\n",
        "        self.maximal_priority = 1.0\n",
        "        self.eps = 0.00000001\n",
        "        ################\n",
        "        \n",
        "    def add(self, state, action, reward, next_state, terminal):\n",
        "        ################\n",
        "        idx = self.idx\n",
        "        super().add(state, action, reward, next_state, terminal)\n",
        "        transition_priority = self.maximal_priority\n",
        "        self.sum_tree[idx] = transition_priority ** self.alpha\n",
        "        self.min_tree[idx] = transition_priority ** self.alpha\n",
        "        ################\n",
        "                \n",
        "    def sample(self):\n",
        "        ################\n",
        "        idxes = self.get_idx()\n",
        "\n",
        "        states = torch.from_numpy(self.states[idxes]).to(self.args.device)\n",
        "        actions = torch.from_numpy(self.actions[idxes]).to(self.args.device)\n",
        "        rewards = torch.from_numpy(self.rewards[idxes]).to(self.args.device)\n",
        "        next_states = torch.from_numpy(self.next_states[idxes]).to(self.args.device)\n",
        "        terminals = torch.from_numpy(self.terminals[idxes]).long().to(self.args.device)\n",
        "\n",
        "        weights = [self.calculate_weight(idx) for idx in idxes]\n",
        "        weights = torch.tensor(weights, device=self.args.device, dtype=torch.float)\n",
        "        ################\n",
        "        return states, actions, rewards, next_states, terminals, idxes, weights\n",
        "    \n",
        "    def update_priority(self, id: int, prio: float) -> None:\n",
        "        if prio < 0:\n",
        "          print(f'p: {prio}') \n",
        "        assert prio >= 0\n",
        "        self.sum_tree[id] = prio ** self.alpha\n",
        "        self.min_tree[id] = prio ** self.alpha\n",
        "        self.maximal_priority = max(self.maximal_priority, prio)\n",
        "\n",
        "    def update_priorities(self, idx, priorities):\n",
        "        ################\n",
        "        for id, prio in zip(idx, priorities):\n",
        "            self.update_priority(id, prio)      \n",
        "        ################\n",
        "                \n",
        "    def get_idx(self):\n",
        "        ################\n",
        "        idxes = []\n",
        "        segment = self.sum_tree.sum() // self.args.batch_size\n",
        "\n",
        "        for i in range(self.args.batch_size):\n",
        "          # sample leaf and calculate its weight\n",
        "          a = segment * i\n",
        "          b = segment * (i + 1)\n",
        "          upperbound = random.uniform(a, b)\n",
        "          idx = self.sum_tree.find_prefixsum_idx(upperbound)\n",
        "          idxes.append(idx)\n",
        "            \n",
        "        ################\n",
        "        return idxes\n",
        "    \n",
        "    def calculate_weight(self, idx):\n",
        "        ################\n",
        "        \n",
        "        # get the maximum weight in the memory\n",
        "        min_probability = self.min_tree.min() / self.sum_tree.sum()  # min P(j) = min p^a / sum(p^a)\n",
        "        max_weight = (min_probability * self.args.capacity + self.eps) ** -self.beta  # max wi\n",
        "\n",
        "        p_sample = self.sum_tree[idx] / self.sum_tree.sum() # P(j) = p^a / sum(p^a)\n",
        "        weight = (self.args.capacity * p_sample + self.eps) ** -self.beta  # (N * P(j)) ^ -beta\n",
        "        normalized_weight = weight / max_weight  # wj = ((N * P(j)) ^ -beta) / max wi\n",
        "        ################\n",
        "        return normalized_weight"
      ],
      "id": "c9ea6c31"
    },
    {
      "cell_type": "markdown",
      "metadata": {
        "id": "73c22925"
      },
      "source": [
        "### Task 5.2 Train PrioritizedDQN \n",
        "Implement the **PrioritizedDQN** class and its *update* method (no other method of the base class should be changed):"
      ],
      "id": "73c22925"
    },
    {
      "cell_type": "code",
      "execution_count": 61,
      "metadata": {
        "id": "86de8b40"
      },
      "outputs": [],
      "source": [
        "class PrioritizedDQN(DQN):\n",
        "    def __init__(self, args, alpha=0.2, beta=0.2):\n",
        "        super(PrioritizedDQN, self).__init__(args)\n",
        "        self.buffer = PrioritizedBuffer(args, alpha, beta)\n",
        "        self.alpha = alpha\n",
        "        self.beta = beta\n",
        "        \n",
        "    def update(self):\n",
        "        states, actions, rewards, next_states, terminals, idx, weights = self.buffer.sample()\n",
        "        with torch.no_grad():\n",
        "            q_ns = torch.max(self.q_target(next_states), dim=1)[0].unsqueeze(1)\n",
        "        q_targets = rewards + (1-terminals) * self.args.discount * q_ns\n",
        "        self.optimizer.zero_grad()\n",
        "        q_values = self.q_net(states).gather(1, actions)\n",
        "        td_errors = nn.functional.smooth_l1_loss(q_values, q_targets, reduction='none')\n",
        "        loss = torch.mean(td_errors * weights)\n",
        "        loss.backward()\n",
        "        self.optimizer.step()\n",
        "        priorities = td_errors.detach().squeeze().cpu().tolist()\n",
        "        self.buffer.update_priorities(idx, priorities)\n",
        "        \n",
        "    def anneal(self, step):\n",
        "        super().anneal(step)\n",
        "        if step < self.args.anneal_steps:\n",
        "            self.buffer.alpha = ((1 - self.alpha)/self.args.anneal_steps)*step + self.alpha\n",
        "            self.buffer.beta = ((1 - self.beta)/self.args.anneal_steps)*step + self.beta\n",
        "        else:\n",
        "            pass\n",
        "\n",
        "    def reset(self):\n",
        "        super().reset()\n",
        "        self.buffer = PrioritizedBuffer(self.args, self.alpha, self.beta)  "
      ],
      "id": "86de8b40"
    },
    {
      "cell_type": "code",
      "execution_count": null,
      "metadata": {
        "id": "96c9a63d",
        "colab": {
          "base_uri": "https://localhost:8080/"
        },
        "outputId": "780c5a33-89be-4bd7-e25b-26749ca5142a"
      },
      "outputs": [
        {
          "output_type": "stream",
          "name": "stdout",
          "text": [
            "Step: 48999 Evaluation reward: -32.31 Samples per second: 56"
          ]
        }
      ],
      "source": [
        "agent = PrioritizedDQN(args)\n",
        "results_dqn5 = train_agent(args, agent)\n",
        "download_numpy(\"results_dqn5.npy\", results_dqn5)\n",
        "results_dqn5.mean(1)[-10:].mean()"
      ],
      "id": "96c9a63d"
    },
    {
      "cell_type": "markdown",
      "metadata": {
        "id": "69b90bf3"
      },
      "source": [
        "## 6. (Almost) Rainbow\n",
        "The final thing we are left with is to combine all the improvements into a single agent [(Hessel 2017)](https://arxiv.org/pdf/1710.02298.pdf). To this end, you have to implement three classes:\n",
        "\n",
        "1. **RainbowBuffer** - experience buffer that combines nstep returns and priority-based sampling\n",
        "2. **RainbowQNetwork** - Q-network that uses noisy linear layers in a dueling setup\n",
        "3. **RainbowDQN** - DQN that combines all of the covered techniques\n",
        "\n",
        "![fig1](https://production-media.paperswithcode.com/methods/Screen_Shot_2020-07-07_at_9.14.13_PM_4fMCutg.png)"
      ],
      "id": "69b90bf3"
    },
    {
      "cell_type": "markdown",
      "metadata": {
        "id": "c964c779"
      },
      "source": [
        "### Task 6.1 Implement RainbowBuffer"
      ],
      "id": "c964c779"
    },
    {
      "cell_type": "code",
      "execution_count": null,
      "metadata": {
        "id": "372a2972"
      },
      "outputs": [],
      "source": [
        "from collections import deque \n",
        "\n",
        "class RainbowBuffer(PrioritizedBuffer):\n",
        "    def __init__(self, args, nstep, alpha, beta):\n",
        "        super(RainbowBuffer, self).__init__(args, alpha, beta)\n",
        "        self.memories = deque(maxlen=nstep)\n",
        "        self.nstep = nstep \n",
        "        self.nstep_idx = 0\n",
        "        \n",
        "    def add(self, state, action, reward, next_state, terminal):\n",
        "        ################\n",
        "        terminal_ = 1 if terminal else 0 \n",
        "        memory = (state, action, reward, next_state, terminal_)\n",
        "        self.memories.append(memory)\n",
        "        super().add(state, action, reward, next_state, terminal)\n",
        "        if len(self.memories) >= self.nstep:\n",
        "            state, action, reward, next_state, terminal = self.get_nstep()\n",
        "            self.states[self.idx, :] = state\n",
        "            self.actions[self.idx, :] = action\n",
        "            self.rewards[self.idx, :] = reward\n",
        "            self.next_states[self.idx, :] = next_state\n",
        "            self.terminals[self.idx, :] = terminal\n",
        "            self.nstep_idx += 1\n",
        "            if self.nstep_idx == self.args.capacity:\n",
        "                self.full = True\n",
        "                self.nstep_idx = 0\n",
        "        ################\n",
        "\n",
        "\n",
        "    def get_nstep(self):\n",
        "        ###############\n",
        "        state, action, reward, _, _ = self.memories[0]\n",
        "        _, _, recent_reward, next_state, terminal = self.memories[-1]\n",
        "        new_reward = reward\n",
        "        for i in range(1, self.nstep):\n",
        "          new_reward *= self.args.discount \n",
        "          new_reward += self.memories[i][2]\n",
        "        ###############\n",
        "        return state, action, new_reward, next_state, terminal\n",
        "            \n",
        "    def sample(self):\n",
        "        ################\n",
        "        return super().sample()\n",
        "        ################\n",
        "        #return states, actions, rewards, next_states, terminals, idx, weights\n",
        "\n",
        "\n",
        "    def update_priorities(self, idx, priorities):\n",
        "        ################\n",
        "        super().update_priorities(idx, priorities)\n",
        "        ################"
      ],
      "id": "372a2972"
    },
    {
      "cell_type": "markdown",
      "metadata": {
        "id": "759b4524"
      },
      "source": [
        "### Task 6.2 Implement RainbowQNetwork class "
      ],
      "id": "759b4524"
    },
    {
      "cell_type": "code",
      "execution_count": null,
      "metadata": {
        "id": "9889f6ee"
      },
      "outputs": [],
      "source": [
        "class RainbowQNetwork(nn.Module):\n",
        "    def __init__(self, args, std):\n",
        "        super(RainbowQNetwork, self).__init__()\n",
        "        ################\n",
        "        self.layers = nn.Sequential(\n",
        "            nn.Linear(args.state_dim, args.hidden_dim), nn.ReLU(),\n",
        "            NoisyLinear(args.hidden_dim, args.hidden_dim, std), nn.ReLU(),\n",
        "            NoisyLinear(args.hidden_dim, args.action_dim, std))\n",
        "        self.advantage_head = nn.Linear(args.hidden_dim, args.action_dim)\n",
        "        self.value_head = nn.Linear(args.hidden_dim, 1)\n",
        "        ################\n",
        "        \n",
        "    def forward(self, x):\n",
        "        ################ \n",
        "        features = self.layers(x)\n",
        "        features = features.view(features.size(0), -1) \n",
        "        # features.shape = (1, 128)\n",
        "        values = self.value_head(features)\n",
        "        advantages = self.advantage_head(features)\n",
        "        qvals = values + (advantages - advantages.mean())\n",
        "        \n",
        "        return qvals\n",
        "        ################"
      ],
      "id": "9889f6ee"
    },
    {
      "cell_type": "markdown",
      "metadata": {
        "id": "12406eb1"
      },
      "source": [
        "### Task 6.2 Implement and train RainbowDQN agent "
      ],
      "id": "12406eb1"
    },
    {
      "cell_type": "code",
      "execution_count": null,
      "metadata": {
        "id": "f3ee6f39"
      },
      "outputs": [],
      "source": [
        "class RainbowDQN(DQN):\n",
        "    def __init__(self, args, nstep=3, std=0.2, alpha=0.2, beta=0.2):\n",
        "        super(RainbowDQN, self).__init__(args)\n",
        "        self.buffer = RainbowBuffer(args, nstep, alpha, beta)\n",
        "        self.alpha = alpha\n",
        "        self.beta = beta\n",
        "        self.nstep = nstep \n",
        "        self.q_net = RainbowQNetwork(args, std).to(args.device)\n",
        "        self.q_target = RainbowQNetwork(args, std).to(args.device)\n",
        "        self.q_target.load_state_dict(self.q_net.state_dict())\n",
        "        self.optimizer = optim.Adam(self.q_net.parameters(), lr=args.learning_rate, eps=1e-5)\n",
        "        self.std = std\n",
        "        \n",
        "    def update(self):\n",
        "        ################\n",
        "        states, actions, rewards, next_states, terminals, idx, weights = self.buffer.sample()\n",
        "        with torch.no_grad():\n",
        "            #q_ns = torch.max(self.q_target(next_states), dim=1)[0].unsqueeze(1)\n",
        "            next_state_actions = self.q_net(next_states).max(1)[1]\n",
        "            q_ns = self.q_target(next_states).gather(1, next_state_actions.unsqueeze(-1))\n",
        "        q_targets = rewards + (1-terminals) * self.args.discount * q_ns\n",
        "        self.optimizer.zero_grad()\n",
        "        q_values = self.q_net(states).gather(1, actions)\n",
        "        td_errors = nn.functional.smooth_l1_loss(q_values, q_targets, reduction='none')\n",
        "        loss = torch.mean(td_errors * weights)\n",
        "        loss.backward()\n",
        "        self.optimizer.step()\n",
        "        priorities = td_errors.detach().squeeze().cpu().tolist()\n",
        "        self.buffer.update_priorities(idx, priorities)\n",
        "        ################\n",
        "        \n",
        "    def anneal(self, step):\n",
        "        if step < self.args.anneal_steps and step > self.args.init_steps:\n",
        "            self.buffer.alpha = ((1 - self.alpha)/self.args.anneal_steps)*step + self.alpha\n",
        "            self.buffer.beta = ((1 - self.beta)/self.args.anneal_steps)*step + self.beta\n",
        "        else:\n",
        "            pass\n",
        "\n",
        "    def get_action(self, state, exploration=True):\n",
        "        return torch.argmax(self.q_net(state)).item()\n",
        "    \n",
        "    def reset(self):\n",
        "        self.buffer = RainbowBuffer(self.args, self.nstep, self.alpha, self.beta) \n",
        "        self.q_net = RainbowQNetwork(self.args, self.std).to(self.args.device)\n",
        "        self.q_target = RainbowQNetwork(self.args, self.std).to(self.args.device)\n",
        "        self.q_target.load_state_dict(self.q_net.state_dict())\n",
        "        self.optimizer = optim.Adam(self.q_net.parameters(), lr=self.args.learning_rate, eps=1e-5)"
      ],
      "id": "f3ee6f39"
    },
    {
      "cell_type": "code",
      "execution_count": null,
      "metadata": {
        "id": "feb1c384"
      },
      "outputs": [],
      "source": [
        "agent = RainbowDQN(args)\n",
        "results_dqn6 = train_agent(args, agent)\n",
        "download_numpy(\"results_dqn6.npy\", results_dqn6)\n",
        "results_dqn6.mean(1)[-10:].mean()"
      ],
      "id": "feb1c384"
    },
    {
      "cell_type": "markdown",
      "metadata": {
        "id": "5a39b8c3"
      },
      "source": [
        "# Task 7 Plot collected results\n",
        "Plot evaluation performance with respect to number of frames for all versions of DQN (including raw one). Draw 90% confidence intervals for each line (see seaborn.lineplot)."
      ],
      "id": "5a39b8c3"
    },
    {
      "cell_type": "code",
      "source": [
        "import seaborn as sns\n",
        "import pandas as pd\n",
        "import matplotlib.pyplot as plt\n",
        "def plot_lists(res_list, step_range):\n",
        "  for res in res_list:\n",
        "    data_to_plot = pd.DataFrame({\"Step\":step_range, \"Evaluation reward\":res})\n",
        "    sns.lineplot(x = \"Step\", y = \"Evaluation reward\", data=data_to_plot, err_style=\"bars\", palette = \"Set1\")\n",
        "plt.show()"
      ],
      "metadata": {
        "id": "ECRq4pRUUjaA"
      },
      "id": "ECRq4pRUUjaA",
      "execution_count": 43,
      "outputs": []
    },
    {
      "cell_type": "code",
      "source": [
        "res = [np.load(\"results_dqn.npy\")]\n",
        "for i in range(1, 6):\n",
        "  name = f'results_dqn{i}.npy'\n",
        "  res.append(np.load(name))"
      ],
      "metadata": {
        "id": "sltjbHXlHbrC"
      },
      "id": "sltjbHXlHbrC",
      "execution_count": 44,
      "outputs": []
    },
    {
      "cell_type": "code",
      "source": [
        "#results = [results_dqn, results_dqn1, results_dqn2, results_dqn3, results_dqn4, results_dqn5, results_dqn6]\n",
        "print(\"blah\")"
      ],
      "metadata": {
        "id": "m0nkDKtNTO4c",
        "colab": {
          "base_uri": "https://localhost:8080/"
        },
        "outputId": "9f342166-ad8b-441e-ea74-c6569e4560af"
      },
      "id": "m0nkDKtNTO4c",
      "execution_count": 3,
      "outputs": [
        {
          "output_type": "stream",
          "name": "stdout",
          "text": [
            "blah\n"
          ]
        }
      ]
    },
    {
      "cell_type": "code",
      "source": [
        "def p(idx):\n",
        "  print(f'idx: {idx}')\n",
        "  for r in res[idx]:\n",
        "    mean = np.mean(r)\n",
        "    if mean != 0:\n",
        "      print(mean)"
      ],
      "metadata": {
        "id": "mz-teqJiiqGJ"
      },
      "id": "mz-teqJiiqGJ",
      "execution_count": 45,
      "outputs": []
    },
    {
      "cell_type": "code",
      "source": [
        "print(p(0))"
      ],
      "metadata": {
        "id": "_RLV5ZOrUdwH",
        "colab": {
          "base_uri": "https://localhost:8080/"
        },
        "outputId": "deaeefe8-4585-4884-f472-e0c1af4afed0"
      },
      "id": "_RLV5ZOrUdwH",
      "execution_count": 46,
      "outputs": [
        {
          "output_type": "stream",
          "name": "stdout",
          "text": [
            "idx: 0\n",
            "-79.04785221957198\n",
            "-161.42282340410046\n",
            "-79.62464369651737\n",
            "-64.92079138404327\n",
            "-84.11778830157643\n",
            "-95.69321840922682\n",
            "-157.52917076355064\n",
            "-191.10116749047026\n",
            "-100.19625201629617\n",
            "-102.509012595751\n",
            "-51.757616543687256\n",
            "36.49405951053822\n",
            "4.96365467865535\n",
            "35.2488357283961\n",
            "21.111308955451708\n",
            "-36.72958001933449\n",
            "66.02830178424209\n",
            "80.74278247196831\n",
            "-29.86258632933517\n",
            "-73.69114102679953\n",
            "49.03497126218938\n",
            "-38.785742287520016\n",
            "-7.8114967488759435\n",
            "37.19403709489154\n",
            "9.909766067057797\n",
            "81.95243856052923\n",
            "32.434697875409974\n",
            "78.3314900526676\n",
            "33.270887862486\n",
            "124.8454259789841\n",
            "61.73295022883067\n",
            "-13.741621224115896\n",
            "84.72115763126857\n",
            "32.73508582421267\n",
            "42.73383974668294\n",
            "80.89540759806651\n",
            "112.39523342154064\n",
            "78.86171451553952\n",
            "43.173837311831676\n",
            "42.86713550524633\n",
            "69.84547330263449\n",
            "125.55935491877587\n",
            "45.96853767469248\n",
            "131.87660406034493\n",
            "69.29501588345776\n",
            "59.02715067957093\n",
            "54.24899232428758\n",
            "18.735925011049165\n",
            "-114.70474127923647\n",
            "-107.72066401947245\n",
            "-36.82615346754661\n",
            "-177.83329473286577\n",
            "-240.83832364564637\n",
            "-186.4259760061195\n",
            "-91.24707923647553\n",
            "-68.98174988050927\n",
            "-106.18901290124313\n",
            "-50.47559066113445\n",
            "-120.98626950885468\n",
            "-147.13074057762137\n",
            "None\n"
          ]
        }
      ]
    },
    {
      "cell_type": "code",
      "source": [
        "print(p(1))"
      ],
      "metadata": {
        "colab": {
          "base_uri": "https://localhost:8080/"
        },
        "id": "_W1BRZcTiB27",
        "outputId": "a0f2501e-34d7-4b90-b392-9b9401bf9bcb"
      },
      "id": "_W1BRZcTiB27",
      "execution_count": 47,
      "outputs": [
        {
          "output_type": "stream",
          "name": "stdout",
          "text": [
            "idx: 1\n",
            "-66.2436912405556\n",
            "-90.32107600036765\n",
            "-40.2871613638091\n",
            "-67.43039008560937\n",
            "-171.51533983120865\n",
            "-76.91821240177546\n",
            "-70.0112631113847\n",
            "-80.23731688994356\n",
            "-81.48078804361494\n",
            "-87.19561080127535\n",
            "-121.58169037609714\n",
            "-1.0119482038682956\n",
            "-33.49252110004469\n",
            "-15.081967667584138\n",
            "-34.925686198884506\n",
            "35.57005961993313\n",
            "-39.4449818351183\n",
            "-102.60231881317956\n",
            "50.500015652117064\n",
            "13.458750164812537\n",
            "33.73922111687483\n",
            "105.34170677479939\n",
            "7.49943678111012\n",
            "-18.18101979482594\n",
            "-48.67196812976823\n",
            "69.72576534193138\n",
            "161.67105705897515\n",
            "38.27928761324403\n",
            "-45.22201235295511\n",
            "37.204376881897225\n",
            "-42.26716326248259\n",
            "149.14980182851787\n",
            "25.774552248186342\n",
            "102.73515735370758\n",
            "92.50199187000503\n",
            "59.568878259081906\n",
            "35.89176923492532\n",
            "85.93717665519019\n",
            "94.51690373881236\n",
            "36.94018432758795\n",
            "46.18612635841893\n",
            "30.421626182652318\n",
            "59.154619354175054\n",
            "83.74159106462139\n",
            "64.5016711835256\n",
            "64.47558585518273\n",
            "136.38094555903663\n",
            "15.027933681289428\n",
            "63.919673487745946\n",
            "74.56511920252628\n",
            "78.35966744972627\n",
            "-5.717309685532771\n",
            "61.011490818589294\n",
            "63.68737133094037\n",
            "60.62230897090013\n",
            "86.98168875959232\n",
            "18.841208712859196\n",
            "38.71344420546101\n",
            "48.924545332005415\n",
            "88.83239104983055\n",
            "None\n"
          ]
        }
      ]
    },
    {
      "cell_type": "code",
      "source": [
        "p(2)"
      ],
      "metadata": {
        "colab": {
          "base_uri": "https://localhost:8080/"
        },
        "id": "kd9Bkkvlj5Vb",
        "outputId": "5418cc14-bd9f-4840-b42c-6de746d38b45"
      },
      "id": "kd9Bkkvlj5Vb",
      "execution_count": 48,
      "outputs": [
        {
          "output_type": "stream",
          "name": "stdout",
          "text": [
            "idx: 2\n",
            "-229.01145224264974\n",
            "-137.9638990472706\n",
            "-138.80404920454814\n",
            "-172.1621540083995\n",
            "-155.78841933883345\n",
            "-139.53947145873093\n",
            "-123.30326854521142\n",
            "-133.90299837314026\n",
            "-95.93903198477877\n",
            "-112.31489725371596\n",
            "-27.024291581758547\n",
            "-23.73025239771042\n",
            "-58.458930540543996\n",
            "-221.2944632123823\n",
            "90.12173286088898\n",
            "132.5865972903106\n",
            "161.97522390374857\n",
            "143.54349776835645\n",
            "190.5706619179798\n",
            "151.57882006836704\n",
            "155.24684991160038\n",
            "210.45193019170543\n",
            "112.27071349308873\n",
            "132.35572019021672\n",
            "184.3519569028912\n",
            "205.63385131443079\n",
            "227.13177039655935\n",
            "212.43662338173567\n",
            "233.30702713401618\n",
            "172.98303116951953\n",
            "151.92602089987184\n",
            "182.88433044043316\n",
            "151.88811303519114\n",
            "166.16036157103795\n",
            "170.53904355062355\n",
            "210.60705828563155\n",
            "187.87826777899093\n",
            "157.01788332199277\n",
            "173.2215651524292\n",
            "164.04327946375426\n",
            "232.73755918899118\n",
            "213.39011941172006\n",
            "216.46352670765899\n",
            "157.25912267620166\n",
            "133.31376872802392\n",
            "159.74436744582744\n",
            "161.10329998929572\n",
            "224.63401800242772\n",
            "119.46381360726296\n",
            "162.3648711929086\n",
            "213.4690149240109\n",
            "194.48824438086808\n",
            "214.1661507581198\n",
            "232.76510594905173\n",
            "232.01578529365187\n",
            "202.48886325623153\n",
            "221.14064307667033\n",
            "159.06030349422943\n",
            "209.2429666722052\n",
            "140.8554759205201\n"
          ]
        }
      ]
    },
    {
      "cell_type": "code",
      "source": [
        "p(3) # noisy nie dziala"
      ],
      "metadata": {
        "colab": {
          "base_uri": "https://localhost:8080/"
        },
        "id": "ZSxgoAa0j7Yj",
        "outputId": "5f295b38-4de0-4e9e-a5c7-b2d2befc4a02"
      },
      "id": "ZSxgoAa0j7Yj",
      "execution_count": 49,
      "outputs": [
        {
          "output_type": "stream",
          "name": "stdout",
          "text": [
            "idx: 3\n",
            "-176.39054647326466\n",
            "-138.4528290167115\n",
            "-128.0780535277165\n",
            "-70.04147458281028\n",
            "-76.90167023475173\n",
            "-59.22542481488242\n",
            "-53.767089014815106\n",
            "-53.90963366999494\n",
            "-37.95547847253872\n",
            "-51.88024744499942\n",
            "-70.9057546811079\n",
            "-21.64423787937156\n",
            "-40.8951304617908\n",
            "-99.5117847964624\n",
            "-12.032773249745036\n",
            "1.9197030651878013\n",
            "-23.488945748287946\n",
            "-19.47384495001482\n",
            "-47.683861270832544\n",
            "19.350556679588475\n",
            "-8.312510747677692\n",
            "-51.09300111837292\n",
            "20.285183607115243\n",
            "21.42648694475974\n",
            "-20.82274284878062\n",
            "35.517678115859844\n",
            "-40.47479185930222\n",
            "3.923000669647827\n",
            "-22.97522665447084\n",
            "74.8301056961148\n",
            "99.17696910940928\n",
            "26.649626426345563\n",
            "50.81885615191353\n",
            "29.635749876288674\n",
            "29.889616528834114\n",
            "70.20864068256309\n",
            "91.91669455772455\n",
            "71.28392206048368\n",
            "80.04138142079398\n",
            "13.598513132004259\n",
            "98.5559730497471\n",
            "87.56044690061596\n",
            "78.96718105291376\n",
            "98.50466824195136\n",
            "5.060993944267783\n",
            "93.59923972781489\n",
            "88.61837945753688\n",
            "57.48655463378316\n",
            "105.87081166995357\n",
            "58.99591544180226\n",
            "-11.869986745803564\n",
            "93.34702724411886\n",
            "6.6251518680759816\n",
            "106.35417066499177\n",
            "85.94486736452565\n",
            "83.7878680487136\n",
            "10.549676794015246\n",
            "45.860567792639905\n",
            "44.76176063952281\n",
            "12.35476962258049\n"
          ]
        }
      ]
    },
    {
      "cell_type": "code",
      "source": [
        "p(4)"
      ],
      "metadata": {
        "colab": {
          "base_uri": "https://localhost:8080/"
        },
        "id": "MGJbt8LIkCaK",
        "outputId": "eb3881dc-7eee-470b-e610-b78c004a1fe5"
      },
      "id": "MGJbt8LIkCaK",
      "execution_count": 50,
      "outputs": [
        {
          "output_type": "stream",
          "name": "stdout",
          "text": [
            "idx: 4\n",
            "-105.93640832176129\n",
            "-90.4340540531744\n",
            "-126.06461697954684\n",
            "-139.74232567282138\n",
            "-170.2975294213125\n",
            "-116.86600927303671\n",
            "-125.14211023388157\n",
            "-154.2644203494641\n",
            "-128.76403010180886\n",
            "-73.81153250733244\n",
            "-102.93664477439789\n",
            "-93.01410777586055\n",
            "-61.32249983314921\n",
            "-141.36385527611375\n",
            "-38.35625017908166\n",
            "10.494925599558\n",
            "-119.7104996508311\n",
            "-145.38302217200714\n",
            "-32.60303368032124\n",
            "-10.871325877937418\n",
            "-17.906732548582184\n",
            "-24.579268582118782\n",
            "31.313463575136996\n",
            "23.99211923645004\n",
            "-43.895768736962275\n",
            "-45.19620147443316\n",
            "3.5961073669057027\n",
            "38.27496357401548\n",
            "-14.569181134431068\n",
            "41.785964899184286\n",
            "9.480215716253754\n",
            "111.11930111473684\n",
            "83.81821269597482\n",
            "36.37045454048947\n",
            "46.349690185053696\n",
            "75.8539829537063\n",
            "104.50207580117001\n",
            "116.58194632096792\n",
            "136.52922323618714\n",
            "109.19041906687538\n",
            "87.60645622528818\n",
            "159.08790684330293\n",
            "58.078035826285934\n",
            "195.17348412215426\n",
            "152.81737278586482\n",
            "99.92022686151772\n",
            "150.58477987220746\n",
            "205.38160285610613\n",
            "98.28913464310686\n",
            "64.76495519519426\n",
            "79.08641218979251\n",
            "116.67491567399266\n",
            "110.18348248907193\n",
            "100.73308300078388\n",
            "134.35118452737302\n",
            "147.64632350172454\n",
            "85.29225889074287\n",
            "105.57509813676405\n",
            "81.8751578609498\n",
            "131.6861577934238\n"
          ]
        }
      ]
    },
    {
      "cell_type": "code",
      "source": [
        "p(5)"
      ],
      "metadata": {
        "colab": {
          "base_uri": "https://localhost:8080/"
        },
        "id": "Zk61cUCRkOux",
        "outputId": "1a1cc699-b592-4ac5-d65b-6241911a17ce"
      },
      "id": "Zk61cUCRkOux",
      "execution_count": 51,
      "outputs": [
        {
          "output_type": "stream",
          "name": "stdout",
          "text": [
            "idx: 5\n",
            "-88.95959323262882\n",
            "-133.62645407602298\n",
            "-156.8956749878838\n",
            "-167.99818785672645\n",
            "-198.4455566569617\n",
            "-209.24959423354835\n",
            "-145.450345554782\n",
            "-91.51968156275093\n",
            "-74.39606507867329\n",
            "-59.93063276740555\n",
            "-39.78661793350134\n",
            "-45.62645430947691\n",
            "-90.29309872894451\n",
            "-68.90029642585002\n",
            "-78.93741564276625\n",
            "-77.26545033295831\n",
            "-75.62146059746986\n",
            "-63.229129574964055\n",
            "-75.08284901471579\n",
            "-78.42284051524227\n",
            "-80.49623794535275\n",
            "-83.38724627216146\n",
            "-79.73398985592145\n",
            "-87.01671780226677\n",
            "-93.88525850947872\n",
            "-80.93820408114527\n",
            "-92.97045506099825\n",
            "-95.90076224342477\n",
            "-105.66010192140101\n",
            "-94.8312226678219\n"
          ]
        }
      ]
    },
    {
      "cell_type": "code",
      "source": [],
      "metadata": {
        "id": "IIgVnb2qkYHB"
      },
      "id": "IIgVnb2qkYHB",
      "execution_count": null,
      "outputs": []
    }
  ],
  "metadata": {
    "colab": {
      "provenance": [],
      "toc_visible": true,
      "include_colab_link": true
    },
    "gpuClass": "standard",
    "kernelspec": {
      "display_name": "atp",
      "language": "python",
      "name": "python3"
    },
    "language_info": {
      "codemirror_mode": {
        "name": "ipython",
        "version": 3
      },
      "file_extension": ".py",
      "mimetype": "text/x-python",
      "name": "python",
      "nbconvert_exporter": "python",
      "pygments_lexer": "ipython3",
      "version": "3.8.13"
    },
    "vscode": {
      "interpreter": {
        "hash": "6809863f01cf54cb8cf26991fcf8425a337722d7d35212492765d6bf47d2da35"
      }
    }
  },
  "nbformat": 4,
  "nbformat_minor": 5
}